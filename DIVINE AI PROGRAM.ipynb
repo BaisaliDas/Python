{
 "cells": [
  {
   "cell_type": "code",
   "execution_count": 1,
   "id": "5a46d6c5",
   "metadata": {},
   "outputs": [
    {
     "name": "stdout",
     "output_type": "stream",
     "text": [
      "enter km: 54.3\n",
      "entered value in miles:  33.7404453\n"
     ]
    }
   ],
   "source": [
    "#Python Program to Convert Kilometers to Miles\n",
    "km=float(input(\"enter km: \"))\n",
    "convert=0.621371\n",
    "miles=km*convert\n",
    "print(\"entered value in miles: \",miles)"
   ]
  },
  {
   "cell_type": "code",
   "execution_count": 3,
   "id": "09c6a0a4",
   "metadata": {},
   "outputs": [
    {
     "name": "stdout",
     "output_type": "stream",
     "text": [
      "Enter tempt. in Celsius: 30.3\n",
      "The tCurrent empt. of Celsius to Farenheit:  (30.3, 86.53999999999999)\n"
     ]
    }
   ],
   "source": [
    "#Python Program to Convert Celsius To Fahrenheit\n",
    "c=float(input('Enter tempt. in Celsius: ')) \n",
    "f=(c*1.8)+32\n",
    "print(\"The tCurrent empt. of Celsius to Farenheit: \",(c,f))"
   ]
  },
  {
   "cell_type": "code",
   "execution_count": 4,
   "id": "100e21d8",
   "metadata": {},
   "outputs": [
    {
     "name": "stdout",
     "output_type": "stream",
     "text": [
      "Enter a No.: -2\n",
      "No. is -ve \n"
     ]
    }
   ],
   "source": [
    "#Python Program to Check if a Number is Positive, Negative or 0\n",
    "num=int(input(\"Enter a No.: \"))\n",
    "if(num>0):\n",
    "    print(\"No. is +ve \")\n",
    "elif(num==0):\n",
    "    print(\"No. is ZERO \")\n",
    "else:\n",
    "    print(\"No. is -ve \")"
   ]
  },
  {
   "cell_type": "code",
   "execution_count": 5,
   "id": "84cb69c1",
   "metadata": {},
   "outputs": [
    {
     "name": "stdout",
     "output_type": "stream",
     "text": [
      "enter number: 89\n",
      "Number is odd\n"
     ]
    }
   ],
   "source": [
    "#Python Program to Check if a Number is Odd or Even\n",
    "num=int(input(\"enter number: \"))\n",
    "if num%2==0:\n",
    "    print(\"Number is even\")\n",
    "else:\n",
    "    print(\"Number is odd\")"
   ]
  },
  {
   "cell_type": "code",
   "execution_count": 6,
   "id": "aa542d6b",
   "metadata": {},
   "outputs": [
    {
     "name": "stdout",
     "output_type": "stream",
     "text": [
      "Enter a year: 2022\n",
      "2022 is not a leap year\n"
     ]
    }
   ],
   "source": [
    "#Python Program to Check Leap Year\n",
    "year=int(input(\"Enter a year: \"))\n",
    "if(year%4==0):\n",
    "    print(\"{0} is a leap year\".format(year))\n",
    "elif(year%100==0):\n",
    "    print(\"{0} is a leap year\".format(year))\n",
    "elif(year%400==0):\n",
    "    print(\"{0} is a leap year\".format(year))\n",
    "else:\n",
    "    print(\"{0} is not a leap year\".format(year))"
   ]
  },
  {
   "cell_type": "code",
   "execution_count": 7,
   "id": "be51c0ef",
   "metadata": {},
   "outputs": [
    {
     "name": "stdout",
     "output_type": "stream",
     "text": [
      "Enter a: 8\n",
      "Enter b: 90\n",
      "Enter c: 101\n",
      "c is largest\n"
     ]
    }
   ],
   "source": [
    "#Python Program to Find the Largest Among Three Numbers\n",
    "a=int(input(\"Enter a: \"))\n",
    "b=int(input(\"Enter b: \"))\n",
    "c=int(input(\"Enter c: \"))\n",
    "if a>b and a>c:\n",
    "    print(\"a is largest\")\n",
    "if b>a and b>c:\n",
    "    print(\"b is largest\")\n",
    "if c>a and c>b:  \n",
    "    print(\"c is largest\")"
   ]
  },
  {
   "cell_type": "code",
   "execution_count": 8,
   "id": "81c2cf18",
   "metadata": {},
   "outputs": [
    {
     "name": "stdout",
     "output_type": "stream",
     "text": [
      "Enter prime no.: 101\n",
      "101 is a prime number\n"
     ]
    }
   ],
   "source": [
    "#Write a Python Program to check if a number is prime or not\n",
    "prime=int(input(\"Enter prime no.: \"))\n",
    "if(prime>1):\n",
    "    for i in range(2,int(prime/2)+1):\n",
    "        if (prime % i) == 0:\n",
    "            print(prime,\"is not a prime number\")\n",
    "            continue\n",
    "        else:\n",
    "            print(prime,\"is a prime number\")  \n",
    "            break\n",
    "else:\n",
    "    print(prime,\"is not a prime number\")"
   ]
  },
  {
   "cell_type": "code",
   "execution_count": 10,
   "id": "dae8bbe4",
   "metadata": {},
   "outputs": [
    {
     "name": "stdout",
     "output_type": "stream",
     "text": [
      "Enter initial range:5\n",
      "Enter ending range:17\n",
      "89\n",
      "89\n",
      "89\n",
      "89\n",
      "89\n",
      "89\n",
      "89\n",
      "89\n",
      "89\n",
      "89\n",
      "89\n",
      "89\n",
      "89\n"
     ]
    }
   ],
   "source": [
    "#Python program to display all the prime numbers within an interval\n",
    "s=int(input(\"Enter initial range:\"))\n",
    "e=int(input(\"Enter ending range:\"))\n",
    "for i in range(s,e+1):\n",
    "    if(num > 1):  \n",
    "        for j in range(2,num):  \n",
    "            if(num % i) == 0:  \n",
    "                break  \n",
    "        else:  \n",
    "            print(num)  "
   ]
  },
  {
   "cell_type": "code",
   "execution_count": 14,
   "id": "b67cecda",
   "metadata": {},
   "outputs": [
    {
     "name": "stdout",
     "output_type": "stream",
     "text": [
      "Enter a no.: 9\n",
      "The factorial of 9 is 362880\n"
     ]
    }
   ],
   "source": [
    "#Python program to find the factorial of a number.\n",
    "num=int(input(\"Enter a no.: \"))\n",
    "factorial = 1\n",
    "\n",
    "if(num < 0):\n",
    "    print(\"Sorry, factorial does not exist for negative numbers\")\n",
    "elif(num == 0):\n",
    "    print(\"The factorial of 0 is 1\")\n",
    "else:\n",
    "    for i in range(1,num + 1):\n",
    "        factorial = factorial*i\n",
    "    print(\"The factorial of\",num,\"is\",factorial)"
   ]
  },
  {
   "cell_type": "code",
   "execution_count": 16,
   "id": "217a4640",
   "metadata": {},
   "outputs": [
    {
     "name": "stdout",
     "output_type": "stream",
     "text": [
      "Enter the number 15\n",
      "15 * 1 = 15\n",
      "15 * 2 = 30\n",
      "15 * 3 = 45\n",
      "15 * 4 = 60\n",
      "15 * 5 = 75\n",
      "15 * 6 = 90\n",
      "15 * 7 = 105\n",
      "15 * 8 = 120\n",
      "15 * 9 = 135\n",
      "15 * 10 = 150\n"
     ]
    }
   ],
   "source": [
    "#Python Program to Display the multiplication Table\n",
    "l=int(input(\"Enter the number \")) \n",
    "for i in range(1,11):\n",
    "    c=l*i\n",
    "    print(l,\"*\",i,\"=\",c)"
   ]
  },
  {
   "cell_type": "code",
   "execution_count": 19,
   "id": "2a675dff",
   "metadata": {},
   "outputs": [
    {
     "name": "stdout",
     "output_type": "stream",
     "text": [
      "Enter the terms 10\n",
      "Fibonacci sequence:\n",
      "0 1 1 2 3 5 8 13 21 34 "
     ]
    }
   ],
   "source": [
    "#fibonacci sequence\n",
    "terms = int(input(\"Enter the terms \"))  \n",
    "# first two intial terms  \n",
    "a = 0  \n",
    "b = 1  \n",
    "count = 0  \n",
    "if(terms <= 0):  \n",
    "    print(\"Please enter a valid integer\")  \n",
    "elif(terms == 1):  \n",
    "    print(\"Fibonacci sequence upto\",limit,\":\")  \n",
    "    print(a)  \n",
    "else:  \n",
    "    print(\"Fibonacci sequence:\")  \n",
    "    while(count < terms) :  \n",
    "        print(a, end = ' ')  \n",
    "        c = a + b    \n",
    "        a = b  \n",
    "        b = c  \n",
    "     \n",
    "        count += 1  "
   ]
  },
  {
   "cell_type": "code",
   "execution_count": 20,
   "id": "7ce79b5c",
   "metadata": {},
   "outputs": [
    {
     "name": "stdout",
     "output_type": "stream",
     "text": [
      "Enter no.: 371\n",
      "371 is an Armstrong number\n"
     ]
    }
   ],
   "source": [
    "#Python Program to Check Armstrong Number (for 3 digits)\n",
    "num=int(input(\"Enter no.: \"))  \n",
    "sum=0  \n",
    "temp=num  \n",
    "while(temp > 0):  \n",
    "    digit = temp % 10  \n",
    "    sum += digit ** 3  \n",
    "    temp //= 10  \n",
    "if(num == sum):  \n",
    "    print(num,\"is an Armstrong number\")  \n",
    "else:  \n",
    "    print(num,\"is not an Armstrong number\")  "
   ]
  },
  {
   "cell_type": "code",
   "execution_count": 27,
   "id": "53497990",
   "metadata": {},
   "outputs": [
    {
     "name": "stdout",
     "output_type": "stream",
     "text": [
      "3025\n"
     ]
    }
   ],
   "source": [
    "# find the sum of the cube of each digit\n",
    "def cube(n):\n",
    "    x=(n*(n+1)/2)\n",
    "    return (int)(x*x)\n",
    "  # Driver Function\n",
    "n=10\n",
    "print(cube(n))"
   ]
  },
  {
   "cell_type": "code",
   "execution_count": 28,
   "id": "9b3faba1",
   "metadata": {},
   "outputs": [
    {
     "name": "stdout",
     "output_type": "stream",
     "text": [
      "Enter initial range:50\n",
      "Enter ending range:80\n",
      "64\n"
     ]
    }
   ],
   "source": [
    "#Python Program to Find Armstrong Number in an Interval\n",
    "s=int(input(\"Enter initial range:\"))\n",
    "e=int(input(\"Enter ending range:\"))\n",
    "for i in range(s,e+1):\n",
    "    sum = 0  \n",
    "    temp=i  \n",
    "    while(temp > 0):  \n",
    "        digit = temp % 10  \n",
    "        sum += digit ** 3  \n",
    "        temp //= 10  \n",
    "        if(i == sum):  \n",
    "            print(i)  "
   ]
  },
  {
   "cell_type": "code",
   "execution_count": 29,
   "id": "6fcdcea2",
   "metadata": {},
   "outputs": [
    {
     "name": "stdout",
     "output_type": "stream",
     "text": [
      "Enter a number: 10\n",
      "The sum is 55\n"
     ]
    }
   ],
   "source": [
    "#Python Program to Find the Sum of Natural Numbers\n",
    "num = int(input(\"Enter a number: \"))    \n",
    "if num < 0:  \n",
    "    print(\"Enter a positive number\")  \n",
    "else:  \n",
    "    sum = 0    \n",
    "    while(num > 0):  \n",
    "        sum += num  \n",
    "        num -= 1  \n",
    "    print(\"The sum is\",sum)  "
   ]
  },
  {
   "cell_type": "code",
   "execution_count": 1,
   "id": "cd3ba27e",
   "metadata": {},
   "outputs": [
    {
     "name": "stdout",
     "output_type": "stream",
     "text": [
      "The total terms are: 10\n",
      "Powers of 2 Using Anonymous Function 0 is 1\n",
      "Powers of 2 Using Anonymous Function 1 is 2\n",
      "Powers of 2 Using Anonymous Function 2 is 4\n",
      "Powers of 2 Using Anonymous Function 3 is 8\n",
      "Powers of 2 Using Anonymous Function 4 is 16\n",
      "Powers of 2 Using Anonymous Function 5 is 32\n",
      "Powers of 2 Using Anonymous Function 6 is 64\n",
      "Powers of 2 Using Anonymous Function 7 is 128\n",
      "Powers of 2 Using Anonymous Function 8 is 256\n",
      "Powers of 2 Using Anonymous Function 9 is 512\n"
     ]
    }
   ],
   "source": [
    "#Python Program To Display Powers of 2 Using Anonymous Function Display the powers of 2 using anonymous function\n",
    "t= 10\n",
    "res = list(map(lambda x: 2 ** x, range(t)))\n",
    "print(\"The total terms are:\",t)\n",
    "for i in range(t):\n",
    "    print(\"Powers of 2 Using Anonymous Function\",i,\"is\",res[i])"
   ]
  },
  {
   "cell_type": "code",
   "execution_count": 35,
   "id": "7c567cb5",
   "metadata": {},
   "outputs": [
    {
     "name": "stdout",
     "output_type": "stream",
     "text": [
      "No.s divisible by 12 [12, 60, 84, 96, 120, 180, 120, 108]\n"
     ]
    }
   ],
   "source": [
    "#Python Program to Find Numbers Divisible by Another Number\n",
    "lst=[12,64,60,84,96,120,180,120,108]\n",
    "res=list(filter(lambda x: (x%12==0),lst))\n",
    "print(\"No.s divisible by 12\",res)"
   ]
  },
  {
   "cell_type": "code",
   "execution_count": 37,
   "id": "18ea0f52",
   "metadata": {},
   "outputs": [
    {
     "name": "stdout",
     "output_type": "stream",
     "text": [
      "Enter decimal no.: 10\n",
      "Binary No.:  0b1010\n"
     ]
    }
   ],
   "source": [
    "#Python Program to Convert Decimal to Binary\n",
    "num =int(input(\"Enter decimal no.: \"))\n",
    "print(\"Binary No.: \", bin(num))    #bin()"
   ]
  },
  {
   "cell_type": "code",
   "execution_count": 38,
   "id": "8d4cf3d4",
   "metadata": {},
   "outputs": [
    {
     "name": "stdout",
     "output_type": "stream",
     "text": [
      "Enter decimal no.: 11\n",
      "Binary No.:  0xb\n"
     ]
    }
   ],
   "source": [
    "#Python Program to Convert Decimal to Hexadecimal\n",
    "#Python Program to Convert Decimal to Binary\n",
    "num =int(input(\"Enter decimal no.: \"))\n",
    "print(\"Binary No.: \", hex(num))    #hex()"
   ]
  },
  {
   "cell_type": "code",
   "execution_count": 47,
   "id": "38256be5",
   "metadata": {},
   "outputs": [
    {
     "name": "stdout",
     "output_type": "stream",
     "text": [
      "A\n"
     ]
    },
    {
     "data": {
      "text/plain": [
       "'D'"
      ]
     },
     "execution_count": 47,
     "metadata": {},
     "output_type": "execute_result"
    }
   ],
   "source": [
    "#Python Program to Find ASCII Value of Character\n",
    "print(chr(65))\n",
    "chr(ord('B')+2)"
   ]
  },
  {
   "cell_type": "code",
   "execution_count": 4,
   "id": "2ec98371",
   "metadata": {},
   "outputs": [
    {
     "name": "stdout",
     "output_type": "stream",
     "text": [
      "Enter no.: 2\n",
      "Enter no.: 4\n",
      "The HCF of  2 & 4 is : 2\n"
     ]
    }
   ],
   "source": [
    "#Python Program to Find HCF or GCD\n",
    "def HCF(x, y):  \n",
    "    if(x > y):  \n",
    "        small = y  \n",
    "    else:  \n",
    "        small = x  \n",
    "    for i in range(1,small + 1):  \n",
    "         if((x % i == 0) and (y % i == 0)):\n",
    "            hcf=i\n",
    "    return hcf\n",
    "num1 = int(input(\"Enter no.: \"))  \n",
    "num2 = int(input(\"Enter no.: \"))  \n",
    "print(\"The HCF of \",num1,\"&\",num2,\"is :\", HCF(num1,num2))"
   ]
  },
  {
   "cell_type": "code",
   "execution_count": 3,
   "id": "6626fd8d",
   "metadata": {},
   "outputs": [
    {
     "name": "stdout",
     "output_type": "stream",
     "text": [
      "Enter first number: 8\n",
      "Enter second number: 12\n",
      "The H.C.F. of 8 and 12 is 4\n"
     ]
    }
   ],
   "source": [
    "#Write a python function to find HCf or GCD and return the value\n",
    "def calculate_hcf(x, y):   \n",
    "    if x > y:  \n",
    "        smaller = y  \n",
    "    else:  \n",
    "        smaller = x  \n",
    "    for i in range(1,smaller + 1):  \n",
    "        if((x % i == 0) and (y % i == 0)):  \n",
    "            hcf = i  \n",
    "    return hcf  \n",
    "  \n",
    "num1 = int(input(\"Enter first number: \"))  \n",
    "num2 = int(input(\"Enter second number: \"))  \n",
    "print(\"The H.C.F. of\", num1,\"and\", num2,\"is\", calculate_hcf(num1, num2))  "
   ]
  },
  {
   "cell_type": "code",
   "execution_count": 5,
   "id": "2da5cb30",
   "metadata": {},
   "outputs": [
    {
     "name": "stdout",
     "output_type": "stream",
     "text": [
      "The HCF is 30\n"
     ]
    }
   ],
   "source": [
    "#Write a python function to find HCf or GCD and return the value using euclidian Algorithm\n",
    "def compute_hcf(x, y):\n",
    "    while(y):\n",
    "        x, y = y, x % y\n",
    "    return x\n",
    "hcf = compute_hcf(150,120)\n",
    "print(\"The HCF is\", hcf)"
   ]
  },
  {
   "cell_type": "code",
   "execution_count": 6,
   "id": "a2655e40",
   "metadata": {},
   "outputs": [
    {
     "name": "stdout",
     "output_type": "stream",
     "text": [
      " Enter the first number: 3\n",
      " Enter the second number: 27\n",
      "The HCF of two number x and y : \n",
      "3\n"
     ]
    }
   ],
   "source": [
    "#Write a python program to find HCf or GCD using euclidian Algorithm\n",
    "def find_hcf(x,y):  \n",
    "    while(y):  \n",
    "        x, x = y, x % y  \n",
    "        return x  \n",
    "x = int(input (\" Enter the first number: \") )    \n",
    "y = int(input (\" Enter the second number: \"))     \n",
    "num = find_hcf(x,y)    \n",
    "print(\"The HCF of two number x and y : \")  \n",
    "print(num)  "
   ]
  },
  {
   "cell_type": "code",
   "execution_count": 10,
   "id": "0398d174",
   "metadata": {},
   "outputs": [
    {
     "name": "stdout",
     "output_type": "stream",
     "text": [
      "enter:27\n",
      "enter:15\n",
      "The LCM : 135\n"
     ]
    }
   ],
   "source": [
    "#Python Program to Find LCM\n",
    "#write a Python function to Find LCM and return the value\n",
    "def compute_lcm(x, y):\n",
    "    if x > y:\n",
    "        greater = x\n",
    "    else:\n",
    "        greater = y\n",
    "\n",
    "    while(True):\n",
    "        if((greater % x == 0) and (greater % y == 0)):\n",
    "            lcm = greater\n",
    "            break\n",
    "        greater += 1\n",
    "\n",
    "    return lcm\n",
    "\n",
    "num1 = int(input(\"enter:\"))\n",
    "num2 = int(input(\"enter:\"))\n",
    "\n",
    "print(\"The LCM :\", compute_lcm(num1, num2)) "
   ]
  },
  {
   "cell_type": "code",
   "execution_count": 11,
   "id": "118ad99e",
   "metadata": {},
   "outputs": [
    {
     "name": "stdout",
     "output_type": "stream",
     "text": [
      "enter:24\n",
      "enter:12\n",
      "The LCM: 24\n"
     ]
    }
   ],
   "source": [
    "#Python Program to Compute LCM Using GCD \n",
    "def compute_gcd(x, y):\n",
    "    \n",
    "    while(y):\n",
    "        x, y = y, x % y\n",
    "    return x\n",
    "def compute_lcm(x, y):\n",
    "    lcm = (x*y)//compute_gcd(x,y)\n",
    "    return lcm\n",
    "num1 = int(input(\"enter:\"))\n",
    "num2 = int(input(\"enter:\")) \n",
    "print(\"The LCM:\", compute_lcm(num1, num2))"
   ]
  },
  {
   "cell_type": "code",
   "execution_count": 12,
   "id": "64bf22ba",
   "metadata": {},
   "outputs": [
    {
     "name": "stdout",
     "output_type": "stream",
     "text": [
      "enter :120\n",
      "The factors of 120 are:\n",
      "1\n",
      "2\n",
      "3\n",
      "4\n",
      "5\n",
      "6\n",
      "8\n",
      "10\n",
      "12\n",
      "15\n",
      "20\n",
      "24\n",
      "30\n",
      "40\n",
      "60\n",
      "120\n"
     ]
    }
   ],
   "source": [
    "#Python funcction to Find the Factors of a Number\n",
    "def print_factors(x):\n",
    "    print(\"The factors of\",x,\"are:\")\n",
    "    for i in range(1, x + 1):\n",
    "        if(x % i == 0):\n",
    "            print(i)\n",
    "fact= int(input(\"enter :\"))\n",
    "print_factors(fact)"
   ]
  },
  {
   "cell_type": "code",
   "execution_count": 13,
   "id": "1946cf4f",
   "metadata": {},
   "outputs": [
    {
     "name": "stdout",
     "output_type": "stream",
     "text": [
      "Select operation.\n",
      "1.Add\n",
      "2.Subtract\n",
      "3.Multiply\n",
      "4.Divide\n",
      "Enter choice(1/2/3/4): 1\n",
      "Enter first number: 2\n",
      "Enter second number: 2\n",
      "2.0 + 2.0 = 4.0\n"
     ]
    }
   ],
   "source": [
    "#Python Program to Make a Simple Calculator\n",
    "\n",
    "def add(x, y):             #add\n",
    "    return x + y\n",
    "\n",
    "def sub(x, y):        #subtract\n",
    "    return x - y\n",
    "\n",
    "def mult(x, y):        #multiply\n",
    "    return x * y\n",
    "\n",
    "def div(x, y):          #divide\n",
    "    return x / y\n",
    "\n",
    "\n",
    "print(\"Select operation.\")\n",
    "print(\"1.Add\")\n",
    "print(\"2.Subtract\")\n",
    "print(\"3.Multiply\")\n",
    "print(\"4.Divide\")\n",
    "\n",
    "while True:\n",
    "    \n",
    "    choice = input(\"Enter choice(1/2/3/4): \")\n",
    "    \n",
    "    if choice in ('1', '2', '3', '4'):\n",
    "        \n",
    "        num1 = float(input(\"Enter first number: \"))\n",
    "        num2 = float(input(\"Enter second number: \"))\n",
    "\n",
    "        if choice == '1':\n",
    "            print(num1, \"+\", num2, \"=\", add(num1, num2))\n",
    "\n",
    "        elif choice == '2':\n",
    "            print(num1, \"-\", num2, \"=\", sub(num1, num2))\n",
    "\n",
    "        elif choice == '3':\n",
    "            print(num1, \"*\", num2, \"=\", mult(num1, num2))\n",
    "\n",
    "        elif choice == '4':\n",
    "            print(num1, \"/\", num2, \"=\", div(num1, num2))\n",
    "        break\n",
    "    else:\n",
    "        print(\"Invalid Input\")\n"
   ]
  },
  {
   "cell_type": "code",
   "execution_count": 16,
   "id": "041b7cd5",
   "metadata": {},
   "outputs": [
    {
     "name": "stdout",
     "output_type": "stream",
     "text": [
      "Fibonacci sequence:\n",
      "0\n",
      "1\n",
      "1\n",
      "2\n",
      "3\n",
      "5\n",
      "8\n",
      "13\n",
      "21\n",
      "34\n",
      "55\n",
      "89\n",
      "144\n",
      "233\n",
      "377\n",
      "610\n",
      "987\n",
      "1597\n",
      "2584\n",
      "4181\n"
     ]
    }
   ],
   "source": [
    "#Python Program to Display Fibonacci Sequence Using Recursion\n",
    "def recur_fibo(n):\n",
    "    if n <= 1:\n",
    "        return n\n",
    "    else:\n",
    "        return(recur_fibo(n-1) + recur_fibo(n-2))\n",
    "terms = 20\n",
    "\n",
    "if terms <= 0:\n",
    "    print(\"Enter +ve no.:\")\n",
    "else:\n",
    "    print(\"Fibonacci sequence:\")\n",
    "    for i in range(terms):\n",
    "        print(recur_fibo(i))"
   ]
  },
  {
   "cell_type": "code",
   "execution_count": 17,
   "id": "de58fc6b",
   "metadata": {},
   "outputs": [
    {
     "name": "stdout",
     "output_type": "stream",
     "text": [
      "enter:20\n",
      "The sum is 210\n"
     ]
    }
   ],
   "source": [
    "#Python Program to Find Sum of Natural Numbers Using Recursion\n",
    "\n",
    "def recur_sum(n):\n",
    "    if(n <= 1):\n",
    "        return n\n",
    "    else:\n",
    "        return n + recur_sum(n-1)\n",
    "num = int(input(\"enter:\"))\n",
    "\n",
    "if(num < 0):\n",
    "    print(\"Enter a positive number\")\n",
    "else:\n",
    "    print(\"The sum is\",recur_sum(num))\n"
   ]
  },
  {
   "cell_type": "code",
   "execution_count": 18,
   "id": "c4e95c76",
   "metadata": {},
   "outputs": [
    {
     "name": "stdout",
     "output_type": "stream",
     "text": [
      "enter:9\n",
      "The factorial of 9 is 362880\n"
     ]
    }
   ],
   "source": [
    "#Python Program to Find Factorial of Number Using Recursion\n",
    "\n",
    "def recur_factorial(n):\n",
    "    if n == 1:\n",
    "        return n\n",
    "    else:\n",
    "        return n*recur_factorial(n-1)\n",
    "    \n",
    "num = int(input(\"enter:\"))\n",
    "\n",
    "if(num < 0):\n",
    "    print(\"Sorry, factorial does not exist for negative numbers\")\n",
    "elif(num == 0):\n",
    "    print(\"The factorial of 0 is 1\")\n",
    "else:\n",
    "    print(\"The factorial of\", num, \"is\", recur_factorial(num))\n"
   ]
  },
  {
   "cell_type": "code",
   "execution_count": null,
   "id": "b3a3b0ea",
   "metadata": {},
   "outputs": [],
   "source": []
  }
 ],
 "metadata": {
  "kernelspec": {
   "display_name": "Python 3.9.4 64-bit ('tensorflow': conda)",
   "language": "python",
   "name": "python394jvsc74a57bd0552044c7f615bc91dd29daeed772dba6fe20322e36f3e727f3c4957fbbcfc56d"
  },
  "language_info": {
   "codemirror_mode": {
    "name": "ipython",
    "version": 3
   },
   "file_extension": ".py",
   "mimetype": "text/x-python",
   "name": "python",
   "nbconvert_exporter": "python",
   "pygments_lexer": "ipython3",
   "version": "3.9.4"
  }
 },
 "nbformat": 4,
 "nbformat_minor": 5
}
