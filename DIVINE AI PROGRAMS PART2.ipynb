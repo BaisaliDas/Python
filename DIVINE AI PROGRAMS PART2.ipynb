{
 "cells": [
  {
   "cell_type": "code",
   "execution_count": 14,
   "id": "10095ed7",
   "metadata": {},
   "outputs": [
    {
     "name": "stdout",
     "output_type": "stream",
     "text": [
      "[20, 20, 20]\n",
      "[10, 10, 10]\n",
      "[30, 30, 20]\n"
     ]
    }
   ],
   "source": [
    "#Python Program to Add Two Matrices\n",
    "x = [[1,2,3],\n",
    "    [4 ,5,6],\n",
    "    [17 ,18,19]]\n",
    "y = [[19,18,17],\n",
    "    [6,5,4],\n",
    "    [13,12,1]]\n",
    "res=[[0,0,0],\n",
    "    [0,0,0],\n",
    "    [0,0,0]]\n",
    "for i in range (len(x)):\n",
    "    for j in range (len(x[0])):\n",
    "        res[i][j]=x[i][j]+y[i][j]\n",
    "for r in res:\n",
    "     print(r)"
   ]
  },
  {
   "cell_type": "code",
   "execution_count": 13,
   "id": "28d033d1",
   "metadata": {},
   "outputs": [
    {
     "name": "stdout",
     "output_type": "stream",
     "text": [
      "[20, 14, 6]\n",
      "[8, 10, 12]\n",
      "[34, 16, 18]\n"
     ]
    }
   ],
   "source": [
    "#Python Program to Add Two Matrices using Nested List comprehension\n",
    "x = [[10,7,3],\n",
    "    [4 ,5,6],\n",
    "    [17 ,8,9]]\n",
    "y = [[5,8,1],\n",
    "    [6,17,3],\n",
    "    [4,5,9]]\n",
    "res = [[x[i][j] + x[i][j]  for j in range(len(x[0]))] for i in range(len(x))]\n",
    "for r in res:\n",
    "    print(r)"
   ]
  },
  {
   "cell_type": "code",
   "execution_count": 15,
   "id": "d5a240e3",
   "metadata": {},
   "outputs": [
    {
     "name": "stdout",
     "output_type": "stream",
     "text": [
      "[10, 4, 17]\n",
      "[7, 5, 8]\n",
      "[3, 6, 9]\n"
     ]
    }
   ],
   "source": [
    "#Python Program to Transpose a Matrix using Nested Loop\n",
    "x = [[10,7,3],\n",
    "    [4 ,5,6],\n",
    "    [17 ,8,9]]\n",
    "res=[[0,0,0],\n",
    "    [0,0,0],\n",
    "    [0,0,0]]\n",
    "for i in range(len(x)):\n",
    "    for j in range(len(x[0])):\n",
    "        res[j][i]=x[i][j]\n",
    "for r in res:\n",
    "    print(r)"
   ]
  },
  {
   "cell_type": "code",
   "execution_count": 16,
   "id": "2d50faea",
   "metadata": {},
   "outputs": [
    {
     "name": "stdout",
     "output_type": "stream",
     "text": [
      "[10, 4, 17]\n",
      "[7, 5, 8]\n",
      "[3, 6, 9]\n"
     ]
    }
   ],
   "source": [
    "#Python Program to Transpose a Matrix using Nested List Comprehension\n",
    "x = [[10,7,3],\n",
    "    [4 ,5,6],\n",
    "    [17 ,8,9]]\n",
    "res = [[x[j][i] for j in range(len(x))] for i in range(len(x[0]))]\n",
    "\n",
    "for r in res:\n",
    "    print(r)"
   ]
  },
  {
   "cell_type": "code",
   "execution_count": 17,
   "id": "a53ac48e",
   "metadata": {},
   "outputs": [
    {
     "name": "stdout",
     "output_type": "stream",
     "text": [
      "[39, 36, 3]\n",
      "[78, 72, 6]\n",
      "[247, 228, 19]\n"
     ]
    }
   ],
   "source": [
    "#Python Program to Multiply Two Matrices using Nested Loop\n",
    "x = [[1,2,3],\n",
    "    [4 ,5,6],\n",
    "    [17 ,18,19]]\n",
    "y = [[19,18,17],\n",
    "    [6,5,4],\n",
    "    [13,12,1]]\n",
    "res=[[0,0,0],\n",
    "    [0,0,0],\n",
    "    [0,0,0]]\n",
    "for i in range (len(x)):\n",
    "    for j in range (len(x[0])):\n",
    "        for k in range(len(y[0])):\n",
    "            res[i][j]=x[i][k]*y[k][j]\n",
    "for r in res:\n",
    "     print(r)"
   ]
  },
  {
   "cell_type": "code",
   "execution_count": 20,
   "id": "42040b71",
   "metadata": {},
   "outputs": [
    {
     "name": "stdout",
     "output_type": "stream",
     "text": [
      "[271, 151, 201, 89]\n",
      "[184, 129, 164, 64]\n",
      "[488, 284, 330, 163]\n"
     ]
    }
   ],
   "source": [
    "#Python Program to Multiply Two Matrices using Nested List Comprehension\n",
    "x = [[10,7,3],\n",
    "    [4 ,5,6],\n",
    "    [17 ,8,9]]\n",
    "y = [[19,8,7,6],\n",
    "    [6,5,14,2],\n",
    "    [13,12,11,5]]\n",
    "res = [[sum(a*b for a,b in zip(x_row,y_col)) for y_col in zip(*y)] for x_row in x]\n",
    "#res 3x4 matrix\n",
    "for r in res:\n",
    "    print(r)"
   ]
  },
  {
   "cell_type": "code",
   "execution_count": 21,
   "id": "c1314d90",
   "metadata": {},
   "outputs": [
    {
     "name": "stdout",
     "output_type": "stream",
     "text": [
      "String is not a Palindrome\n"
     ]
    }
   ],
   "source": [
    "#Python Program to Check Whether a String is Palindrome or Not\n",
    "my_str='dIsNeYLAnD'\n",
    "my_str=my_str.casefold()\n",
    "rev_str=reversed(my_str)\n",
    "if list(my_str)==list(rev_str):\n",
    "    print(\"String is Palindrome\")\n",
    "else:\n",
    "    print(\"String is not a Palindrome\")"
   ]
  },
  {
   "cell_type": "code",
   "execution_count": 22,
   "id": "10c7cc4e",
   "metadata": {},
   "outputs": [
    {
     "name": "stdout",
     "output_type": "stream",
     "text": [
      "Hello he said and went\n"
     ]
    }
   ],
   "source": [
    "#Python Program to Remove Punctuations From a String\n",
    "punctuations = '''!()-[]{};:,'\"\\,<>./?@#$%^&*_~'''\n",
    "my_str = \"Hello!!!, he said ---and went.\"\n",
    "#removing punctuation from string\n",
    "no_punct = \"\"\n",
    "for char in my_str:      \n",
    "    if char not in punctuations:\n",
    "        no_punct = no_punct + char\n",
    "print(no_punct)"
   ]
  },
  {
   "cell_type": "code",
   "execution_count": 24,
   "id": "1c00fda6",
   "metadata": {},
   "outputs": [
    {
     "name": "stdout",
     "output_type": "stream",
     "text": [
      "Sorted words: \n",
      "baisali\n",
      "das\n",
      "hi\n",
      "is\n",
      "my\n",
      "name\n"
     ]
    }
   ],
   "source": [
    "#Python Program to Sort Words in Alphabetic Order\n",
    "my_str=\"Hi my name is Baisali Das\"\n",
    "words=[word.lower() for word in my_str.split()]\n",
    "words.sort()\n",
    "print(\"Sorted words: \")\n",
    "for word in words:\n",
    "    print(word)"
   ]
  },
  {
   "cell_type": "code",
   "execution_count": 25,
   "id": "342e48cf",
   "metadata": {},
   "outputs": [
    {
     "name": "stdout",
     "output_type": "stream",
     "text": [
      "Union :  {0, 2, 3, 4, 5, 7, 8, 9}\n",
      "Intersection :  {9, 7}\n",
      "Difference :  {0, 4, 5}\n",
      "Symmetric difference :  {0, 2, 3, 4, 5, 8}\n"
     ]
    }
   ],
   "source": [
    "#Python Program to Illustrate Different Set Operations\n",
    "a={0,5,7,9,4}\n",
    "b={3,7,8,9,2}\n",
    "print(\"Union : \",a|b)\n",
    "print(\"Intersection : \",a&b)\n",
    "print(\"Difference : \",a-b)\n",
    "print(\"Symmetric difference : \",a^b)"
   ]
  },
  {
   "cell_type": "code",
   "execution_count": 26,
   "id": "c327ed79",
   "metadata": {},
   "outputs": [
    {
     "name": "stdout",
     "output_type": "stream",
     "text": [
      "{'a': 7, 'e': 6, 'i': 6, 'o': 2, 'u': 2}\n"
     ]
    }
   ],
   "source": [
    "#Python Program to Count the Number of Each Vowel\n",
    "vowels='aeiou'\n",
    "my_str='Hello i am Baisali Das , I am CSE student Currently doing Data Science'\n",
    "my_str=my_str.casefold()    #used for caseless comparision: .casefold()\n",
    "count={}.fromkeys(vowels,0)\n",
    "for char in my_str:      \n",
    "    if char in count:\n",
    "    \n",
    "        count[char] +=1\n",
    "print(count)"
   ]
  },
  {
   "cell_type": "code",
   "execution_count": 28,
   "id": "d4e69089",
   "metadata": {},
   "outputs": [
    {
     "name": "stdout",
     "output_type": "stream",
     "text": [
      "{'a': 7, 'e': 6, 'i': 6, 'o': 2, 'u': 2}\n"
     ]
    }
   ],
   "source": [
    "#Python Program to Count the Number of Each Vowel Using a list and a dictionary comprehension\n",
    "my_str='Hello i am Baisali Das , I am CSE student Currently doing Data Science'\n",
    "my_str=my_str.casefold()    #used for caseless comparision: .casefold()\n",
    "count={x:sum([1 for char in my_str if char==x]) for x in 'aeiou'}\n",
    "print(count)"
   ]
  },
  {
   "cell_type": "code",
   "execution_count": 1,
   "id": "503dd061",
   "metadata": {},
   "outputs": [
    {
     "name": "stdout",
     "output_type": "stream",
     "text": [
      "Input string:  welcome to my page\n",
      "Length of longest substring without non-repeating characters:  7\n"
     ]
    }
   ],
   "source": [
    "#Python Program Given a string, find the length of the longest substring without repeating characters.\n",
    "def findlongestsubstring(str):\n",
    "    n=len(str)\n",
    "    res=0   \n",
    "    for i in range(n):\n",
    "        visited=[0]*256\n",
    "        for j in range(i,n):\n",
    "            if(visited[ord(str[j])]==True):\n",
    "                break\n",
    "            else:\n",
    "                res=max(res,j-i+1)\n",
    "                visited[ord(str[j])]=True\n",
    "        visited[ord(str[i])]=False\n",
    "    return res\n",
    "#divercode\n",
    "str=\"welcome to my page\"\n",
    "print(\"Input string: \",str)\n",
    "\n",
    "len=findlongestsubstring(str)\n",
    "print(\"Length of longest substring without non-repeating characters: \",len)"
   ]
  },
  {
   "cell_type": "code",
   "execution_count": 11,
   "id": "18941c52",
   "metadata": {},
   "outputs": [
    {
     "name": "stdout",
     "output_type": "stream",
     "text": [
      "[1, 2]\n"
     ]
    }
   ],
   "source": [
    "#Python Program Given an array of integers, return indices of the two numbers such that they add up to a specific target.\n",
    "#List=int(input(\"Enter\"))\n",
    "class Solution(object):\n",
    "    def twoSum(self, num, target):\n",
    "        required = {}\n",
    "        for i in range(len(num)):\n",
    "            if(target-num[i] in required):\n",
    "                return [required[target-num[i]],i]\n",
    "            else:\n",
    "                required[num[i]]=i\n",
    "input_list=[2,8,12,15]\n",
    "ob1=Solution()\n",
    "print(ob1.twoSum(input_list,20))"
   ]
  },
  {
   "cell_type": "code",
   "execution_count": 5,
   "id": "2be0adc5",
   "metadata": {},
   "outputs": [
    {
     "name": "stdout",
     "output_type": "stream",
     "text": [
      "Array after left rotation is:  [30, 35, 40, 45, 10, 20]\n"
     ]
    }
   ],
   "source": [
    "#Python Program to Rotate an array of n elements to the right by k steps.\n",
    "def rotateArray(arr, n, k):\n",
    "    temp = []\n",
    "    i = 0\n",
    "    while (i < k):\n",
    "        temp.append(arr[i])\n",
    "        i = i + 1\n",
    "    i = 0\n",
    "    while (k < n):\n",
    "        arr[i] = arr[k]\n",
    "        i = i + 1\n",
    "        k = k + 1\n",
    "    arr[:] = arr[: i] + temp\n",
    "    return arr\n",
    "\n",
    "arr = [10,20,30,35,40,45]\n",
    "print(\"Array after left rotation is: \", end=' ')\n",
    "print(rotateArray(arr, len(arr), 2))"
   ]
  },
  {
   "cell_type": "code",
   "execution_count": 7,
   "id": "6775e443",
   "metadata": {},
   "outputs": [
    {
     "name": "stdout",
     "output_type": "stream",
     "text": [
      "[[10, 20, 30], [40, 50, 60], [70, 88, 90]]\n"
     ]
    }
   ],
   "source": [
    "#Python Program Given a list slice it into a 3 equal chunks and revert each list\n",
    "my_list = [10, 20, 30, 40, 50,\n",
    "           60, 70, 88, 90]\n",
    "n = 3\n",
    "\n",
    "# using list comprehension\n",
    "final = [my_list[i * n:(i + 1) * n] for i in range((len(my_list) + n - 1) // n )]\n",
    "print (final)\n"
   ]
  },
  {
   "cell_type": "code",
   "execution_count": 8,
   "id": "491863ec",
   "metadata": {},
   "outputs": [
    {
     "name": "stdout",
     "output_type": "stream",
     "text": [
      " Please Enter any Positive Integer : 6\n",
      " Please Enter Exponent Value : 2\n",
      "The Result of 6 Power 2 = 36\n"
     ]
    }
   ],
   "source": [
    "#write a program to calculate exponents of an input\n",
    "num = int(input(\" Please Enter any Positive Integer : \"))\n",
    "exponent = int(input(\" Please Enter Exponent Value : \"))\n",
    "power = 1\n",
    "\n",
    "for i in range(1, exponent + 1):\n",
    "    power = power * num\n",
    "    \n",
    "print(\"The Result of {0} Power {1} = {2}\".format(num, exponent, power))\n"
   ]
  },
  {
   "cell_type": "code",
   "execution_count": 9,
   "id": "fe197cc2",
   "metadata": {},
   "outputs": [
    {
     "name": "stdout",
     "output_type": "stream",
     "text": [
      "[19, 36, 51]\n",
      "[24, 25, 24]\n",
      "[221, 216, 19]\n"
     ]
    }
   ],
   "source": [
    "#write a program to multiply two Matrix \n",
    "x = [[1,2,3],\n",
    "    [4 ,5,6],\n",
    "    [17 ,18,19]]\n",
    "y = [[19,18,17],\n",
    "    [6,5,4],\n",
    "    [13,12,1]]\n",
    "res=[[0,0,0],\n",
    "    [0,0,0],\n",
    "    [0,0,0]]\n",
    "for i in range (len(x)):\n",
    "    for j in range (len(x[0])):\n",
    "        res[i][j]=x[i][j]*y[i][j]\n",
    "for r in res:\n",
    "     print(r)"
   ]
  },
  {
   "cell_type": "code",
   "execution_count": 11,
   "id": "96ae3bd4",
   "metadata": {},
   "outputs": [
    {
     "name": "stdout",
     "output_type": "stream",
     "text": [
      "Remainder 1\n"
     ]
    }
   ],
   "source": [
    "#write a program to find and print the remainder of two number\n",
    "def find(n, m):\n",
    "    r = n%m\n",
    "    print(\"Remainder\", r)\n",
    "find(10, 3)"
   ]
  },
  {
   "cell_type": "code",
   "execution_count": 14,
   "id": "efbefaa3",
   "metadata": {},
   "outputs": [
    {
     "name": "stdout",
     "output_type": "stream",
     "text": [
      "8\n"
     ]
    }
   ],
   "source": [
    "#Python program to compute sum of digits in number\n",
    "def sumDigits(no):\n",
    "    return 0 if no == 0 else int(no % 5) + sumDigits(int(no/5))\n",
    "print(sumDigits(68))"
   ]
  },
  {
   "cell_type": "code",
   "execution_count": 15,
   "id": "7c3b4b3d",
   "metadata": {},
   "outputs": [
    {
     "name": "stdout",
     "output_type": "stream",
     "text": [
      "['Chance', 'Dance', 'Kale', 'Michaela', 'Music']\n"
     ]
    }
   ],
   "source": [
    "#Python program to Sort the list in ascending order\n",
    "str = [\"Kale\",\"Michaela\",\"Chance\",\"Dance\",\"Music\"]\n",
    "str.sort()\n",
    "print(str)"
   ]
  },
  {
   "cell_type": "code",
   "execution_count": 17,
   "id": "1569c6b8",
   "metadata": {},
   "outputs": [
    {
     "name": "stdout",
     "output_type": "stream",
     "text": [
      "['Music', 'Michaela', 'Kale', 'Dance', 'Chance']\n"
     ]
    }
   ],
   "source": [
    "#Python program to Sort the list in descending order\n",
    "str = [\"Kale\",\"Michaela\",\"Chance\",\"Dance\",\"Music\"]\n",
    "str.sort(reverse = True)\n",
    "print(str)"
   ]
  },
  {
   "cell_type": "code",
   "execution_count": 19,
   "id": "3df02b35",
   "metadata": {},
   "outputs": [
    {
     "name": "stdout",
     "output_type": "stream",
     "text": [
      "Removed Element: Michaela\n"
     ]
    }
   ],
   "source": [
    "#Removes the item at the given index from the list and returns the removed item\n",
    "str = [\"Kale\",\"Michaela\",\"Chance\",\"Dance\",\"Music\"]\n",
    "removed_element = str.pop(1)\n",
    "\n",
    "print('Removed Element:', removed_element)"
   ]
  },
  {
   "cell_type": "code",
   "execution_count": 22,
   "id": "c069e46a",
   "metadata": {},
   "outputs": [
    {
     "name": "stdout",
     "output_type": "stream",
     "text": [
      "Count of 7: 2\n"
     ]
    }
   ],
   "source": [
    "#Returns the number of times the specified element appears in the list\n",
    "lst = [2, 3, 5, 2, 11, 2, 7,7]\n",
    "count = lst.count(7)\n",
    "print('Count of 7:', count)"
   ]
  },
  {
   "cell_type": "code",
   "execution_count": 23,
   "id": "3935ad4e",
   "metadata": {},
   "outputs": [
    {
     "name": "stdout",
     "output_type": "stream",
     "text": [
      "T\n"
     ]
    }
   ],
   "source": [
    "#access first characters in a string\n",
    "string=\"This is DivineAi\"\n",
    "print(string[0])"
   ]
  },
  {
   "cell_type": "code",
   "execution_count": 24,
   "id": "98654093",
   "metadata": {},
   "outputs": [
    {
     "name": "stdout",
     "output_type": "stream",
     "text": [
      "i\n"
     ]
    }
   ],
   "source": [
    "#access Last characters in a string\n",
    "print(string[15])"
   ]
  },
  {
   "cell_type": "code",
   "execution_count": 26,
   "id": "2eb4f4fb",
   "metadata": {},
   "outputs": [
    {
     "name": "stdout",
     "output_type": "stream",
     "text": [
      "[0, 2, 4, 6, 8, 10, 12, 14, 16, 18]\n"
     ]
    }
   ],
   "source": [
    "#Generate a list by list comprehension\n",
    "my_list = []\n",
    "for x in range(10):\n",
    "    my_list.append(x * 2)\n",
    "print(my_list)"
   ]
  },
  {
   "cell_type": "code",
   "execution_count": 27,
   "id": "f7b6b6b1",
   "metadata": {},
   "outputs": [
    {
     "name": "stdout",
     "output_type": "stream",
     "text": [
      "['ABC', 'CDE', 'EFG']\n"
     ]
    }
   ],
   "source": [
    "#Set the values in the new list to upper case\n",
    "string=[\"ABC\",\"cde\",\"eFg\"]\n",
    "for i in range(len(string)):\n",
    "    string[i]=string[i].upper()\n",
    "print(string)"
   ]
  },
  {
   "cell_type": "code",
   "execution_count": 29,
   "id": "22a67008",
   "metadata": {},
   "outputs": [
    {
     "name": "stdout",
     "output_type": "stream",
     "text": [
      "['Anddy', 'Andrew', 'Baisali', 'George', 'Ian', 'Mathew', 'Nina', 'Paul']\n"
     ]
    }
   ],
   "source": [
    "#Sort the string list alphabetically\n",
    "names = ['Andrew','Anddy','Mathew','George','Paul','Ian','Nina','Baisali']\n",
    "names.sort()\n",
    "print(names)"
   ]
  },
  {
   "cell_type": "code",
   "execution_count": 30,
   "id": "9ce869dc",
   "metadata": {},
   "outputs": [
    {
     "data": {
      "text/plain": [
       "{22, 'a', 'b', 'c', 'd'}"
      ]
     },
     "execution_count": 30,
     "metadata": {},
     "output_type": "execute_result"
    }
   ],
   "source": [
    "#join Two Sets\n",
    "s={'a','b','c'}\n",
    "t={'c',22,'d'}\n",
    "join=s|t        #union\n",
    "join            "
   ]
  },
  {
   "cell_type": "code",
   "execution_count": 31,
   "id": "83589d68",
   "metadata": {},
   "outputs": [
    {
     "data": {
      "text/plain": [
       "{'c'}"
      ]
     },
     "execution_count": 31,
     "metadata": {},
     "output_type": "execute_result"
    }
   ],
   "source": [
    "#keep only the items that are present in both sets\n",
    "common=s&t   #intersection\n",
    "common"
   ]
  },
  {
   "cell_type": "code",
   "execution_count": 32,
   "id": "52c5a5fd",
   "metadata": {},
   "outputs": [
    {
     "data": {
      "text/plain": [
       "{22, 'a', 'b', 'd'}"
      ]
     },
     "execution_count": 32,
     "metadata": {},
     "output_type": "execute_result"
    }
   ],
   "source": [
    "#Keep All items from List But NOT the Duplicates\n",
    "diff=s^t   #symmetricdifference\n",
    "diff"
   ]
  },
  {
   "cell_type": "code",
   "execution_count": 33,
   "id": "316aa33d",
   "metadata": {},
   "outputs": [
    {
     "name": "stdout",
     "output_type": "stream",
     "text": [
      "{'iphone': 2007, 'iphone 3G': 2008, 'iphone 3GS': 2009, 'iphone 4': 2010, 'iphone 4S': 2011, 'iphone 5': 2012}\n"
     ]
    }
   ],
   "source": [
    "#Create and print a dictionary\n",
    "my_dict={\n",
    "    \"iphone\" : 2007,\n",
    "    \"iphone 3G\" : 2008,\n",
    "    \"iphone 3GS\" : 2009,\n",
    "    \"iphone 4\" : 2010,\n",
    "    \"iphone 4S\" : 2011,\n",
    "    \"iphone 5\" : 2012\n",
    "}\n",
    "print(my_dict)"
   ]
  },
  {
   "cell_type": "code",
   "execution_count": 34,
   "id": "c8422959",
   "metadata": {},
   "outputs": [
    {
     "data": {
      "text/plain": [
       "6"
      ]
     },
     "execution_count": 34,
     "metadata": {},
     "output_type": "execute_result"
    }
   ],
   "source": [
    "#Calculate the length of dictionary\n",
    "len(my_dict)"
   ]
  },
  {
   "cell_type": "code",
   "execution_count": null,
   "id": "51825184",
   "metadata": {},
   "outputs": [],
   "source": []
  }
 ],
 "metadata": {
  "kernelspec": {
   "display_name": "Python 3.9.4 64-bit ('tensorflow': conda)",
   "language": "python",
   "name": "python394jvsc74a57bd0552044c7f615bc91dd29daeed772dba6fe20322e36f3e727f3c4957fbbcfc56d"
  },
  "language_info": {
   "codemirror_mode": {
    "name": "ipython",
    "version": 3
   },
   "file_extension": ".py",
   "mimetype": "text/x-python",
   "name": "python",
   "nbconvert_exporter": "python",
   "pygments_lexer": "ipython3",
   "version": "3.9.4"
  }
 },
 "nbformat": 4,
 "nbformat_minor": 5
}
