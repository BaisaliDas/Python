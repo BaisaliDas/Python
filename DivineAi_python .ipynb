{
 "cells": [
  {
   "cell_type": "code",
   "execution_count": 4,
   "id": "95588f2a",
   "metadata": {},
   "outputs": [
    {
     "name": "stdout",
     "output_type": "stream",
     "text": [
      "Enter Number: 2\n",
      "Table of  2\n",
      "2 X 1 = 2\n",
      "2 X 2 = 4\n",
      "2 X 3 = 6\n",
      "2 X 4 = 8\n",
      "2 X 5 = 10\n",
      "2 X 6 = 12\n",
      "2 X 7 = 14\n",
      "2 X 8 = 16\n",
      "2 X 9 = 18\n",
      "2 X 10 = 20\n"
     ]
    }
   ],
   "source": [
    "#WAP to print table of n, where n is entered by the user\n",
    "n=int(input(\"Enter Number: \"))\n",
    "print(\"Table of \",n)\n",
    "for i in range(1,11):\n",
    "    print(n,\"X\",i,\"=\",n*i)"
   ]
  },
  {
   "cell_type": "code",
   "execution_count": 6,
   "id": "63136cd8",
   "metadata": {},
   "outputs": [
    {
     "name": "stdout",
     "output_type": "stream",
     "text": [
      "Enter a natural NUmber:8\n",
      "Sum of  0 Natural Number:  36\n"
     ]
    }
   ],
   "source": [
    "#n*(n+1)/2\n",
    "#WAP to print sum of n natural numbers, where n is entered by the user\n",
    "n=int(input(\"Enter a natural NUmber:\"))\n",
    "sum=0\n",
    "if n<=0:\n",
    "    print(\"HI its Mikaela\")\n",
    "else:\n",
    "    while n>0:\n",
    "        sum=sum+n\n",
    "        n=n-1\n",
    "    print(\"Sum of \",n,\"Natural Number: \",sum)"
   ]
  },
  {
   "cell_type": "code",
   "execution_count": 1,
   "id": "dbf8db5b",
   "metadata": {},
   "outputs": [
    {
     "name": "stdout",
     "output_type": "stream",
     "text": [
      "Enter value of Num.: 5\n",
      "Factorial of 5 is 120\n"
     ]
    }
   ],
   "source": [
    "#WAP to print the factorial of the given number, where number is entered by the user.\n",
    "num=int(input(\"Enter value of Num.: \"))\n",
    "fact=1\n",
    "if num<0:\n",
    "    print(\"Num is -ve.!!!\")\n",
    "elif num==0:\n",
    "    print(\"Fact. of 0 is 1.\")\n",
    "else:\n",
    "    for i in range(1,num+1):\n",
    "        fact=fact*i\n",
    "    print(\"Factorial of\",num,\"is\",fact)"
   ]
  },
  {
   "cell_type": "code",
   "execution_count": 8,
   "id": "cc52b770",
   "metadata": {},
   "outputs": [
    {
     "name": "stdout",
     "output_type": "stream",
     "text": [
      "Enter number: 30\n",
      "Sum of natural no.s :  465\n"
     ]
    }
   ],
   "source": [
    "#WAP to print sum of n natural numbers, where n is entered by the user\n",
    "n=int(input(\"Enter number: \"))\n",
    "if(n<0):\n",
    "    print(\"Positive Number!\")\n",
    "else :\n",
    "    sum=0\n",
    "    while(n>0):\n",
    "        sum +=n\n",
    "        n -=1\n",
    "    print(\"Sum of natural no.s : \",sum)"
   ]
  },
  {
   "cell_type": "code",
   "execution_count": 13,
   "id": "86281bfd",
   "metadata": {},
   "outputs": [
    {
     "name": "stdout",
     "output_type": "stream",
     "text": [
      "Factorial of 9 is 362880\n"
     ]
    }
   ],
   "source": [
    "#WAP to print the factorial of the given number, where number is entered by the user\n",
    "num=9\n",
    "fact=1\n",
    "if num<0:\n",
    "    print(\"Num is -ve.!!!\")\n",
    "elif num==0:\n",
    "    print(\"Fact. of 0 is 1.\")\n",
    "else:\n",
    "    for i in range(1,num+1):\n",
    "        fact=fact*i\n",
    "    print(\"Factorial of\",num,\"is\",fact)"
   ]
  },
  {
   "cell_type": "code",
   "execution_count": 5,
   "id": "a5ed5f7e",
   "metadata": {},
   "outputs": [
    {
     "name": "stdout",
     "output_type": "stream",
     "text": [
      "Enter 1st: 22\n",
      "Enter 2nd: 45\n",
      "Enter 3rd: 222\n",
      "Largest=  222\n"
     ]
    }
   ],
   "source": [
    "#wap to find largest among 3 no.s\n",
    "a,b,c=int(input(\"Enter 1st: \")),int(input(\"Enter 2nd: \")),int(input(\"Enter 3rd: \"))\n",
    "if a>=b and a>=c:\n",
    "    print(\"Largest= \",a)\n",
    "elif b>=a and b>=c:\n",
    "    print(\"Largest= \",b)\n",
    "else:\n",
    "    print(\"Largest= \",c)"
   ]
  },
  {
   "cell_type": "code",
   "execution_count": 1,
   "id": "3d0da84f",
   "metadata": {},
   "outputs": [
    {
     "name": "stdout",
     "output_type": "stream",
     "text": [
      "Enter no.of months to calculate: 3\n",
      "Sales of those months: 77.5\n",
      "Sales of those months: 89.45\n",
      "Sales of those months: 89.2\n",
      "Avg of sales of those months :  85.38\n"
     ]
    }
   ],
   "source": [
    "#WAP to input sales of the month and calculate the average sales of that month\n",
    "month=int(input(\"Enter no.of months to calculate: \"))\n",
    "a=[]\n",
    "for i in range(0,month):\n",
    "    sales=float(input(\"Sales of those months: \"))\n",
    "    a.append(sales)\n",
    "avg=sum(a)/month\n",
    "print(\"Avg of sales of those months : \",round(avg,2))"
   ]
  },
  {
   "cell_type": "code",
   "execution_count": 2,
   "id": "603f31f1",
   "metadata": {},
   "outputs": [
    {
     "name": "stdout",
     "output_type": "stream",
     "text": [
      "152\n",
      "19.0\n"
     ]
    }
   ],
   "source": [
    "def average(nums):\n",
    "    total=0\n",
    "    for i in range(len(nums)):\n",
    "        total+=nums[i]\n",
    "    return(total/len(nums),total)\n",
    "def main():\n",
    "    l=[12,14,16,18,20,22,24,26]\n",
    "    result,total=average(l)\n",
    "    print(total)\n",
    "    print(result)\n",
    "main()"
   ]
  },
  {
   "cell_type": "code",
   "execution_count": 4,
   "id": "4040003b",
   "metadata": {},
   "outputs": [
    {
     "name": "stdout",
     "output_type": "stream",
     "text": [
      "3457206\n",
      "181958.2105263158\n"
     ]
    }
   ],
   "source": [
    "def highest(numbers,rank):\n",
    "    total=0\n",
    "    for num in numbers:\n",
    "        total=total+num\n",
    "    avg=total/len(numbers)\n",
    "    return avg,total\n",
    "def main():\n",
    "    prices=[29,21,55,10,12,16,190,347,1024,9403,125,28349,102377,909873,2389007,3470,5732,1293,5873]\n",
    "    result,total=highest(prices,2)\n",
    "    print(total)\n",
    "    print(result)\n",
    "main()"
   ]
  },
  {
   "cell_type": "code",
   "execution_count": null,
   "id": "f132d5e6",
   "metadata": {},
   "outputs": [],
   "source": []
  }
 ],
 "metadata": {
  "kernelspec": {
   "display_name": "Python 3.9.4 64-bit ('tensorflow': conda)",
   "language": "python",
   "name": "python394jvsc74a57bd0552044c7f615bc91dd29daeed772dba6fe20322e36f3e727f3c4957fbbcfc56d"
  },
  "language_info": {
   "codemirror_mode": {
    "name": "ipython",
    "version": 3
   },
   "file_extension": ".py",
   "mimetype": "text/x-python",
   "name": "python",
   "nbconvert_exporter": "python",
   "pygments_lexer": "ipython3",
   "version": "3.9.4"
  }
 },
 "nbformat": 4,
 "nbformat_minor": 5
}
