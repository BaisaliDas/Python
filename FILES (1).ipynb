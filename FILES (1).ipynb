{
 "cells": [
  {
   "cell_type": "code",
   "execution_count": 15,
   "id": "e8c77962",
   "metadata": {},
   "outputs": [
    {
     "name": "stdout",
     "output_type": "stream",
     "text": [
      "{'Cheeky Spam': 1.0, 'Yonks Spam': 4.0}\n"
     ]
    }
   ],
   "source": [
    "def write_sales_log(order):\n",
    "    \n",
    "    file=open('sales.txt','w')\n",
    "    \n",
    "    for item,price in order.items():\n",
    "        file.write(item+' '+ format(price,'.2f')+'\\n')\n",
    "    file.close()\n",
    "    \n",
    "def main():\n",
    "    \n",
    "    order={'Cheeky Spam':1.0, 'Yonks Spam':4.0}\n",
    "    print(order)\n",
    "    write_sales_log(order)\n",
    "main()"
   ]
  },
  {
   "cell_type": "markdown",
   "id": "a5aca689",
   "metadata": {},
   "source": [
    "# Files"
   ]
  },
  {
   "cell_type": "code",
   "execution_count": 33,
   "id": "b38f63d5",
   "metadata": {},
   "outputs": [],
   "source": [
    "file=open('sales.txt','w')"
   ]
  },
  {
   "cell_type": "code",
   "execution_count": 34,
   "id": "7b6f5ee3",
   "metadata": {},
   "outputs": [
    {
     "data": {
      "text/plain": [
       "28"
      ]
     },
     "execution_count": 34,
     "metadata": {},
     "output_type": "execute_result"
    }
   ],
   "source": [
    "file.write('Hello This is My Bill_file.\\n')"
   ]
  },
  {
   "cell_type": "code",
   "execution_count": 35,
   "id": "afc9b8f4",
   "metadata": {},
   "outputs": [
    {
     "data": {
      "text/plain": [
       "36"
      ]
     },
     "execution_count": 35,
     "metadata": {},
     "output_type": "execute_result"
    }
   ],
   "source": [
    "file.write('-----------------------------------\\n')"
   ]
  },
  {
   "cell_type": "code",
   "execution_count": 36,
   "id": "fb5644b9",
   "metadata": {},
   "outputs": [
    {
     "data": {
      "text/plain": [
       "31"
      ]
     },
     "execution_count": 36,
     "metadata": {},
     "output_type": "execute_result"
    }
   ],
   "source": [
    "file.write(\"'anita':99,'rakul':90,'anny':22\")"
   ]
  },
  {
   "cell_type": "code",
   "execution_count": 37,
   "id": "75e84947",
   "metadata": {},
   "outputs": [
    {
     "data": {
      "text/plain": [
       "30"
      ]
     },
     "execution_count": 37,
     "metadata": {},
     "output_type": "execute_result"
    }
   ],
   "source": [
    "file.write(\"'Fruits':'Strawberry,500,5pac'\")"
   ]
  },
  {
   "cell_type": "code",
   "execution_count": 38,
   "id": "4fde391d",
   "metadata": {},
   "outputs": [],
   "source": [
    "file.close()"
   ]
  },
  {
   "cell_type": "code",
   "execution_count": 39,
   "id": "d0c9e139",
   "metadata": {},
   "outputs": [
    {
     "name": "stdout",
     "output_type": "stream",
     "text": [
      "Hello This is My Bill_file.\n",
      "-----------------------------------\n",
      "'anita':99,'rakul':90,'anny':22'Fruits':'Strawberry,500,5pac'\n"
     ]
    }
   ],
   "source": [
    "file=open('sales.txt','r')\n",
    "contents=file.read()\n",
    "file.close()\n",
    "print(contents)"
   ]
  },
  {
   "cell_type": "code",
   "execution_count": 28,
   "id": "bdf56baf",
   "metadata": {},
   "outputs": [],
   "source": [
    "#Assignment "
   ]
  },
  {
   "cell_type": "code",
   "execution_count": 26,
   "id": "497777d6",
   "metadata": {},
   "outputs": [
    {
     "name": "stdout",
     "output_type": "stream",
     "text": [
      "Enter no of things:3\n",
      "Enter the element 1:Apple\n",
      "Eter the amount in kg:100\n",
      "Enter the element 2:Banana\n",
      "Enter the amount in dozen:45\n",
      "Enter the element 3:Cherry\n",
      "Eter the amount in kg:50\n"
     ]
    }
   ],
   "source": [
    "def write_sales_log(order):\n",
    "    file=open('sales.txt','w')\n",
    "    total,n=0,int(input('Enter no of things:'))\n",
    "    for i in range(n):\n",
    "        item=input('Enter the element %d:'%(i+1))\n",
    "        if item=='Banana':\n",
    "            q=float(input('Enter the amount in dozen:'))\n",
    "        else:\n",
    "            q=float(input('Eter the amount in kg:'))\n",
    "        if item in order:\n",
    "            file.write(item+'='+format(order[item][0],'.2f')+'\\n')\n",
    "            total+=(order[item][0]*q)\n",
    "    file.write('total='+format(total,'.2f')+'\\n')\n",
    "    file.close()\n",
    "def main():\n",
    "    order={'Apple':[100,1],'Banana':[45,1],'Cherry':[50,1]}\n",
    "    write_sales_log(order)\n",
    "main()"
   ]
  },
  {
   "cell_type": "code",
   "execution_count": 27,
   "id": "cd5867b0",
   "metadata": {},
   "outputs": [
    {
     "name": "stdout",
     "output_type": "stream",
     "text": [
      "Apple=100.00\n",
      "Banana=45.00\n",
      "Cherry=50.00\n",
      "total=14525.00\n",
      "\n"
     ]
    }
   ],
   "source": [
    "file=open('sales.txt','r')\n",
    "contents=file.read()\n",
    "file.close()\n",
    "print(contents)"
   ]
  },
  {
   "cell_type": "code",
   "execution_count": null,
   "id": "e51c10e0",
   "metadata": {},
   "outputs": [],
   "source": []
  }
 ],
 "metadata": {
  "kernelspec": {
   "display_name": "Python 3.9.4 64-bit ('tensorflow': conda)",
   "language": "python",
   "name": "python394jvsc74a57bd0552044c7f615bc91dd29daeed772dba6fe20322e36f3e727f3c4957fbbcfc56d"
  },
  "language_info": {
   "codemirror_mode": {
    "name": "ipython",
    "version": 3
   },
   "file_extension": ".py",
   "mimetype": "text/x-python",
   "name": "python",
   "nbconvert_exporter": "python",
   "pygments_lexer": "ipython3",
   "version": "3.9.4"
  }
 },
 "nbformat": 4,
 "nbformat_minor": 5
}
