{
 "cells": [
  {
   "cell_type": "code",
   "execution_count": 7,
   "id": "86710188",
   "metadata": {},
   "outputs": [
    {
     "name": "stdout",
     "output_type": "stream",
     "text": [
      "letter:  m\n",
      "letter:  r\n",
      "letter:  r\n",
      "letter:  y\n",
      "letter:  g\n",
      "letter:  o\n",
      "letter:  r\n",
      "letter:  o\n",
      "letter:  u\n",
      "letter:  n\n"
     ]
    }
   ],
   "source": [
    "str='merrygoround'\n",
    "i=0\n",
    "while i<len(str):\n",
    "    if str[i]=='e'or str[i]=='d':\n",
    "        i+=1\n",
    "        continue\n",
    "    print('letter: ',str[i])\n",
    "    i+=1"
   ]
  },
  {
   "cell_type": "code",
   "execution_count": 6,
   "id": "aab80436",
   "metadata": {},
   "outputs": [
    {
     "name": "stdout",
     "output_type": "stream",
     "text": [
      "letter:  m\n",
      "letter:  e\n",
      "letter:  r\n",
      "letter:  r\n",
      "letter:  y\n"
     ]
    }
   ],
   "source": [
    "str='merrygoround'     #print merry\n",
    "i=0\n",
    "while i<len(str):\n",
    "    if str[i]=='g':\n",
    "        i+=1\n",
    "        break\n",
    "    print('letter: ',str[i])\n",
    "    i+=1"
   ]
  },
  {
   "cell_type": "code",
   "execution_count": 8,
   "id": "f7ff89c1",
   "metadata": {},
   "outputs": [
    {
     "name": "stdout",
     "output_type": "stream",
     "text": [
      "Value is :  12\n"
     ]
    }
   ],
   "source": [
    "str='merrygoround'     #print merry\n",
    "i=0\n",
    "while i<len(str): \n",
    "    i+=1\n",
    "    pass\n",
    "print('Value is : ',i)"
   ]
  },
  {
   "cell_type": "code",
   "execution_count": 5,
   "id": "65887b46",
   "metadata": {},
   "outputs": [
    {
     "name": "stdout",
     "output_type": "stream",
     "text": [
      "enter a no.: 678\n",
      "Reverse no.:  inf\n"
     ]
    }
   ],
   "source": [
    "#reverse no.\n",
    "rem=0\n",
    "rev=0\n",
    "n=int(input(\"enter a no.: \"))\n",
    "while(n>0):\n",
    "    rem=n%10\n",
    "    rev=(rev*10)+rem\n",
    "    n=n/10\n",
    "    #print(\"Reverse no.: \",rev)\n",
    "print(\"Reverse no.: \",rev)"
   ]
  },
  {
   "cell_type": "markdown",
   "id": "de9ff8f9",
   "metadata": {},
   "source": [
    "# Function"
   ]
  },
  {
   "cell_type": "markdown",
   "id": "ec0ab575",
   "metadata": {},
   "source": [
    "-  It is a block of statement performing a specific tasks."
   ]
  },
  {
   "cell_type": "code",
   "execution_count": 32,
   "id": "0cd87a5f",
   "metadata": {},
   "outputs": [
    {
     "name": "stdout",
     "output_type": "stream",
     "text": [
      "python functions\n"
     ]
    }
   ],
   "source": [
    "def disc():\n",
    "    print(\"python functions\")\n",
    "disc()"
   ]
  },
  {
   "cell_type": "code",
   "execution_count": 29,
   "id": "8e862743",
   "metadata": {},
   "outputs": [
    {
     "name": "stdout",
     "output_type": "stream",
     "text": [
      "Enter:40\n",
      "Enter:90\n",
      "Add of these no.s:  130\n"
     ]
    }
   ],
   "source": [
    "#add 2 no.s\n",
    "def Add():\n",
    "    a=int(input(\"Enter:\"))\n",
    "    b=int(input(\"Enter:\"))\n",
    "    sum=a+b\n",
    "    print(\"Add of these no.s: \",sum)\n",
    "Add()"
   ]
  },
  {
   "cell_type": "code",
   "execution_count": 57,
   "id": "89bb618c",
   "metadata": {},
   "outputs": [
    {
     "name": "stdout",
     "output_type": "stream",
     "text": [
      "Enter value of x:678\n",
      "Enter value of y:89\n",
      "Sum is:  767\n",
      "sum:  None\n"
     ]
    }
   ],
   "source": [
    "def Add(x,y):\n",
    "    return x+y\n",
    "\n",
    "\n",
    "x=int(input(\"Enter value of x:\"))\n",
    "y=int(input(\"Enter value of y:\"))\n",
    "\n",
    "\n",
    "print(\"sum: \",sum(x,y)) "
   ]
  },
  {
   "cell_type": "code",
   "execution_count": 26,
   "id": "4aa02926",
   "metadata": {},
   "outputs": [
    {
     "name": "stdout",
     "output_type": "stream",
     "text": [
      "Sum:  30\n"
     ]
    }
   ],
   "source": [
    "def sum(x,y):\n",
    "    s=x+y\n",
    "    print(\"Sum: \",s)\n",
    "sum(10,20)"
   ]
  },
  {
   "cell_type": "code",
   "execution_count": 20,
   "id": "884933cb",
   "metadata": {},
   "outputs": [
    {
     "name": "stdout",
     "output_type": "stream",
     "text": [
      "sum:  30\n"
     ]
    }
   ],
   "source": [
    "def sum(x,y):         \n",
    "    return(x+y)       \n",
    "r=sum(10,20)         \n",
    "print(\"sum: \",r)"
   ]
  },
  {
   "cell_type": "code",
   "execution_count": 18,
   "id": "c16a540d",
   "metadata": {},
   "outputs": [
    {
     "name": "stdout",
     "output_type": "stream",
     "text": [
      "Larger is :  500\n"
     ]
    }
   ],
   "source": [
    "#larger\n",
    "def large(x,y):\n",
    "    if(x>y):\n",
    "        return x\n",
    "    else:\n",
    "        return y\n",
    "d=large(50,500)\n",
    "print(\"Larger is : \",d)"
   ]
  },
  {
   "cell_type": "code",
   "execution_count": 34,
   "id": "f72a6f47",
   "metadata": {},
   "outputs": [
    {
     "name": "stdout",
     "output_type": "stream",
     "text": [
      "Larger :  68\n"
     ]
    }
   ],
   "source": [
    "def Larger(m,n):\n",
    "    m=20\n",
    "    n=68\n",
    "    if(m>n):\n",
    "        print(\"Larger : \",m)\n",
    "    else:\n",
    "        print(\"Larger : \",n)\n",
    "Larger(20,68)"
   ]
  },
  {
   "cell_type": "code",
   "execution_count": 24,
   "id": "8a9489aa",
   "metadata": {},
   "outputs": [
    {
     "name": "stdout",
     "output_type": "stream",
     "text": [
      "enter : 785\n",
      "ODD\n"
     ]
    }
   ],
   "source": [
    "#evenodd\n",
    "def evenodd():\n",
    "    i=int(input(\"enter : \"))\n",
    "    if(i%2==0):\n",
    "        print(\"EVEN\")\n",
    "    else:\n",
    "        print(\"ODD\")\n",
    "evenodd()"
   ]
  },
  {
   "cell_type": "code",
   "execution_count": 26,
   "id": "7eabe418",
   "metadata": {},
   "outputs": [
    {
     "name": "stdout",
     "output_type": "stream",
     "text": [
      "Enter: 5\n",
      "FALSE\n"
     ]
    }
   ],
   "source": [
    "n=int(input(\"Enter: \"))\n",
    "def check(n):\n",
    "    if(n%2==0):\n",
    "        print(\"TRUE\")\n",
    "    else:\n",
    "        print(\"FALSE\")\n",
    "\n",
    "check(n)"
   ]
  },
  {
   "cell_type": "code",
   "execution_count": 31,
   "id": "706a862c",
   "metadata": {},
   "outputs": [
    {
     "data": {
      "text/plain": [
       "0.1"
      ]
     },
     "execution_count": 31,
     "metadata": {},
     "output_type": "execute_result"
    }
   ],
   "source": [
    "def Savg(x,y):\n",
    "    sum=0\n",
    "    for i in range(x,y):\n",
    "        sum=sum+i\n",
    "        avg=sum/y\n",
    "        return(avg)\n",
    "    m=Savg(1,10)\n",
    "Savg(1,10)"
   ]
  },
  {
   "cell_type": "code",
   "execution_count": 35,
   "id": "9f838e55",
   "metadata": {},
   "outputs": [
    {
     "name": "stdout",
     "output_type": "stream",
     "text": [
      "40 30\n"
     ]
    }
   ],
   "source": [
    "def sub(a,b):\n",
    "    print(a,b)\n",
    "    \n",
    "sub(40,30)"
   ]
  },
  {
   "cell_type": "code",
   "execution_count": 37,
   "id": "1e4d4214",
   "metadata": {},
   "outputs": [
    {
     "name": "stdout",
     "output_type": "stream",
     "text": [
      "Hey!!! Gautam 01\n",
      "Hey!!! aishi 02\n",
      "Hey!!! chiklu 02\n"
     ]
    }
   ],
   "source": [
    "def id(name,roll):\n",
    "    print(\"Hey!!!\",name,roll)\n",
    "    \n",
    "id(name=\"Gautam\",roll=\"01\")\n",
    "id(name=\"aishi\",roll=\"02\")\n",
    "id(roll=\"02\",name=\"chiklu\")"
   ]
  },
  {
   "cell_type": "code",
   "execution_count": 53,
   "id": "025b1197",
   "metadata": {},
   "outputs": [
    {
     "name": "stdout",
     "output_type": "stream",
     "text": [
      "welcome to Delhi\n"
     ]
    }
   ],
   "source": [
    "def fun(city):    \n",
    "    print(\"welcome\",\"to\",city)   \n",
    "     \n",
    "fun(\"Delhi\")    "
   ]
  },
  {
   "cell_type": "code",
   "execution_count": 39,
   "id": "337046c6",
   "metadata": {},
   "outputs": [
    {
     "name": "stdout",
     "output_type": "stream",
     "text": [
      "Welcome to Python\n",
      "Welcome to Python\n"
     ]
    }
   ],
   "source": [
    "def dis(name=\"Hi\"):\n",
    "    print(\"Welcome\",\"to\",\"Python\")\n",
    "\n",
    "dis(\"Hello\")\n",
    "dis()"
   ]
  },
  {
   "cell_type": "code",
   "execution_count": 46,
   "id": "2f1e1a4f",
   "metadata": {},
   "outputs": [
    {
     "name": "stdout",
     "output_type": "stream",
     "text": [
      "Sum is:  30\n"
     ]
    }
   ],
   "source": [
    "def sum(l1,l2):\n",
    "    print(\"Sum is: \",l1+l2)\n",
    "sum(10,20)"
   ]
  },
  {
   "cell_type": "code",
   "execution_count": 51,
   "id": "616937d8",
   "metadata": {},
   "outputs": [
    {
     "name": "stdout",
     "output_type": "stream",
     "text": [
      "(10, 20, 77, 90, 87)\n",
      "t1: (0, 10)\n",
      "t1: (1, 20)\n",
      "t1: (2, 77)\n",
      "t1: (3, 90)\n",
      "t1: (4, 87)\n"
     ]
    }
   ],
   "source": [
    "t1=(10,20,77,90,87)\n",
    "print(t1)\n",
    "count=0\n",
    "for i in t1:\n",
    "    print(\"t1:\",(count,i))\n",
    "    count=count+1"
   ]
  },
  {
   "cell_type": "code",
   "execution_count": 54,
   "id": "e025774c",
   "metadata": {},
   "outputs": [
    {
     "name": "stdout",
     "output_type": "stream",
     "text": [
      "Enter value of n: 50\n",
      "1 \n",
      "\n",
      "2 \n",
      "\n",
      "4 \n",
      "\n",
      "8 \n",
      "\n",
      "16 \n",
      "\n",
      "32 \n",
      "\n",
      "64 \n",
      "\n",
      "128 \n",
      "\n",
      "256 \n",
      "\n",
      "512 \n",
      "\n",
      "1024 \n",
      "\n",
      "2048 \n",
      "\n",
      "4096 \n",
      "\n",
      "8192 \n",
      "\n",
      "16384 \n",
      "\n",
      "32768 \n",
      "\n",
      "65536 \n",
      "\n",
      "131072 \n",
      "\n",
      "262144 \n",
      "\n",
      "524288 \n",
      "\n",
      "1048576 \n",
      "\n",
      "2097152 \n",
      "\n",
      "4194304 \n",
      "\n",
      "8388608 \n",
      "\n",
      "16777216 \n",
      "\n",
      "33554432 \n",
      "\n",
      "67108864 \n",
      "\n",
      "134217728 \n",
      "\n",
      "268435456 \n",
      "\n",
      "536870912 \n",
      "\n",
      "1073741824 \n",
      "\n",
      "2147483648 \n",
      "\n",
      "4294967296 \n",
      "\n",
      "8589934592 \n",
      "\n",
      "17179869184 \n",
      "\n",
      "34359738368 \n",
      "\n",
      "68719476736 \n",
      "\n",
      "137438953472 \n",
      "\n",
      "274877906944 \n",
      "\n",
      "549755813888 \n",
      "\n",
      "1099511627776 \n",
      "\n",
      "2199023255552 \n",
      "\n",
      "4398046511104 \n",
      "\n",
      "8796093022208 \n",
      "\n",
      "17592186044416 \n",
      "\n",
      "35184372088832 \n",
      "\n",
      "70368744177664 \n",
      "\n",
      "140737488355328 \n",
      "\n",
      "281474976710656 \n",
      "\n",
      "562949953421312 \n",
      "\n",
      "1125899906842624\n"
     ]
    }
   ],
   "source": [
    "#fibonacci series\n",
    "def fibo(n):\n",
    "    a=0\n",
    "    b=1\n",
    "    for x in range(n):\n",
    "        a=b\n",
    "        b=a+b\n",
    "        print(a,'\\n')\n",
    "    return b\n",
    "num=int(input(\"Enter value of n: \"))\n",
    "print(fibo(num))"
   ]
  },
  {
   "cell_type": "code",
   "execution_count": 59,
   "id": "24c3ee4f",
   "metadata": {},
   "outputs": [
    {
     "name": "stdout",
     "output_type": "stream",
     "text": [
      "Enter principal amount:30000\n",
      "Enter rate of interest:5\n",
      "Enter time in years:5\n",
      "SI:  7500.0\n"
     ]
    }
   ],
   "source": [
    "def si(p,t,r):    \n",
    "    return (p*t*r)/100    \n",
    "p = float(input(\"Enter principal amount:\"))\n",
    "r = float(input(\"Enter rate of interest:\"))    \n",
    "t = float(input(\"Enter time in years:\"))    \n",
    "print(\"SI: \",si(p,r,t))    "
   ]
  },
  {
   "cell_type": "code",
   "execution_count": 61,
   "id": "219df7bd",
   "metadata": {},
   "outputs": [
    {
     "name": "stdout",
     "output_type": "stream",
     "text": [
      "Enter intrest:37500\n",
      "Enter rate:5\n",
      "Enter time:5\n",
      "Principal Amount:  150000.0\n"
     ]
    }
   ],
   "source": [
    "def p_a(i,r,t):\n",
    "    return (100*i)/(r*t)\n",
    "i=float(input(\"Enter intrest:\"))\n",
    "r=float(input(\"Enter rate:\"))\n",
    "t=float(input(\"Enter time:\"))\n",
    "print(\"Principal Amount: \",p_a(i,r,t))"
   ]
  },
  {
   "cell_type": "code",
   "execution_count": 67,
   "id": "bdbb96b8",
   "metadata": {},
   "outputs": [
    {
     "name": "stdout",
     "output_type": "stream",
     "text": [
      "Hi!!!. I am and he is\n",
      "Pickachu\n",
      "Ninja Hattori\n"
     ]
    }
   ],
   "source": [
    "def cartoon(*names):\n",
    "    print(\"Hi!!!. I am\",\"and he is\")\n",
    "    \n",
    "    for name in names:\n",
    "        print(name)\n",
    "cartoon(\"Pickachu\",\"Ninja Hattori\")"
   ]
  },
  {
   "cell_type": "code",
   "execution_count": 69,
   "id": "8e7e8890",
   "metadata": {},
   "outputs": [
    {
     "name": "stdout",
     "output_type": "stream",
     "text": [
      "come to home pratik and do code and upload in github r8 now\n"
     ]
    }
   ],
   "source": [
    "def contact(name,msg):\n",
    "    print(\"come to home\",name,\"and\",msg)\n",
    "    \n",
    "contact(name=\"pratik\",msg=\"do code and upload in github r8 now\")"
   ]
  },
  {
   "cell_type": "code",
   "execution_count": 73,
   "id": "9f64ef9e",
   "metadata": {},
   "outputs": [
    {
     "name": "stdout",
     "output_type": "stream",
     "text": [
      "{'a': 'Strawberry'}\n",
      "{'fruits': 'Rapsberry', 'Cake': 'Blueberry cake'}\n"
     ]
    }
   ],
   "source": [
    "def items(**name):\n",
    "    print(name)\n",
    "items(a=\"Strawberry\")\n",
    "items(fruits=\"Rapsberry\",Cake=\"Blueberry cake\")"
   ]
  },
  {
   "cell_type": "code",
   "execution_count": 75,
   "id": "527908f7",
   "metadata": {},
   "outputs": [
    {
     "name": "stdout",
     "output_type": "stream",
     "text": [
      "sum:  180\n"
     ]
    }
   ],
   "source": [
    "def calculate(*args):\n",
    "    sum=0\n",
    "    for arg in args:\n",
    "        sum=sum+arg\n",
    "    print(\"sum: \",sum)  \n",
    "sum=0\n",
    "calculate(94,77,9)\n",
    "#print(\"value:\",sum)"
   ]
  },
  {
   "cell_type": "code",
   "execution_count": null,
   "id": "f530b554",
   "metadata": {},
   "outputs": [],
   "source": []
  }
 ],
 "metadata": {
  "kernelspec": {
   "display_name": "Python 3",
   "language": "python",
   "name": "python3"
  },
  "language_info": {
   "codemirror_mode": {
    "name": "ipython",
    "version": 3
   },
   "file_extension": ".py",
   "mimetype": "text/x-python",
   "name": "python",
   "nbconvert_exporter": "python",
   "pygments_lexer": "ipython3",
   "version": "3.9.5"
  }
 },
 "nbformat": 4,
 "nbformat_minor": 5
}
