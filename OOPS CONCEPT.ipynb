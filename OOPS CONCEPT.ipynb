{
 "cells": [
  {
   "cell_type": "code",
   "execution_count": 34,
   "id": "aa9554a1",
   "metadata": {},
   "outputs": [
    {
     "name": "stdout",
     "output_type": "stream",
     "text": [
      "ID & Name:  1 ABC\n",
      "ID & Name:  2 ABC2\n"
     ]
    }
   ],
   "source": [
    "class PPBStud:\n",
    "    def __init__(self,id,name):      # __intit__ is a private method\n",
    "        #(constructor) and here every constructor'll 've 'self' keyword as the first parameter\n",
    "        self.id=id   #self.id is the current instance id\n",
    "        self.name=name\n",
    "    \n",
    "    def display(self):\n",
    "        print(\"ID & Name: \",self.id,self.name)\n",
    "\n",
    "s1=PPBStud(1,\"ABC\")\n",
    "s2=PPBStud(2,\"ABC2\")\n",
    "s1.display()\n",
    "s2.display()                                                                             #that's the use of constructor"
   ]
  },
  {
   "cell_type": "code",
   "execution_count": 11,
   "id": "0746344b",
   "metadata": {},
   "outputs": [
    {
     "name": "stdout",
     "output_type": "stream",
     "text": [
      "we can make Phone call\n",
      "and also we can Play Games\n"
     ]
    }
   ],
   "source": [
    "class Phone:\n",
    "    def calls(self):\n",
    "        print(\"we can make Phone call\")\n",
    "    def games(self):\n",
    "        print(\"and also we can Play Games\")\n",
    "        \n",
    "#creating obj---\n",
    "\n",
    "p1=Phone()\n",
    "p1.calls()\n",
    "p1.games()"
   ]
  },
  {
   "cell_type": "code",
   "execution_count": 27,
   "id": "369212b3",
   "metadata": {},
   "outputs": [
    {
     "name": "stdout",
     "output_type": "stream",
     "text": [
      "we can make Phone call\n",
      "and also we can Play Games\n"
     ]
    },
    {
     "data": {
      "text/plain": [
       "500"
      ]
     },
     "execution_count": 27,
     "metadata": {},
     "output_type": "execute_result"
    }
   ],
   "source": [
    "class Phone:\n",
    "     \n",
    "    def colors(self,color):\n",
    "        self.color=color\n",
    "    def cost(self,cost):\n",
    "        self.cost=cost\n",
    "    def calls(self):\n",
    "        print(\"we can make Phone call\")\n",
    "    def games(self):\n",
    "        print(\"and also we can Play Games\")\n",
    "    def show_colors(self):\n",
    "        return self.colors\n",
    "    def show_cost(self):\n",
    "        return self.cost\n",
    "\n",
    "p2=Phone()\n",
    "p2.calls()\n",
    "p2.games()\n",
    "p2.colors(\"Black\")\n",
    "p2.cost(500)\n",
    "p2.show_colors()\n",
    "p2.show_cost()"
   ]
  },
  {
   "cell_type": "code",
   "execution_count": 33,
   "id": "3e5fafdb",
   "metadata": {},
   "outputs": [
    {
     "name": "stdout",
     "output_type": "stream",
     "text": [
      "My_Name: Baisali Das\n",
      "My_Gender: Female\n",
      "My_Age: 22\n",
      "My_Salary: 65000\n"
     ]
    }
   ],
   "source": [
    "class DivineAiStud:\n",
    "    def __init__(self,name,gender,age,salary):\n",
    "        self.name=name\n",
    "        self.gender=gender\n",
    "        self.age=age\n",
    "        self.salary=salary\n",
    "    def stud_information(self):\n",
    "        print(\"My_Name:\",self.name)\n",
    "        print(\"My_Gender:\",self.gender)\n",
    "        print(\"My_Age:\",self.age)\n",
    "        print(\"My_Salary:\",self.salary)\n",
    "s1=DivineAiStud('Baisali Das','Female',22,65000)\n",
    "s1.stud_information()"
   ]
  },
  {
   "cell_type": "markdown",
   "id": "ad4f6d87",
   "metadata": {},
   "source": [
    "- $__init__()$ is a constructor in class.\n",
    "    - by using $__init__()$ method we can assign values for name,gender,age,salary.\n",
    "- $self$ method is used to assigning values"
   ]
  },
  {
   "cell_type": "code",
   "execution_count": 43,
   "id": "8190a5fb",
   "metadata": {},
   "outputs": [],
   "source": [
    "#parent class\n",
    "class Vechile:\n",
    "    def __init__(self,cost,speed):\n",
    "        self.cost=cost\n",
    "        self.speed=speed\n",
    "    def Vechile_details(self):\n",
    "        #print(\"Brand : Tesla\")\n",
    "        print(\"Speed : \",self.speed)\n",
    "        print(\"Price : \",self.cost)"
   ]
  },
  {
   "cell_type": "code",
   "execution_count": 44,
   "id": "11c6bd7c",
   "metadata": {},
   "outputs": [
    {
     "name": "stdout",
     "output_type": "stream",
     "text": [
      "Speed :  200\n",
      "Price :  6.7\n",
      "Vechile : Car\n",
      "No.of wheels :  4\n",
      "Value Of horse power :  1020\n"
     ]
    }
   ],
   "source": [
    "#child class\n",
    "class Car(Vechile):\n",
    "    def __init__(self,cost,speed,tyres,hp):\n",
    "        super().__init__(speed,cost)\n",
    "        self.tyres=tyres\n",
    "        self.hp=hp\n",
    "    def Car_details(self):\n",
    "        print(\"Vechile : Car\")\n",
    "        print(\"No.of wheels : \",self.tyres)\n",
    "        print(\"Value Of horse power : \",self.hp)\n",
    "c1=Car(200,6.70000000,4,1020)\n",
    "c1.Vechile_details()\n",
    "c1.Car_details()"
   ]
  },
  {
   "cell_type": "code",
   "execution_count": 47,
   "id": "6476b036",
   "metadata": {},
   "outputs": [
    {
     "name": "stdout",
     "output_type": "stream",
     "text": [
      "There are many types of birds.\n",
      "Most of them canfly bt some can't fly.\n",
      "There are many types of birds.\n",
      "Sparrow Can fly.\n",
      "There are many types of birds.\n",
      "Ostriches Can't fly.\n"
     ]
    }
   ],
   "source": [
    "class Birds:\n",
    "    def intro(self):\n",
    "        print(\"There are many types of birds.\")\n",
    "    def flight(self):\n",
    "        print(\"Most of them canfly bt some can't fly.\")\n",
    "class sparrow(Birds):\n",
    "    def flight(self):\n",
    "        print(\"Sparrow Can fly.\")\n",
    "class ostrich(Birds):\n",
    "    def flight(self):\n",
    "        print(\"Ostriches Can't fly.\")\n",
    "b1=Birds()\n",
    "b2=sparrow()\n",
    "b3=ostrich()\n",
    "\n",
    "b1.intro()\n",
    "b1.flight()\n",
    "\n",
    "b2.intro()\n",
    "b2.flight()\n",
    "\n",
    "b3.intro()\n",
    "b3.flight()"
   ]
  },
  {
   "cell_type": "code",
   "execution_count": 48,
   "id": "8f92f1f4",
   "metadata": {},
   "outputs": [
    {
     "name": "stdout",
     "output_type": "stream",
     "text": [
      "This is the base class\n"
     ]
    }
   ],
   "source": [
    "class Base:    \n",
    "    def __init__(self):\n",
    "        self.a=\"This is the base class\"\n",
    "        self.__c=\"This is the base class\"\n",
    "        \n",
    "class Derived(Base):\n",
    "    def __init__(self):\n",
    "        Base.__init__(self)\n",
    "        print(\"Calling private member of base class: \")\n",
    "        print(self.__c)\n",
    "obj1 = Base()\n",
    "print(obj1.a)"
   ]
  },
  {
   "cell_type": "code",
   "execution_count": 23,
   "id": "3c7976c5",
   "metadata": {},
   "outputs": [
    {
     "name": "stdout",
     "output_type": "stream",
     "text": [
      "Selling Price of this laptop: 55000\n",
      "Selling Price of this laptop: 55000\n",
      "Selling Price of this laptop: 100000\n"
     ]
    }
   ],
   "source": [
    "class Dellaptop:\n",
    "\n",
    "    def __init__(self):\n",
    "        self.__price = 55000\n",
    "\n",
    "    def sell(self):\n",
    "        #print(\"Welcome to DELL.\")\n",
    "        print(\"Selling Price of this laptop: {}\".format(self.__price))\n",
    "\n",
    "    def setPrice(self, price):\n",
    "        self.__price = price\n",
    "\n",
    "d = Dellaptop()\n",
    "d.sell()\n",
    "\n",
    "d.__price = 100000\n",
    "d.sell()\n",
    "\n",
    "d.setPrice(100000)\n",
    "d.sell()"
   ]
  },
  {
   "cell_type": "code",
   "execution_count": 28,
   "id": "6f660d14",
   "metadata": {},
   "outputs": [
    {
     "name": "stdout",
     "output_type": "stream",
     "text": [
      "Car is faster than cycle\n",
      "Cycling is good for health\n"
     ]
    }
   ],
   "source": [
    "class Car:\n",
    "    def drive(self):\n",
    "        print(\"Car is faster than cycle\")\n",
    "    def fly(self):\n",
    "        print(\"car can't fly in sky\")\n",
    "class Cycle:\n",
    "    def drive(self):\n",
    "        print(\"Cycling is good for health\")\n",
    "    def fly(self): \n",
    "        print(\"Cycle can't fly in the sky\")\n",
    "        \n",
    "#common interface\n",
    "def drive_test(vechicle):\n",
    "    vechicle.drive()\n",
    "#instantaniate obj\n",
    "zup=Car()\n",
    "zap=Cycle()\n",
    "#passing obj\n",
    "drive_test(zup)\n",
    "drive_test(zap)"
   ]
  },
  {
   "cell_type": "code",
   "execution_count": null,
   "id": "79c50ac0",
   "metadata": {},
   "outputs": [],
   "source": []
  },
  {
   "cell_type": "code",
   "execution_count": 39,
   "id": "ef9c32b7",
   "metadata": {},
   "outputs": [],
   "source": [
    "class Polygon:\n",
    "    def __init__(self,Sides):\n",
    "        self.n=Sides\n",
    "        self.sides=[0 for i in range(Sides)]\n",
    "    def inputsides(self):\n",
    "        self.sides=[float(input(\"Enter sides \"+str(i+1)+\" : \")) for i in range(self.n)]\n",
    "    def dispsides(self):\n",
    "        for i in range(self.n):\n",
    "            print(\"Side\",i+1,\"is\",self.sides[i])"
   ]
  },
  {
   "cell_type": "code",
   "execution_count": 43,
   "id": "2b175791",
   "metadata": {},
   "outputs": [
    {
     "name": "stdout",
     "output_type": "stream",
     "text": [
      "Enter sides 1 : 4\n",
      "Enter sides 2 : 6\n",
      "Enter sides 3 : 9\n",
      "Side 1 is 4.0\n",
      "Side 2 is 6.0\n",
      "Side 3 is 9.0\n",
      "Area of Triangle is 9.56\n"
     ]
    }
   ],
   "source": [
    "class Triangle(Polygon):\n",
    "    def __init__(self):\n",
    "        Polygon.__init__(self,3)\n",
    "    def Area(self):\n",
    "        a,b,c=self.sides\n",
    "        s=(a+b+c)/2\n",
    "        area=(s*(s-a)*(s-b)*(s-c))**0.5\n",
    "        print('Area of Triangle is %0.2f'%area)\n",
    "t=Triangle()   \n",
    "t.inputsides()\n",
    "t.dispsides()\n",
    "t.Area()"
   ]
  },
  {
   "cell_type": "code",
   "execution_count": 44,
   "id": "d9dadcf2",
   "metadata": {},
   "outputs": [
    {
     "data": {
      "text/plain": [
       "True"
      ]
     },
     "execution_count": 44,
     "metadata": {},
     "output_type": "execute_result"
    }
   ],
   "source": [
    "isinstance(t,Triangle)"
   ]
  },
  {
   "cell_type": "code",
   "execution_count": 45,
   "id": "e77ddfbf",
   "metadata": {},
   "outputs": [
    {
     "data": {
      "text/plain": [
       "True"
      ]
     },
     "execution_count": 45,
     "metadata": {},
     "output_type": "execute_result"
    }
   ],
   "source": [
    "isinstance(t,Polygon)"
   ]
  },
  {
   "cell_type": "code",
   "execution_count": 50,
   "id": "843bdf86",
   "metadata": {},
   "outputs": [
    {
     "data": {
      "text/plain": [
       "(False, True, True)"
      ]
     },
     "execution_count": 50,
     "metadata": {},
     "output_type": "execute_result"
    }
   ],
   "source": [
    "issubclass(Polygon,Triangle),issubclass(Triangle,Polygon),issubclass(bool,int)"
   ]
  },
  {
   "cell_type": "code",
   "execution_count": 49,
   "id": "b2f6d587",
   "metadata": {},
   "outputs": [
    {
     "data": {
      "text/plain": [
       "True"
      ]
     },
     "execution_count": 49,
     "metadata": {},
     "output_type": "execute_result"
    }
   ],
   "source": [
    "isinstance(t,object)"
   ]
  },
  {
   "cell_type": "code",
   "execution_count": 46,
   "id": "a8e10a2b",
   "metadata": {},
   "outputs": [
    {
     "data": {
      "text/plain": [
       "False"
      ]
     },
     "execution_count": 46,
     "metadata": {},
     "output_type": "execute_result"
    }
   ],
   "source": [
    "isinstance(t,float)"
   ]
  },
  {
   "cell_type": "markdown",
   "id": "8ae7e128",
   "metadata": {},
   "source": [
    "- function $isinstance()$ returns $True$ if object is an instance of the class or another derived class from it.\n",
    "- each & every class in python inherits from the parent class $object$\n",
    "- $issubclass()$ is used to chk for class inheritance"
   ]
  },
  {
   "cell_type": "code",
   "execution_count": 57,
   "id": "db72041c",
   "metadata": {},
   "outputs": [
    {
     "name": "stdout",
     "output_type": "stream",
     "text": [
      "(11,14)\n"
     ]
    }
   ],
   "source": [
    "#overloading + operator\n",
    "class over:\n",
    "    def __init__(self,x=0,y=0):\n",
    "        self.x=x\n",
    "        self.y=y\n",
    "    def __str__(self):\n",
    "        return \"({0},{1})\".format(self.x,self.y)\n",
    "    def __add__(self,other):\n",
    "        x=self.x+other.x\n",
    "        y=self.y+other.y\n",
    "        return over(x,y)\n",
    "    \n",
    "o1=over(5,6)\n",
    "o2=over(6,8)\n",
    "\n",
    "print(o1+o2)"
   ]
  },
  {
   "cell_type": "code",
   "execution_count": 61,
   "id": "c69076f2",
   "metadata": {},
   "outputs": [
    {
     "name": "stdout",
     "output_type": "stream",
     "text": [
      "True\n",
      "False\n",
      "False\n"
     ]
    }
   ],
   "source": [
    "#overloading < operator\n",
    "class over:\n",
    "    def __init__(self,x=0,y=0):\n",
    "        self.x=x\n",
    "        self.y=y\n",
    "    def __str__(self):\n",
    "        return \"({0},{1})\".format(self.x,self.y)\n",
    "    def __lt__(self,other):\n",
    "        self_mag=(self.x**2)+(self.y**2)\n",
    "        other_mag=(other.x**2)+(other.y**2)\n",
    "        return self_mag<other_mag\n",
    "    \n",
    "    \n",
    "o1=over(5,6)\n",
    "o2=over(-6,-8)\n",
    "o3=over(2,-2)\n",
    "\n",
    "print(o1<o2)\n",
    "print(o2<o3)\n",
    "print(o1<o3)"
   ]
  },
  {
   "cell_type": "code",
   "execution_count": 65,
   "id": "21491ae7",
   "metadata": {},
   "outputs": [
    {
     "name": "stdout",
     "output_type": "stream",
     "text": [
      "(-1,-2)\n",
      "(1,2)\n"
     ]
    }
   ],
   "source": [
    "#overloading - operator\n",
    "class over:\n",
    "    def __init__(self,x=0,y=0):\n",
    "        self.x=x\n",
    "        self.y=y\n",
    "    def __str__(self):\n",
    "        return \"({0},{1})\".format(self.x,self.y)\n",
    "    def __sub__(self,other):\n",
    "        x=self.x-other.x\n",
    "        y=self.y-other.y\n",
    "        return over(x,y)\n",
    "    \n",
    "o1=over(5,6)\n",
    "o2=over(6,8)\n",
    "\n",
    "print(o1-o2)\n",
    "print(o2-o1)"
   ]
  },
  {
   "cell_type": "code",
   "execution_count": 66,
   "id": "a3657e97",
   "metadata": {},
   "outputs": [
    {
     "name": "stdout",
     "output_type": "stream",
     "text": [
      "(30,48)\n"
     ]
    }
   ],
   "source": [
    "#overloading * operator\n",
    "class over:\n",
    "    def __init__(self,x=0,y=0):\n",
    "        self.x=x\n",
    "        self.y=y\n",
    "    def __str__(self):\n",
    "        return \"({0},{1})\".format(self.x,self.y)\n",
    "    def __mul__(self,other):\n",
    "        x=self.x*other.x\n",
    "        y=self.y*other.y\n",
    "        return over(x,y)\n",
    "    \n",
    "o1=over(5,6)\n",
    "o2=over(6,8)\n",
    "\n",
    "print(o1*o2)"
   ]
  },
  {
   "cell_type": "code",
   "execution_count": 67,
   "id": "7d3773b1",
   "metadata": {},
   "outputs": [
    {
     "name": "stdout",
     "output_type": "stream",
     "text": [
      "(15625,1679616)\n"
     ]
    }
   ],
   "source": [
    "#overloading ** operator\n",
    "class over:\n",
    "    def __init__(self,x=0,y=0):\n",
    "        self.x=x\n",
    "        self.y=y\n",
    "    def __str__(self):\n",
    "        return \"({0},{1})\".format(self.x,self.y)\n",
    "    def __pow__(self,other):\n",
    "        x=self.x**other.x\n",
    "        y=self.y**other.y\n",
    "        return over(x,y)\n",
    "    \n",
    "o1=over(5,6)\n",
    "o2=over(6,8)\n",
    "\n",
    "print(o1**o2)"
   ]
  },
  {
   "cell_type": "code",
   "execution_count": 72,
   "id": "6f4e11f8",
   "metadata": {},
   "outputs": [
    {
     "name": "stdout",
     "output_type": "stream",
     "text": [
      "(0,4)\n"
     ]
    }
   ],
   "source": [
    "#overloading // operator\n",
    "class over:\n",
    "    def __init__(self,x=0,y=0):\n",
    "        self.x=x\n",
    "        self.y=y\n",
    "    def __str__(self):\n",
    "        return \"({0},{1})\".format(self.x,self.y)\n",
    "    def __floordiv__(self,other):\n",
    "        x=self.x//other.x\n",
    "        y=self.y//other.y\n",
    "        return over(x,y)\n",
    "    \n",
    "o1=over(1,4)\n",
    "o2=over(4,1)\n",
    "\n",
    "print(o1//o2)"
   ]
  },
  {
   "cell_type": "code",
   "execution_count": 75,
   "id": "c31d1685",
   "metadata": {},
   "outputs": [
    {
     "name": "stdout",
     "output_type": "stream",
     "text": [
      "(1.2,1.3333333333333333)\n"
     ]
    }
   ],
   "source": [
    "#overloading / operator\n",
    "class over:\n",
    "    def __init__(self,x=0,y=0):\n",
    "        self.x=x\n",
    "        self.y=y\n",
    "    def __str__(self):\n",
    "        return \"({0},{1})\".format(self.x,self.y)\n",
    "    def __truediv__(self,other):\n",
    "        x=self.x/other.x\n",
    "        y=self.y/other.y\n",
    "        return over(x,y)\n",
    "    \n",
    "o1=over(5,6)\n",
    "o2=over(6,8)\n",
    "\n",
    "print(o2/o1)"
   ]
  },
  {
   "cell_type": "code",
   "execution_count": 76,
   "id": "38b90ed6",
   "metadata": {},
   "outputs": [
    {
     "name": "stdout",
     "output_type": "stream",
     "text": [
      "(5,6)\n"
     ]
    }
   ],
   "source": [
    "#overloading % operator\n",
    "class over:\n",
    "    def __init__(self,x=0,y=0):\n",
    "        self.x=x\n",
    "        self.y=y\n",
    "    def __str__(self):\n",
    "        return \"({0},{1})\".format(self.x,self.y)\n",
    "    def __mod__(self,other):\n",
    "        x=self.x%other.x\n",
    "        y=self.y%other.y\n",
    "        return over(x,y)\n",
    "    \n",
    "o1=over(5,6)\n",
    "o2=over(6,8)\n",
    "\n",
    "print(o1%o2)"
   ]
  },
  {
   "cell_type": "code",
   "execution_count": 77,
   "id": "4c9d4ffa",
   "metadata": {},
   "outputs": [
    {
     "name": "stdout",
     "output_type": "stream",
     "text": [
      "(320,1536)\n"
     ]
    }
   ],
   "source": [
    "#overloading  << operator\n",
    "class over:\n",
    "    def __init__(self,x=0,y=0):\n",
    "        self.x=x\n",
    "        self.y=y\n",
    "    def __str__(self):\n",
    "        return \"({0},{1})\".format(self.x,self.y)\n",
    "    def __lshift__(self,other):\n",
    "        x=self.x<<other.x\n",
    "        y=self.y<<other.y\n",
    "        return over(x,y)\n",
    "    \n",
    "o1=over(5,6)\n",
    "o2=over(6,8)\n",
    "\n",
    "print(o1<<o2)"
   ]
  },
  {
   "cell_type": "code",
   "execution_count": 78,
   "id": "46898d96",
   "metadata": {},
   "outputs": [
    {
     "name": "stdout",
     "output_type": "stream",
     "text": [
      "(4,0)\n"
     ]
    }
   ],
   "source": [
    "#overloading & operator\n",
    "class over:\n",
    "    def __init__(self,x=0,y=0):\n",
    "        self.x=x\n",
    "        self.y=y\n",
    "    def __str__(self):\n",
    "        return \"({0},{1})\".format(self.x,self.y)\n",
    "    def __and__(self,other):\n",
    "        x=self.x & other.x\n",
    "        y=self.y & other.y\n",
    "        return over(x,y)\n",
    "    \n",
    "o1=over(5,6)\n",
    "o2=over(6,8)\n",
    "\n",
    "print(o1&o2)"
   ]
  },
  {
   "cell_type": "code",
   "execution_count": 79,
   "id": "3c5ec9ad",
   "metadata": {},
   "outputs": [
    {
     "name": "stdout",
     "output_type": "stream",
     "text": [
      "(7,14)\n"
     ]
    }
   ],
   "source": [
    "#overloading | operator\n",
    "class over:\n",
    "    def __init__(self,x=0,y=0):\n",
    "        self.x=x\n",
    "        self.y=y\n",
    "    def __str__(self):\n",
    "        return \"({0},{1})\".format(self.x,self.y)\n",
    "    def __or__(self,other):\n",
    "        x=self.x | other.x\n",
    "        y=self.y | other.y\n",
    "        return over(x,y)\n",
    "    \n",
    "o1=over(5,6)\n",
    "o2=over(6,8)\n",
    "\n",
    "print(o1|o2)"
   ]
  },
  {
   "cell_type": "code",
   "execution_count": 80,
   "id": "ed56f764",
   "metadata": {},
   "outputs": [
    {
     "name": "stdout",
     "output_type": "stream",
     "text": [
      "(3,14)\n"
     ]
    }
   ],
   "source": [
    "#overloading ^ operator\n",
    "class over:\n",
    "    def __init__(self,x=0,y=0):\n",
    "        self.x=x\n",
    "        self.y=y\n",
    "    def __str__(self):\n",
    "        return \"({0},{1})\".format(self.x,self.y)\n",
    "    def __xor__(self,other):\n",
    "        x=self.x ^ other.x\n",
    "        y=self.y ^ other.y\n",
    "        return over(x,y)\n",
    "    \n",
    "o1=over(5,6)\n",
    "o2=over(6,8)\n",
    "\n",
    "print(o1^o2)"
   ]
  },
  {
   "cell_type": "code",
   "execution_count": 89,
   "id": "acbb4d64",
   "metadata": {},
   "outputs": [
    {
     "name": "stdout",
     "output_type": "stream",
     "text": [
      "False\n",
      "False\n",
      "False\n"
     ]
    }
   ],
   "source": [
    "#overloading == operator\n",
    "class over:\n",
    "    def __init__(self,x=0,y=0):\n",
    "        self.x=x\n",
    "        self.y=y\n",
    "    def __str__(self):\n",
    "        return \"({0},{1})\".format(self.x,self.y)\n",
    "    def __eq__(self,other):\n",
    "        self_mag=(self.x**2)-(self.y**2)\n",
    "        other_mag=(other.x**2)-(other.y**2)\n",
    "        return self_mag==other_mag\n",
    "    \n",
    "    \n",
    "o1=over(5,6)\n",
    "o2=over(-6,-8)\n",
    "o3=over(2,-2)\n",
    "\n",
    "print(o1==o2)\n",
    "print(o2==o3)\n",
    "print(o1==o3)"
   ]
  },
  {
   "cell_type": "code",
   "execution_count": null,
   "id": "a8948875",
   "metadata": {},
   "outputs": [],
   "source": []
  }
 ],
 "metadata": {
  "kernelspec": {
   "display_name": "Python 3.9.4 64-bit ('tensorflow': conda)",
   "language": "python",
   "name": "python394jvsc74a57bd0552044c7f615bc91dd29daeed772dba6fe20322e36f3e727f3c4957fbbcfc56d"
  },
  "language_info": {
   "codemirror_mode": {
    "name": "ipython",
    "version": 3
   },
   "file_extension": ".py",
   "mimetype": "text/x-python",
   "name": "python",
   "nbconvert_exporter": "python",
   "pygments_lexer": "ipython3",
   "version": "3.9.4"
  }
 },
 "nbformat": 4,
 "nbformat_minor": 5
}
