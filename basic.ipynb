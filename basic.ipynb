{
 "cells": [
  {
   "cell_type": "markdown",
   "metadata": {},
   "source": [
    "//10/04/2021\n",
    "control statements//"
   ]
  },
  {
   "cell_type": "code",
   "execution_count": 1,
   "metadata": {},
   "outputs": [
    {
     "name": "stdout",
     "output_type": "stream",
     "text": [
      "enter marks:40\n"
     ]
    }
   ],
   "source": [
    "#simple if statement\n",
    "\n",
    "x=int(input(\"enter marks:\"))\n",
    "if x<40:\n",
    "    print('Fail')"
   ]
  },
  {
   "cell_type": "code",
   "execution_count": 9,
   "metadata": {},
   "outputs": [
    {
     "name": "stdout",
     "output_type": "stream",
     "text": [
      "enter the value0\n",
      "Fail\n"
     ]
    }
   ],
   "source": [
    "#if-else\n",
    "x=int(input(\"enter the value\"))\n",
    "if x>=40:\n",
    "    print(\"pass\")\n",
    "else:\n",
    "    print(\"Fail\")"
   ]
  },
  {
   "cell_type": "code",
   "execution_count": 10,
   "metadata": {},
   "outputs": [
    {
     "name": "stdout",
     "output_type": "stream",
     "text": [
      "enter marks:23\n",
      "pass\n",
      "grade C\n",
      "complete\n"
     ]
    }
   ],
   "source": [
    "#if-else chain\n",
    "x=int(input(\"enter marks:\"))\n",
    "if x>100 or x<0:\n",
    "    print('invalid')\n",
    "elif x>=90:\n",
    "    print('pass')\n",
    "    print('grade A')\n",
    "elif x>=75:\n",
    "    print('pass')\n",
    "    print('grade B')\n",
    "elif x>=60:\n",
    "    print('pass')\n",
    "    print('grade C')\n",
    "elif x>=40:\n",
    "    print('pass')\n",
    "    print('grade D')\n",
    "else:\n",
    "    \n",
    "    print('pass')\n",
    "    print('grade C')\n",
    "print('complete')"
   ]
  },
  {
   "cell_type": "code",
   "execution_count": 11,
   "metadata": {},
   "outputs": [
    {
     "name": "stdout",
     "output_type": "stream",
     "text": [
      "enter marks:98\n",
      "distinction\n"
     ]
    }
   ],
   "source": [
    "#nested if\n",
    "x=float(input(\"enter marks:\"))\n",
    "if(x>=60):\n",
    "    if(x<70):\n",
    "        print(\"First class\")\n",
    "    else:\n",
    "        print(\"distinction\")\n",
    "else:\n",
    "    print(\"NA\")"
   ]
  },
  {
   "cell_type": "code",
   "execution_count": 12,
   "metadata": {},
   "outputs": [
    {
     "name": "stdout",
     "output_type": "stream",
     "text": [
      "please enter no.of hours worked:8\n",
      "please enter wage per hour:90\n",
      "gross pay= Rs 720.0\n"
     ]
    }
   ],
   "source": [
    "workedHours=float(input(\"please enter no.of hours worked:\"))\n",
    "wageRate=float(input(\"please enter wage per hour:\"))\n",
    "print(\"gross pay= Rs\",workedHours*wageRate)"
   ]
  },
  {
   "cell_type": "code",
   "execution_count": 14,
   "metadata": {},
   "outputs": [
    {
     "ename": "SyntaxError",
     "evalue": "invalid syntax (<ipython-input-14-17c37f334536>, line 2)",
     "output_type": "error",
     "traceback": [
      "\u001b[1;36m  File \u001b[1;32m\"<ipython-input-14-17c37f334536>\"\u001b[1;36m, line \u001b[1;32m2\u001b[0m\n\u001b[1;33m    tempInF=(tempInC*(9/5))+32\u001b[0m\n\u001b[1;37m    ^\u001b[0m\n\u001b[1;31mSyntaxError\u001b[0m\u001b[1;31m:\u001b[0m invalid syntax\n"
     ]
    }
   ],
   "source": [
    "tempInC=float(input(\"please enter trmp. in celcus:\")\n",
    "tempInF=(tempInC*(9/5))+32\n",
    "print(\"temp. in F={0:0.2f}\".format(tempInF),end=\"F \\n\")"
   ]
  },
  {
   "cell_type": "code",
   "execution_count": 15,
   "metadata": {},
   "outputs": [
    {
     "name": "stdout",
     "output_type": "stream",
     "text": [
      "0\n",
      "1\n",
      "2\n",
      "3\n",
      "4\n"
     ]
    }
   ],
   "source": [
    "for i in range(5):\n",
    "    print(i)"
   ]
  },
  {
   "cell_type": "code",
   "execution_count": 16,
   "metadata": {},
   "outputs": [
    {
     "name": "stdout",
     "output_type": "stream",
     "text": [
      "h\n",
      "e\n",
      "l\n",
      "l\n",
      "o\n"
     ]
    }
   ],
   "source": [
    "for i in'hello':\n",
    "    print(i)"
   ]
  },
  {
   "cell_type": "code",
   "execution_count": null,
   "metadata": {},
   "outputs": [],
   "source": [
    "for i in range(10,0,-3):\n",
    "    print(i)"
   ]
  }
 ],
 "metadata": {
  "kernelspec": {
   "display_name": "Python 3",
   "language": "python",
   "name": "python3"
  },
  "language_info": {
   "codemirror_mode": {
    "name": "ipython",
    "version": 3
   },
   "file_extension": ".py",
   "mimetype": "text/x-python",
   "name": "python",
   "nbconvert_exporter": "python",
   "pygments_lexer": "ipython3",
   "version": "3.9.5"
  }
 },
 "nbformat": 4,
 "nbformat_minor": 4
}
