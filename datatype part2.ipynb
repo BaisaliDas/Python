{
 "cells": [
  {
   "cell_type": "markdown",
   "id": "d7cbf771",
   "metadata": {},
   "source": [
    "### Mutable datatypes"
   ]
  },
  {
   "cell_type": "markdown",
   "id": "61f0d6b1",
   "metadata": {},
   "source": [
    "#### list\n",
    "- It is changable i.e., we can add, remove items in a list\n",
    "- As list are indexed, list allow duplicates"
   ]
  },
  {
   "cell_type": "code",
   "execution_count": 15,
   "id": "39345626",
   "metadata": {},
   "outputs": [
    {
     "data": {
      "text/plain": [
       "['a', 'b', 'c', 'a', 'z']"
      ]
     },
     "execution_count": 15,
     "metadata": {},
     "output_type": "execute_result"
    }
   ],
   "source": [
    "l1=['a','b','c','a','z']\n",
    "l1"
   ]
  },
  {
   "cell_type": "code",
   "execution_count": 1,
   "id": "647b5c3b",
   "metadata": {},
   "outputs": [],
   "source": [
    "lst=[1,2,3,4,5]\n",
    "lst[3]='A'"
   ]
  },
  {
   "cell_type": "code",
   "execution_count": 2,
   "id": "bc3d68b1",
   "metadata": {},
   "outputs": [
    {
     "data": {
      "text/plain": [
       "[1, 2, 3, 'A', 5]"
      ]
     },
     "execution_count": 2,
     "metadata": {},
     "output_type": "execute_result"
    }
   ],
   "source": [
    "lst"
   ]
  },
  {
   "cell_type": "code",
   "execution_count": 3,
   "id": "5d7fcf13",
   "metadata": {},
   "outputs": [
    {
     "data": {
      "text/plain": [
       "['1', 'b', 2.5, 'd']"
      ]
     },
     "execution_count": 3,
     "metadata": {},
     "output_type": "execute_result"
    }
   ],
   "source": [
    "#concatenation\n",
    "['1','b',2.5]+['d']"
   ]
  },
  {
   "cell_type": "code",
   "execution_count": 4,
   "id": "913908cc",
   "metadata": {},
   "outputs": [
    {
     "data": {
      "text/plain": [
       "['a', 'b', 3.5, 'a', 'b', 3.5]"
      ]
     },
     "execution_count": 4,
     "metadata": {},
     "output_type": "execute_result"
    }
   ],
   "source": [
    "#repetition\n",
    "['a','b',3.5]*2"
   ]
  },
  {
   "cell_type": "code",
   "execution_count": 5,
   "id": "a283f774",
   "metadata": {},
   "outputs": [
    {
     "data": {
      "text/plain": [
       "(['b', 'x', 'y'], 'a')"
      ]
     },
     "execution_count": 5,
     "metadata": {},
     "output_type": "execute_result"
    }
   ],
   "source": [
    "#slicing\n",
    "a=['a','b','x','y']\n",
    "a[1:4],a[0] #a[0]__indexing"
   ]
  },
  {
   "cell_type": "code",
   "execution_count": 6,
   "id": "5ba89bf3",
   "metadata": {},
   "outputs": [
    {
     "data": {
      "text/plain": [
       "[1, 'a', 2.5, 'e']"
      ]
     },
     "execution_count": 6,
     "metadata": {},
     "output_type": "execute_result"
    }
   ],
   "source": [
    "#appendvalue\n",
    "list=[1,'a',2.5]\n",
    "list.append('e')\n",
    "list"
   ]
  },
  {
   "cell_type": "code",
   "execution_count": 10,
   "id": "3e9b3fca",
   "metadata": {},
   "outputs": [
    {
     "data": {
      "text/plain": [
       "[1, 'a', 'g', 'b', 'b', 2.5, 'e']"
      ]
     },
     "execution_count": 10,
     "metadata": {},
     "output_type": "execute_result"
    }
   ],
   "source": [
    "list.insert(2,'g')\n",
    "list"
   ]
  },
  {
   "cell_type": "code",
   "execution_count": 18,
   "id": "0981ca8f",
   "metadata": {},
   "outputs": [
    {
     "data": {
      "text/plain": [
       "[1, 'a', 'g', 'g', 'g', 'b']"
      ]
     },
     "execution_count": 18,
     "metadata": {},
     "output_type": "execute_result"
    }
   ],
   "source": [
    "list.insert(3,'g')\n",
    "list"
   ]
  },
  {
   "cell_type": "code",
   "execution_count": 19,
   "id": "ed2a3eff",
   "metadata": {},
   "outputs": [
    {
     "data": {
      "text/plain": [
       "'b'"
      ]
     },
     "execution_count": 19,
     "metadata": {},
     "output_type": "execute_result"
    }
   ],
   "source": [
    "list.pop()"
   ]
  },
  {
   "cell_type": "code",
   "execution_count": 20,
   "id": "39d6360f",
   "metadata": {},
   "outputs": [
    {
     "data": {
      "text/plain": [
       "'g'"
      ]
     },
     "execution_count": 20,
     "metadata": {},
     "output_type": "execute_result"
    }
   ],
   "source": [
    "list.pop()"
   ]
  },
  {
   "cell_type": "code",
   "execution_count": 24,
   "id": "bf663c69",
   "metadata": {},
   "outputs": [
    {
     "name": "stdout",
     "output_type": "stream",
     "text": [
      "['green', 'red', 'blue', 'yellow', 'pink', 'grey']\n"
     ]
    }
   ],
   "source": [
    "my_lst=['green','red','blue','yellow','pink']\n",
    "my_lst.append('grey')\n",
    "print(my_lst)"
   ]
  },
  {
   "cell_type": "code",
   "execution_count": 8,
   "id": "96559c1e",
   "metadata": {},
   "outputs": [
    {
     "name": "stdout",
     "output_type": "stream",
     "text": [
      "3\n",
      "[88, 90, 67, 56, 68, 96]\n",
      "['Hi folks!!!', 'Hi folks!!!', 'Hi folks!!!']\n",
      "True\n"
     ]
    }
   ],
   "source": [
    "print(len([2,8,99.9]))  \n",
    "print([88,90,67]+[56,68,96])\n",
    "print(['Hi folks!!!']*3)\n",
    "print(8 in [88,96,8])"
   ]
  },
  {
   "cell_type": "code",
   "execution_count": 10,
   "id": "5cc81048",
   "metadata": {},
   "outputs": [
    {
     "name": "stdout",
     "output_type": "stream",
     "text": [
      "2\n",
      "4\n",
      "6\n",
      "8\n"
     ]
    }
   ],
   "source": [
    "x=[2,4,6,8]\n",
    "for x in [2,4,6,8]:\n",
    "    print(x)"
   ]
  },
  {
   "cell_type": "code",
   "execution_count": 96,
   "id": "817fc554",
   "metadata": {},
   "outputs": [
    {
     "name": "stdout",
     "output_type": "stream",
     "text": [
      "Sorted_List:\n",
      "  [0, 2, 4, 6, 8, 10]\n"
     ]
    }
   ],
   "source": [
    "list=[0,2,4,6,8,10]\n",
    "list.sort()\n",
    "print(\"Sorted_List:\\n \",list)"
   ]
  },
  {
   "cell_type": "code",
   "execution_count": 95,
   "id": "281b0cc7",
   "metadata": {},
   "outputs": [
    {
     "name": "stdout",
     "output_type": "stream",
     "text": [
      "List in Descending Order:\n",
      "  [10, 8, 6, 4, 2, 0]\n"
     ]
    }
   ],
   "source": [
    "list.sort(reverse=True)  \n",
    "print(\"List in Descending Order:\\n \",list)"
   ]
  },
  {
   "cell_type": "code",
   "execution_count": 1,
   "id": "bb373810",
   "metadata": {},
   "outputs": [
    {
     "name": "stdout",
     "output_type": "stream",
     "text": [
      "[200, 300, 400, 500, 503]\n"
     ]
    }
   ],
   "source": [
    "#customize sort function\n",
    "#based on close no. to 50\n",
    "def myfunc(n):\n",
    "    return abs(n-50)\n",
    "list=[200,300,400,500,503]\n",
    "list.sort(key=myfunc)\n",
    "print(list)"
   ]
  },
  {
   "cell_type": "code",
   "execution_count": 101,
   "id": "32d9189a",
   "metadata": {},
   "outputs": [
    {
     "name": "stdout",
     "output_type": "stream",
     "text": [
      "[200, 300, 400, 500, 503]\n"
     ]
    }
   ],
   "source": [
    "#case insensitive sort\n",
    "list.sort()\n",
    "print(list)"
   ]
  },
  {
   "cell_type": "code",
   "execution_count": 12,
   "id": "bdf0eb5a",
   "metadata": {},
   "outputs": [
    {
     "name": "stdout",
     "output_type": "stream",
     "text": [
      "the lower str: \n",
      " ['apple', 'banana', 'orange']\n",
      "in revrse order:\n",
      "  ['orange', 'banana', 'apple']\n"
     ]
    }
   ],
   "source": [
    "######if u want case-sensitive as key function when a list sorting\n",
    "list1=['apple','orange','banana']\n",
    "list1.sort(key=str.lower)\n",
    "print('the lower str: \\n',list1)\n",
    "list1.reverse()\n",
    "print('in revrse order:\\n ',list1)"
   ]
  },
  {
   "cell_type": "markdown",
   "id": "42dbce91",
   "metadata": {},
   "source": [
    "#### dictionary"
   ]
  },
  {
   "cell_type": "code",
   "execution_count": 1,
   "id": "5c5082f8",
   "metadata": {},
   "outputs": [],
   "source": [
    "#keys of different data type?"
   ]
  },
  {
   "cell_type": "code",
   "execution_count": 47,
   "id": "30e7f964",
   "metadata": {},
   "outputs": [
    {
     "name": "stdout",
     "output_type": "stream",
     "text": [
      "<class 'dict'>\n"
     ]
    },
    {
     "data": {
      "text/plain": [
       "{'brand': 'Ford',\n",
       " 'electric': False,\n",
       " 'year': 1964,\n",
       " 'colors': ['red', 'white', 'blue']}"
      ]
     },
     "execution_count": 47,
     "metadata": {},
     "output_type": "execute_result"
    }
   ],
   "source": [
    "this_dict = {\n",
    "  \"brand\": \"Ford\",\n",
    "  \"electric\": False,\n",
    "  \"year\": 1964,\n",
    "  \"colors\": [\"red\", \"white\", \"blue\"]\n",
    "}\n",
    "print(type(this_dict))\n",
    "this_dict"
   ]
  },
  {
   "cell_type": "code",
   "execution_count": 57,
   "id": "af562e64",
   "metadata": {},
   "outputs": [
    {
     "name": "stdout",
     "output_type": "stream",
     "text": [
      "Ford\n"
     ]
    },
    {
     "data": {
      "text/plain": [
       "dict_keys(['brand', 'electric', 'year', 'colors'])"
      ]
     },
     "execution_count": 57,
     "metadata": {},
     "output_type": "execute_result"
    }
   ],
   "source": [
    "x = this_dict.get(\"brand\")\n",
    "y=this_dict.keys()\n",
    "print(x)\n",
    "y"
   ]
  },
  {
   "cell_type": "markdown",
   "id": "ca63c666",
   "metadata": {},
   "source": [
    "- items() method will return each item in a dictionary, as tuples in a list."
   ]
  },
  {
   "cell_type": "code",
   "execution_count": 60,
   "id": "c1016fdc",
   "metadata": {},
   "outputs": [
    {
     "data": {
      "text/plain": [
       "{'brand': 'Ford', 'electric': False, 'year': 2021, 'colors': 'black'}"
      ]
     },
     "execution_count": 60,
     "metadata": {},
     "output_type": "execute_result"
    }
   ],
   "source": [
    "this_dict.update({\"year\":2021})\n",
    "this_dict"
   ]
  },
  {
   "cell_type": "code",
   "execution_count": 76,
   "id": "7e982139",
   "metadata": {},
   "outputs": [
    {
     "name": "stdout",
     "output_type": "stream",
     "text": [
      "brand\n",
      "electric\n",
      "year\n",
      "colors\n",
      "black\n"
     ]
    }
   ],
   "source": [
    "for x in this_dict:\n",
    "    print(x)\n",
    "#-------accesing values of y-----\n",
    "print(this_dict[y]) "
   ]
  },
  {
   "cell_type": "code",
   "execution_count": 84,
   "id": "4651f847",
   "metadata": {},
   "outputs": [
    {
     "name": "stdout",
     "output_type": "stream",
     "text": [
      "Ford\n",
      "False\n",
      "2021\n",
      "black\n",
      "dict_keys(['brand', 'electric', 'year', 'colors'])\n"
     ]
    }
   ],
   "source": [
    "for x in this_dict.values():\n",
    "    print(x)\n",
    "print(this_dict.keys())"
   ]
  },
  {
   "cell_type": "code",
   "execution_count": 83,
   "id": "f65d5358",
   "metadata": {},
   "outputs": [
    {
     "name": "stdout",
     "output_type": "stream",
     "text": [
      "brand Ford\n",
      "electric False\n",
      "year 2021\n",
      "colors black\n"
     ]
    }
   ],
   "source": [
    "for x,y in this_dict.items():\n",
    "    print(x,y)"
   ]
  },
  {
   "cell_type": "code",
   "execution_count": 12,
   "id": "8114eca9",
   "metadata": {},
   "outputs": [
    {
     "data": {
      "text/plain": [
       "{1: 'jello', 2: 'bill', 3: 'tom', 4: 'jerry'}"
      ]
     },
     "execution_count": 12,
     "metadata": {},
     "output_type": "execute_result"
    }
   ],
   "source": [
    "d={1:'jello',2:'bill',3:'tom',4:'jerry'}\n",
    "d   #1 is key # jello is value"
   ]
  },
  {
   "cell_type": "code",
   "execution_count": 32,
   "id": "705ec34e",
   "metadata": {},
   "outputs": [],
   "source": [
    "my_dict={'Name': 'Gautam', 'Age': '20','Roll_No': '01','Branch': 'CSE','Degree': 'Btech','College': 'CVREC'}"
   ]
  },
  {
   "cell_type": "code",
   "execution_count": 33,
   "id": "ef321de3",
   "metadata": {},
   "outputs": [
    {
     "name": "stdout",
     "output_type": "stream",
     "text": [
      "my_dict['Name']: , my_dict['Branch']: , my_dict['Roll_No']:  Gautam CSE 01\n"
     ]
    }
   ],
   "source": [
    "print(\"my_dict['Name']: , my_dict['Branch']: , my_dict['Roll_No']: \",my_dict['Name'],my_dict['Branch'],my_dict['Roll_No']) \n",
    "#accesing value"
   ]
  },
  {
   "cell_type": "code",
   "execution_count": 36,
   "id": "e7f224c4",
   "metadata": {},
   "outputs": [
    {
     "data": {
      "text/plain": [
       "{'Name': 'Gautam',\n",
       " 'Age': '21',\n",
       " 'Roll_No': '01',\n",
       " 'Branch': 'CSE',\n",
       " 'Degree': 'Btech',\n",
       " 'College': 'CVREC',\n",
       " 'class': 'First'}"
      ]
     },
     "execution_count": 36,
     "metadata": {},
     "output_type": "execute_result"
    }
   ],
   "source": [
    " #updating value\n",
    "my_dict['class']='First'\n",
    "my_dict['Age']='21'\n",
    "my_dict"
   ]
  },
  {
   "cell_type": "code",
   "execution_count": 1,
   "id": "ed0ce165",
   "metadata": {},
   "outputs": [
    {
     "data": {
      "text/plain": [
       "{1: [1, 2, 3, 4], 'Place': 'Bhubaneswar'}"
      ]
     },
     "execution_count": 1,
     "metadata": {},
     "output_type": "execute_result"
    }
   ],
   "source": [
    "{1:[1,2,3,4],'Place':'Bhubaneswar'}   #dict with mixed keys"
   ]
  },
  {
   "cell_type": "markdown",
   "id": "683ea8c9",
   "metadata": {},
   "source": [
    "- Dictionary can also be created by the built-in function dict(). An empty dictionary can be created by just placing to curly braces{}. "
   ]
  },
  {
   "cell_type": "code",
   "execution_count": 18,
   "id": "04f8b12b",
   "metadata": {},
   "outputs": [
    {
     "name": "stdout",
     "output_type": "stream",
     "text": [
      "Empty dictioanry\n",
      "{}\n"
     ]
    }
   ],
   "source": [
    "Dict={}\n",
    "print(\"Empty dictioanry\")\n",
    "print(Dict)"
   ]
  },
  {
   "cell_type": "code",
   "execution_count": 19,
   "id": "12108f8b",
   "metadata": {},
   "outputs": [
    {
     "ename": "TypeError",
     "evalue": "'dict' object is not callable",
     "output_type": "error",
     "traceback": [
      "\u001b[1;31m---------------------------------------------------------------------------\u001b[0m",
      "\u001b[1;31mTypeError\u001b[0m                                 Traceback (most recent call last)",
      "\u001b[1;32m<ipython-input-19-741d8b06b076>\u001b[0m in \u001b[0;36m<module>\u001b[1;34m\u001b[0m\n\u001b[0;32m      1\u001b[0m \u001b[1;31m#creat a dict with dict()\u001b[0m\u001b[1;33m\u001b[0m\u001b[1;33m\u001b[0m\u001b[1;33m\u001b[0m\u001b[0m\n\u001b[1;32m----> 2\u001b[1;33m \u001b[0mDict\u001b[0m\u001b[1;33m=\u001b[0m\u001b[0mdict\u001b[0m\u001b[1;33m(\u001b[0m\u001b[1;33m{\u001b[0m\u001b[1;36m1\u001b[0m\u001b[1;33m:\u001b[0m\u001b[1;34m'joshua'\u001b[0m\u001b[1;33m,\u001b[0m \u001b[1;36m2\u001b[0m\u001b[1;33m:\u001b[0m\u001b[1;34m'has'\u001b[0m\u001b[1;33m,\u001b[0m \u001b[1;36m3\u001b[0m\u001b[1;33m:\u001b[0m\u001b[1;34m'Amnesia'\u001b[0m\u001b[1;33m}\u001b[0m\u001b[1;33m)\u001b[0m\u001b[1;33m\u001b[0m\u001b[1;33m\u001b[0m\u001b[0m\n\u001b[0m\u001b[0;32m      3\u001b[0m \u001b[0mprint\u001b[0m\u001b[1;33m(\u001b[0m\u001b[1;34m\"\\ndictionary with use of dict(): \"\u001b[0m\u001b[1;33m)\u001b[0m\u001b[1;33m\u001b[0m\u001b[1;33m\u001b[0m\u001b[0m\n\u001b[0;32m      4\u001b[0m \u001b[0mprint\u001b[0m\u001b[1;33m(\u001b[0m\u001b[0mDict\u001b[0m\u001b[1;33m)\u001b[0m\u001b[1;33m\u001b[0m\u001b[1;33m\u001b[0m\u001b[0m\n",
      "\u001b[1;31mTypeError\u001b[0m: 'dict' object is not callable"
     ]
    }
   ],
   "source": [
    "#creat a dict with dict()\n",
    "Dict=dict({1:'joshua', 2:'has', 3:'Amnesia'})\n",
    "print(\"\\ndictionary with use of dict(): \")\n",
    "print(Dict)"
   ]
  },
  {
   "cell_type": "code",
   "execution_count": 15,
   "id": "393222ea",
   "metadata": {},
   "outputs": [
    {
     "ename": "TypeError",
     "evalue": "'dict' object is not callable",
     "output_type": "error",
     "traceback": [
      "\u001b[1;31m---------------------------------------------------------------------------\u001b[0m",
      "\u001b[1;31mTypeError\u001b[0m                                 Traceback (most recent call last)",
      "\u001b[1;32m<ipython-input-15-69d140ad81f3>\u001b[0m in \u001b[0;36m<module>\u001b[1;34m\u001b[0m\n\u001b[0;32m      1\u001b[0m \u001b[1;31m#create a dict with each iteam as a pair\u001b[0m\u001b[1;33m\u001b[0m\u001b[1;33m\u001b[0m\u001b[1;33m\u001b[0m\u001b[0m\n\u001b[1;32m----> 2\u001b[1;33m \u001b[0mDict\u001b[0m\u001b[1;33m=\u001b[0m\u001b[0mdict\u001b[0m\u001b[1;33m(\u001b[0m\u001b[1;33m[\u001b[0m\u001b[1;33m(\u001b[0m\u001b[1;36m1\u001b[0m\u001b[1;33m,\u001b[0m\u001b[1;34m'Joshua'\u001b[0m\u001b[1;33m)\u001b[0m\u001b[1;33m,\u001b[0m\u001b[1;33m(\u001b[0m\u001b[1;36m2\u001b[0m\u001b[1;33m,\u001b[0m\u001b[1;34m'has'\u001b[0m\u001b[1;33m)\u001b[0m\u001b[1;33m]\u001b[0m\u001b[1;33m)\u001b[0m\u001b[1;33m\u001b[0m\u001b[1;33m\u001b[0m\u001b[0m\n\u001b[0m\u001b[0;32m      3\u001b[0m \u001b[0mprint\u001b[0m\u001b[1;33m(\u001b[0m\u001b[1;34m\"\\ndictionary with each iteam as a pair:\"\u001b[0m\u001b[1;33m)\u001b[0m\u001b[1;33m\u001b[0m\u001b[1;33m\u001b[0m\u001b[0m\n\u001b[0;32m      4\u001b[0m \u001b[0mprint\u001b[0m\u001b[1;33m(\u001b[0m\u001b[0mDict\u001b[0m\u001b[1;33m)\u001b[0m\u001b[1;33m\u001b[0m\u001b[1;33m\u001b[0m\u001b[0m\n",
      "\u001b[1;31mTypeError\u001b[0m: 'dict' object is not callable"
     ]
    }
   ],
   "source": [
    "#create a dict with each iteam as a pair\n",
    "Dict=dict([(1,'Joshua'),(2,'has')])\n",
    "print(\"\\ndictionary with each iteam as a pair:\")\n",
    "print(Dict)"
   ]
  },
  {
   "cell_type": "markdown",
   "id": "24dffafd",
   "metadata": {},
   "source": [
    "- This error you get tells you that your dict is not callable.\n",
    "- Since my $dict$ is callable when I open a fresh interpreter, it means that your dict is different.\n",
    "- Most likely, you defined a dict variable, which overrode the built-in dict.\n",
    "-http://localhost:8888/notebooks/dictionary%20updated.ipynb   refer this link to see the those above program and other dictionary program"
   ]
  },
  {
   "cell_type": "markdown",
   "id": "c81d63f5",
   "metadata": {},
   "source": [
    "#### Sets"
   ]
  },
  {
   "cell_type": "code",
   "execution_count": 25,
   "id": "aa27b658",
   "metadata": {
    "scrolled": true
   },
   "outputs": [
    {
     "data": {
      "text/plain": [
       "set()"
      ]
     },
     "execution_count": 25,
     "metadata": {},
     "output_type": "execute_result"
    }
   ],
   "source": [
    "#create an emptyset\n",
    "s=set()\n",
    "s"
   ]
  },
  {
   "cell_type": "code",
   "execution_count": 5,
   "id": "6ad08825",
   "metadata": {},
   "outputs": [
    {
     "name": "stdout",
     "output_type": "stream",
     "text": [
      "\n",
      " Set with string:  {'l', 'm', 'o', 'e', 'h', 'w', '!', ' ', 'c'}\n",
      "\n",
      " set with obj.:  {'l', 'm', 'o', 'e', 'h', 'w', '!', ' ', 'c'}\n",
      "\n",
      " set with list:  {'home!!!', 'welcm'}\n"
     ]
    }
   ],
   "source": [
    "#string\n",
    "s=set(\"welcm home!!!\")\n",
    "print('\\n Set with string: ', s)\n",
    "#constructor\n",
    "str='wlcm home!!!'\n",
    "s=set(str)\n",
    "print('\\n set with obj.: ',s)\n",
    "#list\n",
    "s=set([\"welcm\",\"home!!!\"])\n",
    "print('\\n set with list: ',s)"
   ]
  },
  {
   "cell_type": "code",
   "execution_count": 8,
   "id": "c9ad5af2",
   "metadata": {},
   "outputs": [
    {
     "name": "stdout",
     "output_type": "stream",
     "text": [
      "home!!!\n",
      "welcm\n"
     ]
    }
   ],
   "source": [
    "for x in s:\n",
    "    print(x)"
   ]
  },
  {
   "cell_type": "code",
   "execution_count": 9,
   "id": "7c3eeb31",
   "metadata": {},
   "outputs": [
    {
     "name": "stdout",
     "output_type": "stream",
     "text": [
      "drink\n",
      "tea\n",
      "emily\n"
     ]
    }
   ],
   "source": [
    "name={\"emily\",\"drink\",\"tea\"}\n",
    "for i in name:\n",
    "    print(i)"
   ]
  },
  {
   "cell_type": "code",
   "execution_count": 12,
   "id": "50f20e23",
   "metadata": {},
   "outputs": [
    {
     "name": "stdout",
     "output_type": "stream",
     "text": [
      "True\n",
      "False\n"
     ]
    }
   ],
   "source": [
    "print(\"emily\" in name)\n",
    "print(\"roop\" in name)"
   ]
  },
  {
   "cell_type": "code",
   "execution_count": 2,
   "id": "77220ba8",
   "metadata": {},
   "outputs": [
    {
     "name": "stdout",
     "output_type": "stream",
     "text": [
      "('jack', 'and', 'jill', 'went', 'upto', 'the', 'hill')\n"
     ]
    }
   ],
   "source": [
    "s1=((\"jack\",\"and\",\"jill\",\"went\",\"upto\",\"the\",\"hill\"))\n",
    "print(s1)             #here set() constructor is used to make a set"
   ]
  },
  {
   "cell_type": "markdown",
   "id": "8891eb90",
   "metadata": {},
   "source": [
    "- set cannot be changed once it's created."
   ]
  },
  {
   "cell_type": "code",
   "execution_count": 17,
   "id": "de1cc22f",
   "metadata": {},
   "outputs": [
    {
     "name": "stdout",
     "output_type": "stream",
     "text": [
      "{'cp', 'emily', 'agra', 'tajmahal', 'drink', 'delhi', 'tea', 'wahh!!'}\n"
     ]
    }
   ],
   "source": [
    "name.add(\"wahh!!\")\n",
    "print(name)"
   ]
  },
  {
   "cell_type": "code",
   "execution_count": 20,
   "id": "16a2efde",
   "metadata": {},
   "outputs": [
    {
     "name": "stdout",
     "output_type": "stream",
     "text": [
      "{'cp', 'emily', 'agra', 'tajmahal', 'drink', 'delhi', 'tea', 'wahh!!'}\n"
     ]
    }
   ],
   "source": [
    "name={\"emily\",\"drink\",\"tea\",\"wahh!!\"}\n",
    "place=[\"agra\",\"tajmahal\",\"delhi\",\"cp\"]\n",
    "name.update(place)\n",
    "print(name)"
   ]
  },
  {
   "cell_type": "code",
   "execution_count": 27,
   "id": "e17d30cc",
   "metadata": {},
   "outputs": [
    {
     "name": "stdout",
     "output_type": "stream",
     "text": [
      "Before removing:\n",
      "  {'cp', 'emily', 'agra', 'tajmahal', 'drink', 'delhi', 'tea'}\n",
      "After removing:\n",
      "  {'cp', 'emily', 'agra', 'tajmahal', 'drink', 'delhi', 'tea'}\n"
     ]
    }
   ],
   "source": [
    "print(\"Before removing:\\n \",name)\n",
    "name.discard(\"wahh!!\")       #name.remove()\n",
    "print(\"After removing:\\n \",name)"
   ]
  },
  {
   "cell_type": "markdown",
   "id": "3006e5ff",
   "metadata": {},
   "source": [
    "- if item remove doesnot exist, discard() will not raise an issue"
   ]
  },
  {
   "cell_type": "code",
   "execution_count": 30,
   "id": "aa20aad5",
   "metadata": {},
   "outputs": [
    {
     "name": "stdout",
     "output_type": "stream",
     "text": [
      "Strawberry\n",
      "after poping:  {'apple', 'cherry', 'Mango', 'banana'}\n"
     ]
    }
   ],
   "source": [
    "a={\"apple\", \"banana\", \"cherry\",\"Mango\",\"Strawberry\"}\n",
    "x=a.pop()\n",
    "print(x)\n",
    "print(\"after poping: \",a)"
   ]
  },
  {
   "cell_type": "code",
   "execution_count": 33,
   "id": "7445d386",
   "metadata": {},
   "outputs": [
    {
     "name": "stdout",
     "output_type": "stream",
     "text": [
      "Now: \n",
      " set()\n"
     ]
    }
   ],
   "source": [
    "a.clear()\n",
    "print(\"Now: \\n\",a)"
   ]
  },
  {
   "cell_type": "code",
   "execution_count": 34,
   "id": "f7151390",
   "metadata": {},
   "outputs": [
    {
     "ename": "NameError",
     "evalue": "name 'a' is not defined",
     "output_type": "error",
     "traceback": [
      "\u001b[1;31m---------------------------------------------------------------------------\u001b[0m",
      "\u001b[1;31mNameError\u001b[0m                                 Traceback (most recent call last)",
      "\u001b[1;32m<ipython-input-34-c342333e421e>\u001b[0m in \u001b[0;36m<module>\u001b[1;34m\u001b[0m\n\u001b[0;32m      1\u001b[0m \u001b[1;32mdel\u001b[0m \u001b[0ma\u001b[0m\u001b[1;33m\u001b[0m\u001b[1;33m\u001b[0m\u001b[0m\n\u001b[1;32m----> 2\u001b[1;33m \u001b[0mprint\u001b[0m\u001b[1;33m(\u001b[0m\u001b[0ma\u001b[0m\u001b[1;33m)\u001b[0m\u001b[1;33m\u001b[0m\u001b[1;33m\u001b[0m\u001b[0m\n\u001b[0m",
      "\u001b[1;31mNameError\u001b[0m: name 'a' is not defined"
     ]
    }
   ],
   "source": [
    "del a\n",
    "print(a)"
   ]
  },
  {
   "cell_type": "markdown",
   "id": "a3d85ce0",
   "metadata": {},
   "source": [
    "- union() method returns a new set containing all items from both sets,\n",
    "- update() method that inserts all the items from one set into another\n",
    "- union() is used to join both sets\n",
    "- union() & update() will exclude any duplicate items"
   ]
  },
  {
   "cell_type": "code",
   "execution_count": 36,
   "id": "52135ff1",
   "metadata": {},
   "outputs": [
    {
     "data": {
      "text/plain": [
       "{'a', 'b', 'bc', 'xq', 'yho', 'zr'}"
      ]
     },
     "execution_count": 36,
     "metadata": {},
     "output_type": "execute_result"
    }
   ],
   "source": [
    "set_1={'a','bc','zr'}\n",
    "set_2={'a','b','xq','yho'}\n",
    "set_3=set_1.union(set_2)\n",
    "set_3"
   ]
  },
  {
   "cell_type": "code",
   "execution_count": 37,
   "id": "424b8a33",
   "metadata": {},
   "outputs": [
    {
     "name": "stdout",
     "output_type": "stream",
     "text": [
      "{'xq', 'bc', 'yho', 'zr', 'a', 'b'}\n"
     ]
    }
   ],
   "source": [
    "set_1.update(set_2)\n",
    "print(set_1)"
   ]
  },
  {
   "cell_type": "code",
   "execution_count": 39,
   "id": "37e07591",
   "metadata": {},
   "outputs": [
    {
     "data": {
      "text/plain": [
       "{'a', 'b', 'xq', 'yho'}"
      ]
     },
     "execution_count": 39,
     "metadata": {},
     "output_type": "execute_result"
    }
   ],
   "source": [
    "set_2.intersection_update(set_1)\n",
    "set_2"
   ]
  },
  {
   "cell_type": "markdown",
   "id": "4a7a7e33",
   "metadata": {},
   "source": [
    "- intersection() will return new sets, that only contains the items that are present in both sets."
   ]
  },
  {
   "cell_type": "code",
   "execution_count": 40,
   "id": "d27f7ec3",
   "metadata": {},
   "outputs": [
    {
     "data": {
      "text/plain": [
       "{'bc', 'zr'}"
      ]
     },
     "execution_count": 40,
     "metadata": {},
     "output_type": "execute_result"
    }
   ],
   "source": [
    "set_2.symmetric_difference_update(set_1)\n",
    "set_2"
   ]
  },
  {
   "cell_type": "markdown",
   "id": "8cc46f07",
   "metadata": {},
   "source": [
    "- symmetric_difference_update() 'll only keep elements that are not present in both elements"
   ]
  },
  {
   "cell_type": "markdown",
   "id": "8b78e2a2",
   "metadata": {},
   "source": [
    "- symmetric_difference() 'ill return a new set which contains only the elements that are NOT present in both sets."
   ]
  },
  {
   "cell_type": "code",
   "execution_count": 41,
   "id": "37fcb70a",
   "metadata": {},
   "outputs": [
    {
     "data": {
      "text/plain": [
       "{'a', 'b', 'bc', 'xq', 'yho', 'zr'}"
      ]
     },
     "execution_count": 41,
     "metadata": {},
     "output_type": "execute_result"
    }
   ],
   "source": [
    "set_1.symmetric_difference(set_2)\n",
    "set_1"
   ]
  },
  {
   "cell_type": "code",
   "execution_count": 16,
   "id": "a44671c7",
   "metadata": {},
   "outputs": [
    {
     "name": "stdout",
     "output_type": "stream",
     "text": [
      "Yes, apple is a fruit!\n"
     ]
    }
   ],
   "source": [
    "fruits = {\"apple\", \"banana\", \"cherry\"}\n",
    "if \"apple\" in fruits:\n",
    "    print(\"Yes, apple is a fruit!\")"
   ]
  },
  {
   "cell_type": "code",
   "execution_count": null,
   "id": "1ee2490d",
   "metadata": {},
   "outputs": [],
   "source": []
  }
 ],
 "metadata": {
  "kernelspec": {
   "display_name": "Python 3",
   "language": "python",
   "name": "python3"
  },
  "language_info": {
   "codemirror_mode": {
    "name": "ipython",
    "version": 3
   },
   "file_extension": ".py",
   "mimetype": "text/x-python",
   "name": "python",
   "nbconvert_exporter": "python",
   "pygments_lexer": "ipython3",
   "version": "3.9.5"
  }
 },
 "nbformat": 4,
 "nbformat_minor": 5
}
