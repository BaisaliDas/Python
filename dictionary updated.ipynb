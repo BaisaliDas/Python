{
 "cells": [
  {
   "cell_type": "code",
   "execution_count": 1,
   "id": "c5d112d1",
   "metadata": {},
   "outputs": [
    {
     "name": "stdout",
     "output_type": "stream",
     "text": [
      "Empty dictioanry\n",
      "{}\n"
     ]
    }
   ],
   "source": [
    "Dict={}\n",
    "print(\"Empty dictioanry\")\n",
    "print(Dict)"
   ]
  },
  {
   "cell_type": "code",
   "execution_count": 2,
   "id": "215aa2e0",
   "metadata": {},
   "outputs": [
    {
     "name": "stdout",
     "output_type": "stream",
     "text": [
      "\n",
      "dictionary with use of dict(): \n",
      "{1: 'joshua', 2: 'has', 3: 'Amnesia'}\n"
     ]
    }
   ],
   "source": [
    "#creat a dict with dict()\n",
    "Dict=dict({1:'joshua', 2:'has', 3:'Amnesia'})\n",
    "print(\"\\ndictionary with use of dict(): \")\n",
    "print(Dict)"
   ]
  },
  {
   "cell_type": "code",
   "execution_count": 3,
   "id": "d902543e",
   "metadata": {},
   "outputs": [
    {
     "name": "stdout",
     "output_type": "stream",
     "text": [
      "\n",
      "dictionary with each iteam as a pair:\n",
      "{1: 'Joshua', 2: 'has'}\n"
     ]
    }
   ],
   "source": [
    "#create a dict with each iteam as a pair\n",
    "Dict=dict([(1,'Joshua'),(2,'has')])\n",
    "print(\"\\ndictionary with each iteam as a pair:\")\n",
    "print(Dict)"
   ]
  },
  {
   "cell_type": "code",
   "execution_count": 4,
   "id": "5ef9c693",
   "metadata": {},
   "outputs": [
    {
     "name": "stdout",
     "output_type": "stream",
     "text": [
      "{'Name': 'Baisali Das', 'County': 'India', 'State': 'Odisha', 'City': 'BBSR', 'Msg': {1: 'Welcome', 2: 'To', 3: 'My', 4: 'Kitchen'}}\n"
     ]
    }
   ],
   "source": [
    "a={'Name':'Baisali Das', 'County':'India','State':'Odisha','City':'BBSR',\n",
    "  'Msg':{1:'Welcome',2:'To',3:'My',4:'Kitchen'}}\n",
    "print(a)"
   ]
  },
  {
   "cell_type": "markdown",
   "id": "21bb77f6",
   "metadata": {},
   "source": [
    "##### Removing elements"
   ]
  },
  {
   "cell_type": "code",
   "execution_count": 5,
   "id": "6cef9dfc",
   "metadata": {},
   "outputs": [
    {
     "name": "stdout",
     "output_type": "stream",
     "text": [
      "Dictionary:  {'Name': 'Baisali Das', 'County': 'India', 'State': 'Odisha', 'City': 'BBSR', 'Msg': {1: 'Welcome', 2: 'To', 3: 'My', 4: 'Kitchen'}}\n",
      "\n",
      " NOW:  {'Name': 'Baisali Das', 'County': 'India', 'City': 'BBSR', 'Msg': {1: 'Welcome', 2: 'To', 3: 'My', 4: 'Kitchen'}}\n",
      "\n",
      " After deliting:  {'Name': 'Baisali Das', 'County': 'India', 'City': 'BBSR'}\n"
     ]
    }
   ],
   "source": [
    "print(\"Dictionary: \",a)\n",
    "\n",
    "#del key value\n",
    "del a['State']\n",
    "print(\"\\n NOW: \",a)\n",
    "\n",
    "#del a key from nested dict\n",
    "del a['Msg']\n",
    "print(\"\\n After deliting: \",a)"
   ]
  },
  {
   "cell_type": "code",
   "execution_count": 6,
   "id": "3345b8cd",
   "metadata": {},
   "outputs": [
    {
     "data": {
      "text/plain": [
       "{'Name': 'Baisali Das', 'County': 'India', 'City': 'BBSR'}"
      ]
     },
     "execution_count": 6,
     "metadata": {},
     "output_type": "execute_result"
    }
   ],
   "source": [
    "a"
   ]
  },
  {
   "cell_type": "code",
   "execution_count": 7,
   "id": "39b6f7db",
   "metadata": {},
   "outputs": [
    {
     "name": "stdout",
     "output_type": "stream",
     "text": [
      "\n",
      " After Deleting : {1: 'XTV', 2: 'MAX', 3: 'URN'}\n",
      "Popped key : III\n"
     ]
    }
   ],
   "source": [
    "b={1:'XTV',2:'MAX',3:'URN',4:'III'}\n",
    "pop_ele=b.pop(4)\n",
    "print(\"\\n After Deleting : \" + str(b))\n",
    "print(\"Popped key : \" + str(pop_ele))"
   ]
  },
  {
   "cell_type": "code",
   "execution_count": 8,
   "id": "e4559f8d",
   "metadata": {},
   "outputs": [
    {
     "name": "stdout",
     "output_type": "stream",
     "text": [
      "\n",
      " After Deleting : {1: 'XTV', 2: 'MAX'}\n",
      "Popped key : (3, 'URN')\n"
     ]
    }
   ],
   "source": [
    "pop_ele=b.popitem()\n",
    "print(\"\\n After Deleting : \" + str(b))\n",
    "print(\"Popped key : \" + str(pop_ele))"
   ]
  },
  {
   "cell_type": "code",
   "execution_count": 9,
   "id": "25b182e4",
   "metadata": {},
   "outputs": [
    {
     "name": "stdout",
     "output_type": "stream",
     "text": [
      "\n",
      " AFTER DELETING ENTIRE DICT :  {}\n"
     ]
    }
   ],
   "source": [
    "b.clear()\n",
    "print('\\n AFTER DELETING ENTIRE DICT : ',b)"
   ]
  },
  {
   "cell_type": "code",
   "execution_count": null,
   "id": "a57c842f",
   "metadata": {},
   "outputs": [],
   "source": []
  }
 ],
 "metadata": {
  "kernelspec": {
   "display_name": "Python 3.9.4 64-bit ('tensorflow': conda)",
   "language": "python",
   "name": "python394jvsc74a57bd0552044c7f615bc91dd29daeed772dba6fe20322e36f3e727f3c4957fbbcfc56d"
  },
  "language_info": {
   "codemirror_mode": {
    "name": "ipython",
    "version": 3
   },
   "file_extension": ".py",
   "mimetype": "text/x-python",
   "name": "python",
   "nbconvert_exporter": "python",
   "pygments_lexer": "ipython3",
   "version": "3.9.4"
  }
 },
 "nbformat": 4,
 "nbformat_minor": 5
}
