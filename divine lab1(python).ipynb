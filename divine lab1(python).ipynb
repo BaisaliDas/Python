{
 "cells": [
  {
   "cell_type": "code",
   "execution_count": 1,
   "id": "ab3d6282",
   "metadata": {},
   "outputs": [],
   "source": [
    "#variable\n",
    "#strings\n",
    "#function\n",
    "#slicing\n",
    "#escape sequence\n",
    "#string method\n",
    "#numbers\n",
    "#type conversion"
   ]
  },
  {
   "cell_type": "markdown",
   "id": "084fa3df",
   "metadata": {},
   "source": [
    "### Variables"
   ]
  },
  {
   "cell_type": "code",
   "execution_count": 39,
   "id": "8bbd2d34",
   "metadata": {},
   "outputs": [
    {
     "name": "stdout",
     "output_type": "stream",
     "text": [
      "1000\n"
     ]
    }
   ],
   "source": [
    "stud_count=1000\n",
    "print(stud_count)"
   ]
  },
  {
   "cell_type": "code",
   "execution_count": 40,
   "id": "1983a278",
   "metadata": {},
   "outputs": [
    {
     "data": {
      "text/plain": [
       "float"
      ]
     },
     "execution_count": 40,
     "metadata": {},
     "output_type": "execute_result"
    }
   ],
   "source": [
    "rating=4.9\n",
    "type(rating)"
   ]
  },
  {
   "cell_type": "code",
   "execution_count": 41,
   "id": "12f62941",
   "metadata": {},
   "outputs": [
    {
     "data": {
      "text/plain": [
       "bool"
      ]
     },
     "execution_count": 41,
     "metadata": {},
     "output_type": "execute_result"
    }
   ],
   "source": [
    "my_name_is_Baisali =False\n",
    "type(my_name_is_Baisali)"
   ]
  },
  {
   "cell_type": "code",
   "execution_count": 1,
   "id": "20585c87",
   "metadata": {},
   "outputs": [
    {
     "name": "stdout",
     "output_type": "stream",
     "text": [
      "1000 1000 1000\n"
     ]
    }
   ],
   "source": [
    "a=b=c=1000\n",
    "print(a,b,c)"
   ]
  },
  {
   "cell_type": "code",
   "execution_count": 4,
   "id": "001c24f0",
   "metadata": {},
   "outputs": [
    {
     "name": "stdout",
     "output_type": "stream",
     "text": [
      "23.5\n"
     ]
    },
    {
     "data": {
      "text/plain": [
       "float"
      ]
     },
     "execution_count": 4,
     "metadata": {},
     "output_type": "execute_result"
    }
   ],
   "source": [
    "var=23.5\n",
    "print(var)\n",
    "type(var)"
   ]
  },
  {
   "cell_type": "code",
   "execution_count": 5,
   "id": "7d3a3a88",
   "metadata": {},
   "outputs": [
    {
     "name": "stdout",
     "output_type": "stream",
     "text": [
      "hello folks!! this is jupyter notebook . It is vey good for use of data science\n"
     ]
    }
   ],
   "source": [
    "var1=\"hello folks!! this is jupyter notebook . It is vey good for use of data science\"\n",
    "print(var1)"
   ]
  },
  {
   "cell_type": "code",
   "execution_count": 6,
   "id": "e2ca78a9",
   "metadata": {},
   "outputs": [
    {
     "name": "stdout",
     "output_type": "stream",
     "text": [
      "90\n"
     ]
    },
    {
     "data": {
      "text/plain": [
       "int"
      ]
     },
     "execution_count": 6,
     "metadata": {},
     "output_type": "execute_result"
    }
   ],
   "source": [
    "i=90\n",
    "print(i)\n",
    "type(i)"
   ]
  },
  {
   "cell_type": "code",
   "execution_count": 8,
   "id": "2d4469c0",
   "metadata": {},
   "outputs": [
    {
     "data": {
      "text/plain": [
       "(2036536718736, 2036536718736)"
      ]
     },
     "execution_count": 8,
     "metadata": {},
     "output_type": "execute_result"
    }
   ],
   "source": [
    "n=300\n",
    "m=n\n",
    "id(n),id(m)"
   ]
  },
  {
   "cell_type": "code",
   "execution_count": null,
   "id": "49e76927",
   "metadata": {},
   "outputs": [],
   "source": []
  },
  {
   "cell_type": "markdown",
   "id": "e9f47a0d",
   "metadata": {},
   "source": [
    "### Variables Names"
   ]
  },
  {
   "cell_type": "code",
   "execution_count": null,
   "id": "9cd3819e",
   "metadata": {},
   "outputs": [],
   "source": [
    "# Variables name should be descriptive and meaningful.\n",
    "sc = 1000 #it is not a good practice beacuse we could not understood what is sc.\n",
    "# Variables name should be in lower case and if there is some space then use underscore."
   ]
  },
  {
   "cell_type": "code",
   "execution_count": 11,
   "id": "d815f9d8",
   "metadata": {},
   "outputs": [
    {
     "name": "stdout",
     "output_type": "stream",
     "text": [
      "geet 12 True\n"
     ]
    }
   ],
   "source": [
    "name=\"geet\"\n",
    "age=12\n",
    "has_w2=True\n",
    "print(name, age, has_w2)"
   ]
  },
  {
   "cell_type": "code",
   "execution_count": 17,
   "id": "cdf54c2f",
   "metadata": {},
   "outputs": [
    {
     "ename": "SyntaxError",
     "evalue": "invalid decimal literal (<ipython-input-17-ea7538896107>, line 1)",
     "output_type": "error",
     "traceback": [
      "\u001b[1;36m  File \u001b[1;32m\"<ipython-input-17-ea7538896107>\"\u001b[1;36m, line \u001b[1;32m1\u001b[0m\n\u001b[1;33m    1099_filed = False   #variable names can't begin with digit\u001b[0m\n\u001b[1;37m        ^\u001b[0m\n\u001b[1;31mSyntaxError\u001b[0m\u001b[1;31m:\u001b[0m invalid decimal literal\n"
     ]
    }
   ],
   "source": [
    "1099_filed = False   #variable names can't begin with digit"
   ]
  },
  {
   "cell_type": "code",
   "execution_count": null,
   "id": "3fa460a1",
   "metadata": {},
   "outputs": [],
   "source": []
  },
  {
   "cell_type": "markdown",
   "id": "a4acb98f",
   "metadata": {},
   "source": [
    "### Strings"
   ]
  },
  {
   "cell_type": "code",
   "execution_count": 37,
   "id": "0de29050",
   "metadata": {},
   "outputs": [],
   "source": [
    "course = \"python for beginner\" #String must be in single quotes or double quotes.\n",
    "message = ''' Hi everyone. \n",
    "I am Baisali CSE student.\n",
    "Currently doing Data Science in python. ''' #Sometimes we use triple quotes beacuse we want to include in the body of an email."
   ]
  },
  {
   "cell_type": "code",
   "execution_count": 38,
   "id": "c5623a32",
   "metadata": {},
   "outputs": [
    {
     "data": {
      "text/plain": [
       "str"
      ]
     },
     "execution_count": 38,
     "metadata": {},
     "output_type": "execute_result"
    }
   ],
   "source": [
    "int='9'\n",
    "type(int)"
   ]
  },
  {
   "cell_type": "code",
   "execution_count": 28,
   "id": "1eb799e1",
   "metadata": {},
   "outputs": [
    {
     "name": "stdout",
     "output_type": "stream",
     "text": [
      "str =  dumalloomasala\n",
      "str[0] =  d\n",
      "str[-1] =  l\n",
      "str[1:5] =  dum\n",
      "str[5:-2] =  alloomasal\n"
     ]
    }
   ],
   "source": [
    "str='dumalloomasala'\n",
    "print('str = ', str)\n",
    "print('str[0] = ', str[0])\n",
    "print('str[-1] = ', str[-2])\n",
    "print('str[1:5] = ', str[0:3])\n",
    "print('str[5:-2] = ', str[3:-1])"
   ]
  },
  {
   "cell_type": "code",
   "execution_count": 34,
   "id": "299e7c67",
   "metadata": {},
   "outputs": [
    {
     "data": {
      "text/plain": [
       "'helloworld'"
      ]
     },
     "execution_count": 34,
     "metadata": {},
     "output_type": "execute_result"
    }
   ],
   "source": [
    "str1='hello'\n",
    "str2='world'\n",
    "str3=str1 + str2\n",
    "str3"
   ]
  },
  {
   "cell_type": "code",
   "execution_count": 36,
   "id": "e492729f",
   "metadata": {},
   "outputs": [
    {
     "data": {
      "text/plain": [
       "'helloworldhelloworldhelloworld'"
      ]
     },
     "execution_count": 36,
     "metadata": {},
     "output_type": "execute_result"
    }
   ],
   "source": [
    "str4=str3*3\n",
    "str4"
   ]
  },
  {
   "cell_type": "code",
   "execution_count": 39,
   "id": "3e263025",
   "metadata": {},
   "outputs": [
    {
     "data": {
      "text/plain": [
       "'Hello Folks!!!'"
      ]
     },
     "execution_count": 39,
     "metadata": {},
     "output_type": "execute_result"
    }
   ],
   "source": [
    " 'Hello ''Folks!!!'   "
   ]
  },
  {
   "cell_type": "code",
   "execution_count": 42,
   "id": "7e9b252f",
   "metadata": {},
   "outputs": [
    {
     "data": {
      "text/plain": [
       "'Hello folks!!'"
      ]
     },
     "execution_count": 42,
     "metadata": {},
     "output_type": "execute_result"
    }
   ],
   "source": [
    "str = ('Hello '\n",
    "       'folks!!')\n",
    "str"
   ]
  },
  {
   "cell_type": "code",
   "execution_count": 53,
   "id": "85bb41d9",
   "metadata": {},
   "outputs": [
    {
     "name": "stdout",
     "output_type": "stream",
     "text": [
      "2 letters found\n"
     ]
    }
   ],
   "source": [
    "count = 0\n",
    "for letter in 'Baisali':\n",
    "    if(letter == 'a'):\n",
    "        count += 1\n",
    "print(count,'letters found')"
   ]
  },
  {
   "cell_type": "code",
   "execution_count": 58,
   "id": "190fd321",
   "metadata": {},
   "outputs": [
    {
     "name": "stdout",
     "output_type": "stream",
     "text": [
      "True\n",
      "True\n"
     ]
    }
   ],
   "source": [
    "program='Baisali'\n",
    "print('a' in 'program')\n",
    "print('b' not in 'program')"
   ]
  },
  {
   "cell_type": "markdown",
   "id": "d2644381",
   "metadata": {},
   "source": [
    "#### Functions is a basically reusable piece of code that carries out a task"
   ]
  },
  {
   "cell_type": "code",
   "execution_count": 2,
   "id": "5058cdf9",
   "metadata": {},
   "outputs": [
    {
     "data": {
      "text/plain": [
       "19"
      ]
     },
     "execution_count": 2,
     "metadata": {},
     "output_type": "execute_result"
    }
   ],
   "source": [
    "c=\"python for beginner\"\n",
    "len(c)"
   ]
  },
  {
   "cell_type": "code",
   "execution_count": 2,
   "id": "e8cdd949",
   "metadata": {},
   "outputs": [
    {
     "data": {
      "text/plain": [
       "'hty'"
      ]
     },
     "execution_count": 2,
     "metadata": {},
     "output_type": "execute_result"
    }
   ],
   "source": [
    "c[3:0:-1]    #3:0  ~ 3:0:1 "
   ]
  },
  {
   "cell_type": "code",
   "execution_count": 3,
   "id": "1bbd4d9e",
   "metadata": {},
   "outputs": [
    {
     "data": {
      "text/plain": [
       "''"
      ]
     },
     "execution_count": 3,
     "metadata": {},
     "output_type": "execute_result"
    }
   ],
   "source": [
    "c[0:3:-2]    #here :-2 doesn't 've any work'"
   ]
  },
  {
   "cell_type": "code",
   "execution_count": 4,
   "id": "1c966358",
   "metadata": {},
   "outputs": [
    {
     "data": {
      "text/plain": [
       "'pyth'"
      ]
     },
     "execution_count": 4,
     "metadata": {},
     "output_type": "execute_result"
    }
   ],
   "source": [
    "c[0:4:1]"
   ]
  },
  {
   "cell_type": "code",
   "execution_count": 5,
   "id": "eb2c173d",
   "metadata": {},
   "outputs": [],
   "source": [
    "d=\"python for\""
   ]
  },
  {
   "cell_type": "code",
   "execution_count": 6,
   "id": "706b60a0",
   "metadata": {},
   "outputs": [
    {
     "data": {
      "text/plain": [
       "'nohtyp'"
      ]
     },
     "execution_count": 6,
     "metadata": {},
     "output_type": "execute_result"
    }
   ],
   "source": [
    "d[-5:-11:-1]"
   ]
  },
  {
   "cell_type": "code",
   "execution_count": 7,
   "id": "4db99585",
   "metadata": {},
   "outputs": [
    {
     "data": {
      "text/plain": [
       "'ytho'"
      ]
     },
     "execution_count": 7,
     "metadata": {},
     "output_type": "execute_result"
    }
   ],
   "source": [
    "d[1:-5]  #forward direction"
   ]
  },
  {
   "cell_type": "code",
   "execution_count": 8,
   "id": "8bc374f2",
   "metadata": {},
   "outputs": [
    {
     "data": {
      "text/plain": [
       "'y'"
      ]
     },
     "execution_count": 8,
     "metadata": {},
     "output_type": "execute_result"
    }
   ],
   "source": [
    "d[1:3:6]"
   ]
  },
  {
   "cell_type": "code",
   "execution_count": 9,
   "id": "14cdf33e",
   "metadata": {},
   "outputs": [
    {
     "data": {
      "text/plain": [
       "'pto'"
      ]
     },
     "execution_count": 9,
     "metadata": {},
     "output_type": "execute_result"
    }
   ],
   "source": [
    "d[0:6:2]   #:2 is step n it'll consider upto 0:6"
   ]
  },
  {
   "cell_type": "code",
   "execution_count": 10,
   "id": "ac57eb1c",
   "metadata": {},
   "outputs": [
    {
     "data": {
      "text/plain": [
       "'rh'"
      ]
     },
     "execution_count": 10,
     "metadata": {},
     "output_type": "execute_result"
    }
   ],
   "source": [
    "d[-1:-8:-6]"
   ]
  },
  {
   "cell_type": "markdown",
   "id": "54d3b046",
   "metadata": {},
   "source": [
    "### Escape Sequence"
   ]
  },
  {
   "cell_type": "code",
   "execution_count": 22,
   "id": "beae6e2e",
   "metadata": {},
   "outputs": [
    {
     "name": "stdout",
     "output_type": "stream",
     "text": [
      "my father's\n"
     ]
    }
   ],
   "source": [
    "print('my father\\'s')"
   ]
  },
  {
   "cell_type": "code",
   "execution_count": 34,
   "id": "3fe9a028",
   "metadata": {},
   "outputs": [
    {
     "name": "stdout",
     "output_type": "stream",
     "text": [
      "python for \"beginner\n"
     ]
    }
   ],
   "source": [
    "e=\"python for \\\"beginner\"\n",
    "print(e)"
   ]
  },
  {
   "cell_type": "code",
   "execution_count": 35,
   "id": "b35e19f0",
   "metadata": {},
   "outputs": [
    {
     "name": "stdout",
     "output_type": "stream",
     "text": [
      "python \"for \" begi\"nner\n"
     ]
    }
   ],
   "source": [
    "e=\"python \\\"for \\\" begi\\\"nner\"    # back slash is an escape character\n",
    "print(e)"
   ]
  },
  {
   "cell_type": "code",
   "execution_count": 12,
   "id": "898a3fc6",
   "metadata": {},
   "outputs": [
    {
     "name": "stdout",
     "output_type": "stream",
     "text": [
      "python \\for beginner\n"
     ]
    }
   ],
   "source": [
    "e='python \\\\for beginner'\n",
    "print(e)"
   ]
  },
  {
   "cell_type": "code",
   "execution_count": 13,
   "id": "ea3ebac1",
   "metadata": {},
   "outputs": [
    {
     "name": "stdout",
     "output_type": "stream",
     "text": [
      "python 'for beginner\n"
     ]
    }
   ],
   "source": [
    "e='python \\'for beginner'\n",
    "print(e)"
   ]
  },
  {
   "cell_type": "code",
   "execution_count": 36,
   "id": "9c71e920",
   "metadata": {},
   "outputs": [
    {
     "name": "stdout",
     "output_type": "stream",
     "text": [
      "python \n",
      " for beginner\n"
     ]
    }
   ],
   "source": [
    "e='python \\n for beginner'\n",
    "print(e)"
   ]
  },
  {
   "cell_type": "code",
   "execution_count": 59,
   "id": "5fb80eb8",
   "metadata": {},
   "outputs": [
    {
     "ename": "SyntaxError",
     "evalue": "invalid syntax (<ipython-input-59-5b2db8c64782>, line 1)",
     "output_type": "error",
     "traceback": [
      "\u001b[1;36m  File \u001b[1;32m\"<ipython-input-59-5b2db8c64782>\"\u001b[1;36m, line \u001b[1;32m1\u001b[0m\n\u001b[1;33m    print(\"He said, \"What's there?\"\")\u001b[0m\n\u001b[1;37m                     ^\u001b[0m\n\u001b[1;31mSyntaxError\u001b[0m\u001b[1;31m:\u001b[0m invalid syntax\n"
     ]
    }
   ],
   "source": [
    "print(\"He said, \"What's there?\"\")"
   ]
  },
  {
   "cell_type": "code",
   "execution_count": 60,
   "id": "90ac7a0d",
   "metadata": {},
   "outputs": [
    {
     "name": "stdout",
     "output_type": "stream",
     "text": [
      "He said, \"What's there?\"\n"
     ]
    }
   ],
   "source": [
    "print('He said, \"What\\'s there?\"')"
   ]
  },
  {
   "cell_type": "code",
   "execution_count": 61,
   "id": "472ec2ff",
   "metadata": {},
   "outputs": [
    {
     "name": "stdout",
     "output_type": "stream",
     "text": [
      "He said, \"What's there?\"\n"
     ]
    }
   ],
   "source": [
    "print(\"He said, \\\"What's there?\\\"\")"
   ]
  },
  {
   "cell_type": "code",
   "execution_count": null,
   "id": "308acbea",
   "metadata": {},
   "outputs": [],
   "source": []
  },
  {
   "cell_type": "markdown",
   "id": "2ee239a3",
   "metadata": {},
   "source": [
    "### Formatted String"
   ]
  },
  {
   "cell_type": "code",
   "execution_count": 7,
   "id": "bc30e36c",
   "metadata": {},
   "outputs": [
    {
     "name": "stdout",
     "output_type": "stream",
     "text": [
      "sabyasachi mohanty\n"
     ]
    }
   ],
   "source": [
    "f=\"sabyasachi\"\n",
    "g=\"mohanty\"\n",
    "full=f +\" \"+ g\n",
    "print(full)"
   ]
  },
  {
   "cell_type": "code",
   "execution_count": 8,
   "id": "6de34005",
   "metadata": {},
   "outputs": [
    {
     "name": "stdout",
     "output_type": "stream",
     "text": [
      "sabyasachi mohanty\n"
     ]
    }
   ],
   "source": [
    "full=f\"{f} {g}\"\n",
    "print(full)"
   ]
  },
  {
   "cell_type": "code",
   "execution_count": 9,
   "id": "b04e14a5",
   "metadata": {},
   "outputs": [
    {
     "name": "stdout",
     "output_type": "stream",
     "text": [
      "10 7\n"
     ]
    }
   ],
   "source": [
    "full=f\"{len(f)} {len(g)}\"\n",
    "print(full)"
   ]
  },
  {
   "cell_type": "code",
   "execution_count": 5,
   "id": "fd0ff087",
   "metadata": {},
   "outputs": [
    {
     "name": "stdout",
     "output_type": "stream",
     "text": [
      "sabyasachi mohanty\n"
     ]
    }
   ],
   "source": [
    "print(f\"{f} {g}\")"
   ]
  },
  {
   "cell_type": "markdown",
   "id": "43c8d8a5",
   "metadata": {},
   "source": [
    "### String Method"
   ]
  },
  {
   "cell_type": "code",
   "execution_count": 10,
   "id": "20585ca4",
   "metadata": {},
   "outputs": [],
   "source": [
    "name=\"Baisali Das\""
   ]
  },
  {
   "cell_type": "code",
   "execution_count": 11,
   "id": "5fe3469a",
   "metadata": {},
   "outputs": [
    {
     "name": "stdout",
     "output_type": "stream",
     "text": [
      "BAISALI DAS\n"
     ]
    }
   ],
   "source": [
    "print(name.upper())"
   ]
  },
  {
   "cell_type": "code",
   "execution_count": 14,
   "id": "d88ab839",
   "metadata": {},
   "outputs": [
    {
     "name": "stdout",
     "output_type": "stream",
     "text": [
      "baisali das\n"
     ]
    }
   ],
   "source": [
    "print(name.lower())"
   ]
  },
  {
   "cell_type": "code",
   "execution_count": 15,
   "id": "612245e2",
   "metadata": {},
   "outputs": [
    {
     "name": "stdout",
     "output_type": "stream",
     "text": [
      "Baisali Das\n"
     ]
    }
   ],
   "source": [
    "print(name.title())"
   ]
  },
  {
   "cell_type": "code",
   "execution_count": 17,
   "id": "f0a0b753",
   "metadata": {},
   "outputs": [
    {
     "name": "stdout",
     "output_type": "stream",
     "text": [
      "4\n",
      "8\n"
     ]
    }
   ],
   "source": [
    "print(name.find(\"ali\"))\n",
    "print(name.find(\"Das\"))"
   ]
  },
  {
   "cell_type": "code",
   "execution_count": 18,
   "id": "3fa984e7",
   "metadata": {},
   "outputs": [
    {
     "name": "stdout",
     "output_type": "stream",
     "text": [
      "Baisali Padhi\n"
     ]
    }
   ],
   "source": [
    "print(name.replace(\"Das\",\"Padhi\"))"
   ]
  },
  {
   "cell_type": "code",
   "execution_count": 19,
   "id": "a56d65b6",
   "metadata": {},
   "outputs": [
    {
     "name": "stdout",
     "output_type": "stream",
     "text": [
      "True\n"
     ]
    }
   ],
   "source": [
    "print(\"Das\" in name)"
   ]
  },
  {
   "cell_type": "code",
   "execution_count": 20,
   "id": "5795347f",
   "metadata": {},
   "outputs": [
    {
     "name": "stdout",
     "output_type": "stream",
     "text": [
      "True\n"
     ]
    }
   ],
   "source": [
    "print(\"padhi\" not in name)"
   ]
  },
  {
   "cell_type": "code",
   "execution_count": 65,
   "id": "8d0be8ab",
   "metadata": {},
   "outputs": [
    {
     "data": {
      "text/plain": [
       "'HAPPY NEW YEAR'"
      ]
     },
     "execution_count": 65,
     "metadata": {},
     "output_type": "execute_result"
    }
   ],
   "source": [
    "'Happy New Year'.upper()"
   ]
  },
  {
   "cell_type": "code",
   "execution_count": 66,
   "id": "59b8b5b1",
   "metadata": {},
   "outputs": [
    {
     "data": {
      "text/plain": [
       "'happy new year'"
      ]
     },
     "execution_count": 66,
     "metadata": {},
     "output_type": "execute_result"
    }
   ],
   "source": [
    "'Happy New Year'.lower()"
   ]
  },
  {
   "cell_type": "code",
   "execution_count": 62,
   "id": "a25d0b64",
   "metadata": {},
   "outputs": [
    {
     "data": {
      "text/plain": [
       "7"
      ]
     },
     "execution_count": 62,
     "metadata": {},
     "output_type": "execute_result"
    }
   ],
   "source": [
    "'Happy New Year'.find('ew')"
   ]
  },
  {
   "cell_type": "code",
   "execution_count": 64,
   "id": "a8797aad",
   "metadata": {},
   "outputs": [
    {
     "data": {
      "text/plain": [
       "'A very Very Happy New Year'"
      ]
     },
     "execution_count": 64,
     "metadata": {},
     "output_type": "execute_result"
    }
   ],
   "source": [
    "'Happy New Year'.replace('Happy','A very Very Happy')"
   ]
  },
  {
   "cell_type": "markdown",
   "id": "db744e62",
   "metadata": {},
   "source": [
    "### Numbers"
   ]
  },
  {
   "cell_type": "code",
   "execution_count": 24,
   "id": "5a05bcc4",
   "metadata": {},
   "outputs": [
    {
     "ename": "NameError",
     "evalue": "name 'a' is not defined",
     "output_type": "error",
     "traceback": [
      "\u001b[1;31m---------------------------------------------------------------------------\u001b[0m",
      "\u001b[1;31mNameError\u001b[0m                                 Traceback (most recent call last)",
      "\u001b[1;32m<ipython-input-24-7e75425f2446>\u001b[0m in \u001b[0;36m<module>\u001b[1;34m\u001b[0m\n\u001b[0;32m      2\u001b[0m \u001b[0mx\u001b[0m \u001b[1;33m=\u001b[0m \u001b[1;36m1\u001b[0m\u001b[1;33m\u001b[0m\u001b[1;33m\u001b[0m\u001b[0m\n\u001b[0;32m      3\u001b[0m \u001b[0mx\u001b[0m \u001b[1;33m=\u001b[0m \u001b[1;36m1.1\u001b[0m\u001b[1;33m\u001b[0m\u001b[1;33m\u001b[0m\u001b[0m\n\u001b[1;32m----> 4\u001b[1;33m \u001b[0mx\u001b[0m \u001b[1;33m=\u001b[0m \u001b[0ma\u001b[0m\u001b[1;33m+\u001b[0m\u001b[0mbj\u001b[0m   \u001b[1;31m#complex number(here j is a imaginary number)\u001b[0m\u001b[1;33m\u001b[0m\u001b[1;33m\u001b[0m\u001b[0m\n\u001b[0m",
      "\u001b[1;31mNameError\u001b[0m: name 'a' is not defined"
     ]
    }
   ],
   "source": [
    "# We have 3 types of numbers. i.e integer, float and complex number\n",
    "x = 1    \n",
    "x = 1.1  \n",
    "x = a+bj   #complex number(here j is a imaginary number)"
   ]
  },
  {
   "cell_type": "code",
   "execution_count": 25,
   "id": "982bd7d9",
   "metadata": {},
   "outputs": [
    {
     "name": "stdout",
     "output_type": "stream",
     "text": [
      "15\n",
      "9\n",
      "36\n",
      "4.0\n",
      "4\n",
      "0\n",
      "1728\n"
     ]
    }
   ],
   "source": [
    "print(12+3)\n",
    "print(12-3)\n",
    "print(12*3)\n",
    "print(12/3)\n",
    "print(12//3)\n",
    "print(12%3)\n",
    "print(12**3)"
   ]
  },
  {
   "cell_type": "code",
   "execution_count": 84,
   "id": "2c425934",
   "metadata": {},
   "outputs": [
    {
     "name": "stdout",
     "output_type": "stream",
     "text": [
      "4.1\n",
      "-1.5\n",
      "5.1\n",
      "8\n",
      "22.0\n",
      "0\n"
     ]
    },
    {
     "data": {
      "text/plain": [
       "0.125"
      ]
     },
     "execution_count": 84,
     "metadata": {},
     "output_type": "execute_result"
    }
   ],
   "source": [
    "print(1.0+1.1+2)\n",
    "print(1.5-3)\n",
    "print(1.1- -4)\n",
    "print(2**3)\n",
    "print(44.70//2)\n",
    "print(10%5)\n",
    "2**-3"
   ]
  },
  {
   "cell_type": "code",
   "execution_count": 85,
   "id": "3e02d48e",
   "metadata": {},
   "outputs": [
    {
     "data": {
      "text/plain": [
       "-3"
      ]
     },
     "execution_count": 85,
     "metadata": {},
     "output_type": "execute_result"
    }
   ],
   "source": [
    "-1 + (-3*2 + 4)"
   ]
  },
  {
   "cell_type": "code",
   "execution_count": 26,
   "id": "4feab0bc",
   "metadata": {},
   "outputs": [
    {
     "data": {
      "text/plain": [
       "30"
      ]
     },
     "execution_count": 26,
     "metadata": {},
     "output_type": "execute_result"
    }
   ],
   "source": [
    "#Argumented assignment operator\n",
    "x = 10\n",
    "#x = 10 * 3\n",
    "x *= 3 #Argumented assignment operator\n",
    "x"
   ]
  },
  {
   "cell_type": "code",
   "execution_count": 68,
   "id": "bbab0796",
   "metadata": {},
   "outputs": [
    {
     "data": {
      "text/plain": [
       "0.0001"
      ]
     },
     "execution_count": 68,
     "metadata": {},
     "output_type": "execute_result"
    }
   ],
   "source": [
    "n=1e-4\n",
    "n"
   ]
  },
  {
   "cell_type": "code",
   "execution_count": 70,
   "id": "825cdbfc",
   "metadata": {},
   "outputs": [
    {
     "data": {
      "text/plain": [
       "(inf, float)"
      ]
     },
     "execution_count": 70,
     "metadata": {},
     "output_type": "execute_result"
    }
   ],
   "source": [
    "m=2e400\n",
    "m,type(m)"
   ]
  },
  {
   "cell_type": "code",
   "execution_count": null,
   "id": "2cfc7015",
   "metadata": {},
   "outputs": [],
   "source": []
  },
  {
   "cell_type": "markdown",
   "id": "7c7bc528",
   "metadata": {},
   "source": [
    "### Working with Numbers"
   ]
  },
  {
   "cell_type": "code",
   "execution_count": 18,
   "id": "67d16951",
   "metadata": {},
   "outputs": [
    {
     "name": "stdout",
     "output_type": "stream",
     "text": [
      "3\n"
     ]
    }
   ],
   "source": [
    "print(round(3.2))"
   ]
  },
  {
   "cell_type": "code",
   "execution_count": 19,
   "id": "2cb7cc9a",
   "metadata": {},
   "outputs": [
    {
     "data": {
      "text/plain": [
       "2"
      ]
     },
     "execution_count": 19,
     "metadata": {},
     "output_type": "execute_result"
    }
   ],
   "source": [
    "import math\n",
    "math.ceil(1.2)"
   ]
  },
  {
   "cell_type": "code",
   "execution_count": 20,
   "id": "3415c0fb",
   "metadata": {},
   "outputs": [
    {
     "data": {
      "text/plain": [
       "6"
      ]
     },
     "execution_count": 20,
     "metadata": {},
     "output_type": "execute_result"
    }
   ],
   "source": [
    "math.factorial(3)"
   ]
  },
  {
   "cell_type": "code",
   "execution_count": 21,
   "id": "42261743",
   "metadata": {},
   "outputs": [
    {
     "data": {
      "text/plain": [
       "168"
      ]
     },
     "execution_count": 21,
     "metadata": {},
     "output_type": "execute_result"
    }
   ],
   "source": [
    "math.lcm(2,4,6,7,8)"
   ]
  },
  {
   "cell_type": "markdown",
   "id": "5b1fcb23",
   "metadata": {},
   "source": [
    "### Type Conversion"
   ]
  },
  {
   "cell_type": "code",
   "execution_count": 28,
   "id": "d2c3095f",
   "metadata": {},
   "outputs": [
    {
     "name": "stdout",
     "output_type": "stream",
     "text": [
      "x: abc\n"
     ]
    },
    {
     "ename": "TypeError",
     "evalue": "can only concatenate str (not \"int\") to str",
     "output_type": "error",
     "traceback": [
      "\u001b[1;31m---------------------------------------------------------------------------\u001b[0m",
      "\u001b[1;31mTypeError\u001b[0m                                 Traceback (most recent call last)",
      "\u001b[1;32m<ipython-input-28-0298cb8c8366>\u001b[0m in \u001b[0;36m<module>\u001b[1;34m\u001b[0m\n\u001b[0;32m      1\u001b[0m \u001b[0mx\u001b[0m \u001b[1;33m=\u001b[0m \u001b[0minput\u001b[0m\u001b[1;33m(\u001b[0m\u001b[1;34m\"x: \"\u001b[0m\u001b[1;33m)\u001b[0m\u001b[1;33m\u001b[0m\u001b[1;33m\u001b[0m\u001b[0m\n\u001b[1;32m----> 2\u001b[1;33m \u001b[0my\u001b[0m \u001b[1;33m=\u001b[0m \u001b[0mx\u001b[0m \u001b[1;33m+\u001b[0m \u001b[1;36m1\u001b[0m\u001b[1;33m\u001b[0m\u001b[1;33m\u001b[0m\u001b[0m\n\u001b[0m\u001b[0;32m      3\u001b[0m \u001b[0mprint\u001b[0m\u001b[1;33m(\u001b[0m\u001b[0my\u001b[0m\u001b[1;33m)\u001b[0m\u001b[1;33m\u001b[0m\u001b[1;33m\u001b[0m\u001b[0m\n",
      "\u001b[1;31mTypeError\u001b[0m: can only concatenate str (not \"int\") to str"
     ]
    }
   ],
   "source": [
    "x = input(\"x: \")\n",
    "y = x + 1\n",
    "print(y)"
   ]
  },
  {
   "cell_type": "code",
   "execution_count": 29,
   "id": "d27f7ccd",
   "metadata": {},
   "outputs": [
    {
     "name": "stdout",
     "output_type": "stream",
     "text": [
      "please enter a value : 22\n",
      "23\n"
     ]
    }
   ],
   "source": [
    "x = int(input(\"please enter a value : \"))\n",
    "y = x + 1\n",
    "print(y)\n",
    "#print(f\"x:{x}, y:{y}\")"
   ]
  },
  {
   "cell_type": "code",
   "execution_count": 30,
   "id": "d2868042",
   "metadata": {},
   "outputs": [
    {
     "name": "stdout",
     "output_type": "stream",
     "text": [
      "x:22, y:23\n"
     ]
    }
   ],
   "source": [
    "print(f\"x:{x}, y:{y}\")"
   ]
  },
  {
   "cell_type": "markdown",
   "id": "df911e2b",
   "metadata": {},
   "source": [
    "### Quiz"
   ]
  },
  {
   "cell_type": "code",
   "execution_count": 33,
   "id": "a7d7d1f1",
   "metadata": {},
   "outputs": [
    {
     "data": {
      "text/plain": [
       "'ppl'"
      ]
     },
     "execution_count": 33,
     "metadata": {},
     "output_type": "execute_result"
    }
   ],
   "source": [
    "f=\"apple\"\n",
    "f[1:-1]"
   ]
  },
  {
   "cell_type": "code",
   "execution_count": 32,
   "id": "2f2e813e",
   "metadata": {},
   "outputs": [
    {
     "data": {
      "text/plain": [
       "'s'"
      ]
     },
     "execution_count": 32,
     "metadata": {},
     "output_type": "execute_result"
    }
   ],
   "source": [
    "f[0]"
   ]
  },
  {
   "cell_type": "code",
   "execution_count": 23,
   "id": "9320c7d1",
   "metadata": {},
   "outputs": [
    {
     "data": {
      "text/plain": [
       "'ap'"
      ]
     },
     "execution_count": 23,
     "metadata": {},
     "output_type": "execute_result"
    }
   ],
   "source": [
    "f[:-3]"
   ]
  },
  {
   "cell_type": "code",
   "execution_count": 26,
   "id": "4056edf1",
   "metadata": {},
   "outputs": [
    {
     "data": {
      "text/plain": [
       "1"
      ]
     },
     "execution_count": 26,
     "metadata": {},
     "output_type": "execute_result"
    }
   ],
   "source": [
    "10%3"
   ]
  },
  {
   "cell_type": "code",
   "execution_count": 31,
   "id": "cca1c858",
   "metadata": {},
   "outputs": [
    {
     "data": {
      "text/plain": [
       "True"
      ]
     },
     "execution_count": 31,
     "metadata": {},
     "output_type": "execute_result"
    }
   ],
   "source": [
    "bool(\"False\")"
   ]
  },
  {
   "cell_type": "code",
   "execution_count": 32,
   "id": "2a442778",
   "metadata": {},
   "outputs": [
    {
     "data": {
      "text/plain": [
       "False"
      ]
     },
     "execution_count": 32,
     "metadata": {},
     "output_type": "execute_result"
    }
   ],
   "source": [
    "bool()"
   ]
  },
  {
   "cell_type": "code",
   "execution_count": 34,
   "id": "b8c55b67",
   "metadata": {},
   "outputs": [
    {
     "data": {
      "text/plain": [
       "True"
      ]
     },
     "execution_count": 34,
     "metadata": {},
     "output_type": "execute_result"
    }
   ],
   "source": [
    "bool(1)"
   ]
  },
  {
   "cell_type": "code",
   "execution_count": 35,
   "id": "44a340e8",
   "metadata": {},
   "outputs": [
    {
     "data": {
      "text/plain": [
       "False"
      ]
     },
     "execution_count": 35,
     "metadata": {},
     "output_type": "execute_result"
    }
   ],
   "source": [
    "bool(0)"
   ]
  },
  {
   "cell_type": "code",
   "execution_count": 36,
   "id": "46aea3f8",
   "metadata": {},
   "outputs": [],
   "source": [
    "sc=1000  #bad practice"
   ]
  },
  {
   "cell_type": "code",
   "execution_count": null,
   "id": "68f0ee4a",
   "metadata": {},
   "outputs": [],
   "source": []
  }
 ],
 "metadata": {
  "kernelspec": {
   "display_name": "Python 3.9.4 64-bit ('tensorflow': conda)",
   "language": "python",
   "name": "python394jvsc74a57bd0552044c7f615bc91dd29daeed772dba6fe20322e36f3e727f3c4957fbbcfc56d"
  },
  "language_info": {
   "codemirror_mode": {
    "name": "ipython",
    "version": 3
   },
   "file_extension": ".py",
   "mimetype": "text/x-python",
   "name": "python",
   "nbconvert_exporter": "python",
   "pygments_lexer": "ipython3",
   "version": "3.9.4"
  }
 },
 "nbformat": 4,
 "nbformat_minor": 5
}
