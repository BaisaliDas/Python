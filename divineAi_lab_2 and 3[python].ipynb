{
 "cells": [
  {
   "cell_type": "markdown",
   "id": "1655c966",
   "metadata": {},
   "source": [
    "## Control Flow"
   ]
  },
  {
   "cell_type": "markdown",
   "id": "780db8ab",
   "metadata": {},
   "source": [
    "### 1. $Comaprision$ $Operator$"
   ]
  },
  {
   "cell_type": "code",
   "execution_count": 6,
   "id": "b4c51981",
   "metadata": {},
   "outputs": [
    {
     "name": "stdout",
     "output_type": "stream",
     "text": [
      "True\n",
      "False\n",
      "True\n",
      "False\n",
      "True\n",
      "False\n",
      "True\n"
     ]
    }
   ],
   "source": [
    "print(10 > 0.3)\n",
    "print(1 >= 3)\n",
    "print(10 < 20)\n",
    "print(100 <= 20)\n",
    "print(10 == 10.0)\n",
    "print(10=='10')  #comaprision between string and integer\n",
    "print(10!='10')"
   ]
  },
  {
   "cell_type": "code",
   "execution_count": 12,
   "id": "150cba69",
   "metadata": {},
   "outputs": [
    {
     "name": "stdout",
     "output_type": "stream",
     "text": [
      "True\n",
      "False\n"
     ]
    }
   ],
   "source": [
    "print('bag' > 'apple')\n",
    "print('bag' == 'BAG')"
   ]
  },
  {
   "cell_type": "code",
   "execution_count": 14,
   "id": "b4f30d9e",
   "metadata": {},
   "outputs": [
    {
     "data": {
      "text/plain": [
       "(98, 66)"
      ]
     },
     "execution_count": 14,
     "metadata": {},
     "output_type": "execute_result"
    }
   ],
   "source": [
    "ord('b'),ord('B') \n",
    "#converts a character into its Ascii value.\n",
    "#This method accepts a single character."
   ]
  },
  {
   "cell_type": "markdown",
   "id": "3a314b90",
   "metadata": {},
   "source": [
    "### 2. $Conditional$ $Statement$"
   ]
  },
  {
   "cell_type": "code",
   "execution_count": 17,
   "id": "62cc1cac",
   "metadata": {},
   "outputs": [
    {
     "name": "stdout",
     "output_type": "stream",
     "text": [
      "Value of temp: 34\n",
      "it's very hot day\n",
      "it's warm\n",
      "drink water\n",
      "done\n",
      "it's ohk\n"
     ]
    }
   ],
   "source": [
    "tempt = int(input('Value of temp: '))\n",
    "if tempt > 30:\n",
    "    print(\"it's very hot day\")\n",
    "    print(\"it's warm\")\n",
    "    print(\"drink water\")\n",
    "print(\"done\")\n",
    "print(\"it's ohk\")"
   ]
  },
  {
   "cell_type": "code",
   "execution_count": 23,
   "id": "3f5c3843",
   "metadata": {},
   "outputs": [
    {
     "name": "stdout",
     "output_type": "stream",
     "text": [
      "Value of temp: -5\n",
      "it's very cold day\n",
      "done\n"
     ]
    }
   ],
   "source": [
    "tempt = int(input('Value of temp: '))\n",
    "if(tempt > 30):\n",
    "    print(\"it's warm\")\n",
    "    print(\"drink water\")\n",
    "elif(tempt > 20):\n",
    "    print(\"it's a nice day\")\n",
    "elif(tempt == -5):\n",
    "    print(\"it's very cold day\")\n",
    "print(\"done\")"
   ]
  },
  {
   "cell_type": "code",
   "execution_count": 25,
   "id": "38a186e0",
   "metadata": {},
   "outputs": [
    {
     "name": "stdout",
     "output_type": "stream",
     "text": [
      "Enter tempt.: 35\n",
      "it is warm\n",
      "drink water\n",
      "done\n"
     ]
    }
   ],
   "source": [
    "temperature = float(input(\"Enter tempt.: \"))\n",
    "if temperature > 30:\n",
    "    print(\"it is warm\")\n",
    "    print(\"drink water\")\n",
    "elif temperature > 20:\n",
    "    print(\"it is nice day\")\n",
    "else:\n",
    "    print(\"its ohk\")\n",
    "print(\"done\")"
   ]
  },
  {
   "cell_type": "markdown",
   "id": "f16ac650",
   "metadata": {},
   "source": [
    "### 3. $Ternary$ $Operator$"
   ]
  },
  {
   "cell_type": "code",
   "execution_count": 2,
   "id": "3019e140",
   "metadata": {},
   "outputs": [
    {
     "name": "stdout",
     "output_type": "stream",
     "text": [
      "Enter tempt.:34\n",
      "its a nyc day\n"
     ]
    }
   ],
   "source": [
    "tempt = int(input(\"Enter tempt.:\"))\n",
    "if tempt > 20:\n",
    "    print('its a nyc day')\n",
    "else:\n",
    "    print(\"its a cold day\")"
   ]
  },
  {
   "cell_type": "code",
   "execution_count": 3,
   "id": "256a5d0a",
   "metadata": {},
   "outputs": [
    {
     "name": "stdout",
     "output_type": "stream",
     "text": [
      "Enter tempt.:15.5\n",
      "its a cold day\n"
     ]
    }
   ],
   "source": [
    "tempt = float(input(\"Enter tempt.:\"))\n",
    "message = \"it is a nice day\" if tempt >= 20 else \"its a cold day\"\n",
    "print(message)"
   ]
  },
  {
   "cell_type": "code",
   "execution_count": 4,
   "id": "b6d4440a",
   "metadata": {},
   "outputs": [
    {
     "name": "stdout",
     "output_type": "stream",
     "text": [
      "Enter tempt.:18\n",
      "YES You are Eligible for vote\n"
     ]
    }
   ],
   "source": [
    "Age=int(input(\"Enter tempt.:\"))\n",
    "msg=\"YES You are Eligible for vote\" if Age>=18 else \"NO U r Not Eligible for voting\"\n",
    "print(msg)"
   ]
  },
  {
   "cell_type": "code",
   "execution_count": 5,
   "id": "9004f18a",
   "metadata": {},
   "outputs": [
    {
     "name": "stdout",
     "output_type": "stream",
     "text": [
      "Enter Age17\n",
      "Person is not eligible for voting\n"
     ]
    }
   ],
   "source": [
    "age = int(input(\"Enter Age\"))\n",
    "if age >= 18:\n",
    "    print(\"person is  eligible for voting\")\n",
    "else:\n",
    "    print(\"Person is not eligible for voting\")"
   ]
  },
  {
   "cell_type": "markdown",
   "id": "23870aa7",
   "metadata": {},
   "source": [
    "### 4. $Logical$ $Operators$"
   ]
  },
  {
   "cell_type": "code",
   "execution_count": 6,
   "id": "a7802f1e",
   "metadata": {},
   "outputs": [
    {
     "name": "stdout",
     "output_type": "stream",
     "text": [
      "eligible for loan\n"
     ]
    }
   ],
   "source": [
    "high_income = True\n",
    "good_credit = True\n",
    "if high_income and good_credit:\n",
    "    print(\"eligible for loan\")\n",
    "else:\n",
    "    print(\"not eligible for loan\")"
   ]
  },
  {
   "cell_type": "code",
   "execution_count": 7,
   "id": "66cf50d1",
   "metadata": {},
   "outputs": [
    {
     "name": "stdout",
     "output_type": "stream",
     "text": [
      "not eligible for loan\n"
     ]
    }
   ],
   "source": [
    "high_income = False\n",
    "good_credit = False\n",
    "if high_income and good_credit:\n",
    "    print(\"eligible for loan\")\n",
    "else:\n",
    "    print(\"not eligible for loan\")"
   ]
  },
  {
   "cell_type": "code",
   "execution_count": 10,
   "id": "c687f0b0",
   "metadata": {},
   "outputs": [
    {
     "name": "stdout",
     "output_type": "stream",
     "text": [
      "eligible for loan\n",
      "its is not ohk\n"
     ]
    }
   ],
   "source": [
    "high_income = True\n",
    "good_credit = False  #True\n",
    "student = True\n",
    "if not good_credit:\n",
    "    print(\"eligible for loan\")\n",
    "elif student:\n",
    "    print(\"not eligible for loan\")\n",
    "elif high_income:\n",
    "    print('its ohk')\n",
    "    \n",
    "print(\"its is not ohk\")"
   ]
  },
  {
   "cell_type": "code",
   "execution_count": 11,
   "id": "7fa1d567",
   "metadata": {},
   "outputs": [
    {
     "name": "stdout",
     "output_type": "stream",
     "text": [
      "not eligible for loan\n"
     ]
    }
   ],
   "source": [
    "high_income = True\n",
    "good_credit = False\n",
    "student = True\n",
    "if (high_income or good_credit) and not student:\n",
    "    print(\"eligible for loan\")\n",
    "else:\n",
    "    print(\"not eligible for loan\")"
   ]
  },
  {
   "cell_type": "markdown",
   "id": "c0a40c62",
   "metadata": {},
   "source": [
    "### 5. $Short-Circuit$ $Evaluation$"
   ]
  },
  {
   "cell_type": "code",
   "execution_count": 17,
   "id": "36c9c9c2",
   "metadata": {},
   "outputs": [
    {
     "name": "stdout",
     "output_type": "stream",
     "text": [
      "eligible for loan\n"
     ]
    }
   ],
   "source": [
    "high_income = True     #try high_income=False and student with False\n",
    "good_credit = False\n",
    "student = True\n",
    "if high_income or good_credit or not student:    # try without not\n",
    "    print(\"eligible for loan\")"
   ]
  },
  {
   "cell_type": "code",
   "execution_count": 19,
   "id": "7abf0c44",
   "metadata": {},
   "outputs": [],
   "source": [
    "high_income = True\n",
    "good_credit = False  #try good_credit=True\n",
    "student = True\n",
    "if high_income and good_credit and  student:\n",
    "    print(\"eligible for loan\")"
   ]
  },
  {
   "cell_type": "markdown",
   "id": "f1085278",
   "metadata": {},
   "source": [
    "### 6. $Chaining$ $Comparision$ $Operator$"
   ]
  },
  {
   "cell_type": "code",
   "execution_count": 28,
   "id": "b71fc271",
   "metadata": {},
   "outputs": [
    {
     "name": "stdout",
     "output_type": "stream",
     "text": [
      "Enter age: 22\n",
      "eligible for vote\n"
     ]
    }
   ],
   "source": [
    "age = int(input(\"Enter age: \"))\n",
    "if 18 <= age < 65:    #chaining comparison \n",
    "    print(\"eligible for vote\")"
   ]
  },
  {
   "cell_type": "code",
   "execution_count": 23,
   "id": "70e29e72",
   "metadata": {},
   "outputs": [
    {
     "name": "stdout",
     "output_type": "stream",
     "text": [
      "Enter age: 15\n"
     ]
    }
   ],
   "source": [
    "age = int(input(\"Enter age: \"))\n",
    "if age >= 18 and age < 65:\n",
    "    print(\"eligible\")"
   ]
  },
  {
   "cell_type": "code",
   "execution_count": 31,
   "id": "c390aa6e",
   "metadata": {},
   "outputs": [
    {
     "name": "stdout",
     "output_type": "stream",
     "text": [
      "c\n"
     ]
    }
   ],
   "source": [
    "if 10=='10':\n",
    "    print('a')\n",
    "elif'bag'>'apple'and 'bag'>'cat':\n",
    "    print('b')\n",
    "else:\n",
    "    print('c')"
   ]
  },
  {
   "cell_type": "markdown",
   "id": "00f4a3f0",
   "metadata": {},
   "source": [
    "### 7. $Loops$\n",
    "- for loop\n",
    "- for else loop\n",
    "- nested loop\n",
    "- while loop\n"
   ]
  },
  {
   "cell_type": "code",
   "execution_count": 47,
   "id": "810bba00",
   "metadata": {},
   "outputs": [
    {
     "name": "stdout",
     "output_type": "stream",
     "text": [
      "attempt 0\n",
      "attempt 1\n",
      "attempt 2\n"
     ]
    },
    {
     "data": {
      "text/plain": [
       "int"
      ]
     },
     "execution_count": 47,
     "metadata": {},
     "output_type": "execute_result"
    }
   ],
   "source": [
    "for number in range(3):\n",
    "    print('attempt', number)\n",
    "type(number)"
   ]
  },
  {
   "cell_type": "code",
   "execution_count": 30,
   "id": "4bef6610",
   "metadata": {},
   "outputs": [
    {
     "name": "stdout",
     "output_type": "stream",
     "text": [
      "attempt 1\n",
      "attempt 2\n",
      "attempt 3\n",
      "attempt 4\n",
      "attempt 5\n",
      "attempt 6\n",
      "attempt 7\n",
      "attempt 8\n",
      "attempt 9\n"
     ]
    },
    {
     "data": {
      "text/plain": [
       "int"
      ]
     },
     "execution_count": 30,
     "metadata": {},
     "output_type": "execute_result"
    }
   ],
   "source": [
    "for number in range(9):\n",
    "    print('attempt', number+1)\n",
    "type(number)"
   ]
  },
  {
   "cell_type": "code",
   "execution_count": 32,
   "id": "e02e5669",
   "metadata": {},
   "outputs": [
    {
     "name": "stdout",
     "output_type": "stream",
     "text": [
      "attempt 1 .\n",
      "attempt 2 ..\n",
      "attempt 3 ...\n"
     ]
    }
   ],
   "source": [
    "for number in range(3):\n",
    "    print('attempt', number + 1,(number + 1) * '.')"
   ]
  },
  {
   "cell_type": "code",
   "execution_count": 49,
   "id": "e17faf24",
   "metadata": {},
   "outputs": [
    {
     "name": "stdout",
     "output_type": "stream",
     "text": [
      "attempt 1 .\n",
      "attempt 2 ..\n",
      "attempt 3 ...\n"
     ]
    }
   ],
   "source": [
    "for number in range(1, 4):\n",
    "    print('attempt',number ,number * '.')"
   ]
  },
  {
   "cell_type": "code",
   "execution_count": 51,
   "id": "0c1a9a93",
   "metadata": {},
   "outputs": [
    {
     "name": "stdout",
     "output_type": "stream",
     "text": [
      "attempt 1 .\n",
      "attempt 3 ...\n",
      "attempt 5 .....\n",
      "attempt 7 .......\n",
      "attempt 9 .........\n"
     ]
    }
   ],
   "source": [
    "for number in range(1, 10 ,2):\n",
    "    print('attempt',number ,number * '.')"
   ]
  },
  {
   "cell_type": "code",
   "execution_count": 53,
   "id": "b8fad47d",
   "metadata": {},
   "outputs": [
    {
     "name": "stdout",
     "output_type": "stream",
     "text": [
      "attempt\n",
      "Successful\n"
     ]
    }
   ],
   "source": [
    "successful = True    # Try False\n",
    "for number in range(3):\n",
    "    print('attempt')\n",
    "    if successful:\n",
    "        print('Successful')\n",
    "        break\n",
    "        "
   ]
  },
  {
   "cell_type": "code",
   "execution_count": 38,
   "id": "2ca1e7c4",
   "metadata": {},
   "outputs": [
    {
     "name": "stdout",
     "output_type": "stream",
     "text": [
      "attempt\n",
      "attempt\n",
      "attempt\n",
      "attempted 3 times and failed\n"
     ]
    }
   ],
   "source": [
    "successful = False\n",
    "for number in range(3):\n",
    "    print('attempt')\n",
    "    if successful:\n",
    "        print('Successful')\n",
    "        break\n",
    "else:\n",
    "    print('attempted 3 times and failed')"
   ]
  },
  {
   "cell_type": "code",
   "execution_count": 54,
   "id": "aa704305",
   "metadata": {},
   "outputs": [
    {
     "name": "stdout",
     "output_type": "stream",
     "text": [
      "attempt\n",
      "Successful\n"
     ]
    }
   ],
   "source": [
    "successful = True\n",
    "for number in range(3):\n",
    "    print('attempt')\n",
    "    if successful:\n",
    "        print('Successful')\n",
    "        break\n",
    "else:\n",
    "    print('attempted 3 times and failed')"
   ]
  },
  {
   "cell_type": "code",
   "execution_count": 40,
   "id": "3db51cd2",
   "metadata": {},
   "outputs": [
    {
     "name": "stdout",
     "output_type": "stream",
     "text": [
      "(0, 0)\n",
      "(0, 1)\n",
      "(0, 2)\n",
      "(1, 0)\n",
      "(1, 1)\n",
      "(1, 2)\n",
      "(2, 0)\n",
      "(2, 1)\n",
      "(2, 2)\n",
      "(3, 0)\n",
      "(3, 1)\n",
      "(3, 2)\n",
      "(4, 0)\n",
      "(4, 1)\n",
      "(4, 2)\n"
     ]
    }
   ],
   "source": [
    "for x in range(5):\n",
    "    for y in range(3):\n",
    "        print(f\"({x}, {y})\")"
   ]
  },
  {
   "cell_type": "markdown",
   "id": "36d02f6e",
   "metadata": {},
   "source": [
    "### 8. $Iterables$"
   ]
  },
  {
   "cell_type": "code",
   "execution_count": 41,
   "id": "d665857b",
   "metadata": {},
   "outputs": [
    {
     "name": "stdout",
     "output_type": "stream",
     "text": [
      "p\n",
      "y\n",
      "t\n",
      "h\n",
      "o\n",
      "n\n"
     ]
    }
   ],
   "source": [
    "for x in 'python':\n",
    "    print(x)"
   ]
  },
  {
   "cell_type": "code",
   "execution_count": 42,
   "id": "ed10ff00",
   "metadata": {
    "scrolled": true
   },
   "outputs": [
    {
     "name": "stdout",
     "output_type": "stream",
     "text": [
      "1\n",
      "2\n",
      "3\n",
      "4\n",
      "5\n",
      "6\n",
      "7\n"
     ]
    }
   ],
   "source": [
    "for x in [1,2,3,4,5,6,7]:\n",
    "    print(x)"
   ]
  },
  {
   "cell_type": "code",
   "execution_count": 43,
   "id": "1305bb5a",
   "metadata": {},
   "outputs": [
    {
     "name": "stdout",
     "output_type": "stream",
     "text": [
      "0\n",
      "1\n",
      "2\n",
      "3\n",
      "4\n",
      "5\n",
      "6\n",
      "7\n",
      "8\n",
      "9\n"
     ]
    }
   ],
   "source": [
    "for x in range(10):\n",
    "    print(x)"
   ]
  },
  {
   "cell_type": "markdown",
   "id": "e61e9190",
   "metadata": {},
   "source": [
    "### 9. $While$ $Loop$"
   ]
  },
  {
   "cell_type": "code",
   "execution_count": 44,
   "id": "2d0c60be",
   "metadata": {
    "scrolled": false
   },
   "outputs": [
    {
     "name": "stdout",
     "output_type": "stream",
     "text": [
      "100\n",
      "50\n",
      "25\n",
      "12\n",
      "6\n",
      "3\n",
      "1\n"
     ]
    }
   ],
   "source": [
    "number = 100\n",
    "while number > 0:\n",
    "    print(number)\n",
    "    number //= 2"
   ]
  },
  {
   "cell_type": "code",
   "execution_count": 45,
   "id": "34ccef36",
   "metadata": {},
   "outputs": [
    {
     "name": "stdout",
     "output_type": "stream",
     "text": [
      "1\n",
      "2\n",
      "4\n",
      "5\n",
      "6\n",
      "7\n"
     ]
    }
   ],
   "source": [
    "i = 0 \n",
    "while i < 7:\n",
    "    i += 1\n",
    "    if i == 3:\n",
    "        continue\n",
    "    print(i)   "
   ]
  },
  {
   "cell_type": "code",
   "execution_count": 46,
   "id": "b98b7681",
   "metadata": {},
   "outputs": [
    {
     "name": "stdout",
     "output_type": "stream",
     "text": [
      "1\n",
      "2\n",
      "3\n",
      "4\n",
      "5\n",
      "i is no longer less than 6\n"
     ]
    }
   ],
   "source": [
    "i = 1\n",
    "while i < 6:\n",
    "    print(i)\n",
    "    i += 1\n",
    "else:\n",
    "    print(\"i is no longer less than 6\")"
   ]
  },
  {
   "cell_type": "markdown",
   "id": "2d815869",
   "metadata": {},
   "source": [
    "# Programs"
   ]
  },
  {
   "cell_type": "code",
   "execution_count": 6,
   "id": "2a022be2",
   "metadata": {},
   "outputs": [
    {
     "name": "stdout",
     "output_type": "stream",
     "text": [
      "Enter Value Of x: 4\n",
      "x is even and non-negative\n"
     ]
    }
   ],
   "source": [
    "x=int(input(\"Enter Value Of x: \"))\n",
    "if x < 0: \n",
    "    print(\"x is negative\")\n",
    "elif x % 2:\n",
    "    print(\"x is positive and odd\")\n",
    "else:\n",
    "    print(\"x is even and non-negative\")"
   ]
  },
  {
   "cell_type": "code",
   "execution_count": 7,
   "id": "446e9a77",
   "metadata": {},
   "outputs": [
    {
     "name": "stdout",
     "output_type": "stream",
     "text": [
      "The approximate log2 is 3\n"
     ]
    }
   ],
   "source": [
    "count = 0\n",
    "while x > 0:\n",
    "    x = x // 2            \n",
    "    count += 1\n",
    "print(\"The approximate log2 is\", count)"
   ]
  },
  {
   "cell_type": "code",
   "execution_count": 5,
   "id": "efc6a75b",
   "metadata": {},
   "outputs": [
    {
     "name": "stdout",
     "output_type": "stream",
     "text": [
      "Letter in S !!!!\n",
      "Letter in C !!!!\n",
      "Letter in O !!!!\n",
      "Letter in O !!!!\n",
      "Letter in B !!!!\n",
      "Letter in Y !!!!\n",
      "Letter in - !!!!\n",
      "Letter in D !!!!\n",
      "Letter in O !!!!\n",
      "Letter in O !!!!\n"
     ]
    }
   ],
   "source": [
    "for letter in \"SCOOBY-DOO\":\n",
    "    print(\"Letter in\",letter,\"!!!!\")"
   ]
  },
  {
   "cell_type": "code",
   "execution_count": 13,
   "id": "f6fd99e1",
   "metadata": {},
   "outputs": [
    {
     "name": "stdout",
     "output_type": "stream",
     "text": [
      "Enter a: 1998\n",
      "Enter b: 1999\n",
      "b>a\n"
     ]
    }
   ],
   "source": [
    "a = int(input(\"Enter a: \"))\n",
    "b = int(input(\"Enter b: \"))\n",
    "print(\"a>b\") if a > b else print(\"b>a\")"
   ]
  },
  {
   "cell_type": "code",
   "execution_count": 15,
   "id": "9c70e030",
   "metadata": {},
   "outputs": [
    {
     "name": "stdout",
     "output_type": "stream",
     "text": [
      "Enter a: 222\n",
      "Enter b: 222\n",
      "222 = 222\n"
     ]
    }
   ],
   "source": [
    "a = int(input(\"Enter a: \"))\n",
    "b = int(input(\"Enter b: \"))\n",
    "print(\"HELLO \") if a > b else print(a,\"=\",b) if a == b else print(\"OLLEH\")"
   ]
  },
  {
   "cell_type": "code",
   "execution_count": 28,
   "id": "398542e9",
   "metadata": {},
   "outputs": [
    {
     "name": "stdout",
     "output_type": "stream",
     "text": [
      "Enter a: 10\n",
      "Enter b: 6\n",
      "Enter c: 111\n",
      "Satisfied\n"
     ]
    }
   ],
   "source": [
    "a = int(input(\"Enter a: \"))\n",
    "b = int(input(\"Enter b: \"))\n",
    "c = int(input(\"Enter c: \"))\n",
    "if a>b and a<c:\n",
    "    print(\"Satisfied\")"
   ]
  },
  {
   "cell_type": "code",
   "execution_count": 30,
   "id": "4f39720a",
   "metadata": {},
   "outputs": [
    {
     "name": "stdout",
     "output_type": "stream",
     "text": [
      "Applicable\n"
     ]
    }
   ],
   "source": [
    "#follow above cell i/p\n",
    "if a>=b or b<=c:\n",
    "    print(\"Applicable\")\n",
    "else:\n",
    "    print(\"Not Applicable\")"
   ]
  },
  {
   "cell_type": "code",
   "execution_count": 2,
   "id": "580535b1",
   "metadata": {},
   "outputs": [
    {
     "name": "stdout",
     "output_type": "stream",
     "text": [
      "B\n"
     ]
    }
   ],
   "source": [
    "a,b=10,15\n",
    "if a>b:\n",
    "    print(\"A\")\n",
    "else:\n",
    "    print(\"B\")"
   ]
  },
  {
   "cell_type": "code",
   "execution_count": 4,
   "id": "d7a4324d",
   "metadata": {},
   "outputs": [
    {
     "name": "stdout",
     "output_type": "stream",
     "text": [
      "B\n"
     ]
    }
   ],
   "source": [
    "print(\"A\" if a>b else \"B\")"
   ]
  },
  {
   "cell_type": "code",
   "execution_count": 7,
   "id": "c3c977bd",
   "metadata": {},
   "outputs": [
    {
     "name": "stdout",
     "output_type": "stream",
     "text": [
      "Value of a: 22.8\n",
      "Value of b: 99.0\n"
     ]
    },
    {
     "data": {
      "text/plain": [
       "'A'"
      ]
     },
     "execution_count": 7,
     "metadata": {},
     "output_type": "execute_result"
    }
   ],
   "source": [
    "from random import random\n",
    "a,b=input(\"Value of a: \"),input(\"Value of b: \")\n",
    "a,b=random(),random()\n",
    "res=\"A\" if a>=b else \"B\"\n",
    "res"
   ]
  },
  {
   "cell_type": "code",
   "execution_count": 8,
   "id": "d7934327",
   "metadata": {},
   "outputs": [
    {
     "data": {
      "text/plain": [
       "(0.7320785840205355, 0.5706029618817895)"
      ]
     },
     "execution_count": 8,
     "metadata": {},
     "output_type": "execute_result"
    }
   ],
   "source": [
    "a,b"
   ]
  },
  {
   "cell_type": "code",
   "execution_count": 10,
   "id": "d1bd63f7",
   "metadata": {},
   "outputs": [
    {
     "data": {
      "text/plain": [
       "(0.5706029618817895, 0.7320785840205355)"
      ]
     },
     "execution_count": 10,
     "metadata": {},
     "output_type": "execute_result"
    }
   ],
   "source": [
    "(b,a)"
   ]
  },
  {
   "cell_type": "code",
   "execution_count": 9,
   "id": "fbb52521",
   "metadata": {},
   "outputs": [
    {
     "data": {
      "text/plain": [
       "0.5706029618817895"
      ]
     },
     "execution_count": 9,
     "metadata": {},
     "output_type": "execute_result"
    }
   ],
   "source": [
    "(b,a)[b>a]"
   ]
  },
  {
   "cell_type": "code",
   "execution_count": 13,
   "id": "8c8ab472",
   "metadata": {},
   "outputs": [
    {
     "data": {
      "text/plain": [
       "'b:0.5706029618817895'"
      ]
     },
     "execution_count": 13,
     "metadata": {},
     "output_type": "execute_result"
    }
   ],
   "source": [
    "(f\"a:{a}\",f\"b:{b}\")[a>b]"
   ]
  },
  {
   "cell_type": "code",
   "execution_count": 15,
   "id": "952fa704",
   "metadata": {},
   "outputs": [
    {
     "data": {
      "text/plain": [
       "4"
      ]
     },
     "execution_count": 15,
     "metadata": {},
     "output_type": "execute_result"
    }
   ],
   "source": [
    "condition=True\n",
    "4 if condition else 2*1"
   ]
  },
  {
   "cell_type": "markdown",
   "id": "69ef796c",
   "metadata": {},
   "source": [
    "#### Note: Tuples in ternary operator can be used to check the given condition is $True$ / $False$"
   ]
  },
  {
   "cell_type": "code",
   "execution_count": 22,
   "id": "a4fa6d47",
   "metadata": {},
   "outputs": [
    {
     "name": "stdout",
     "output_type": "stream",
     "text": [
      "Value of a: 3\n",
      "Value of b: 9\n"
     ]
    },
    {
     "data": {
      "text/plain": [
       "'b:0.009936599336181406'"
      ]
     },
     "execution_count": 22,
     "metadata": {},
     "output_type": "execute_result"
    }
   ],
   "source": [
    "#using dict\n",
    "a,b=input(\"Value of a: \"),input(\"Value of b: \")\n",
    "a,b=random(),random()\n",
    "{False:f\"a:{a}\",True:f\"b:{b}\"}[a>b]"
   ]
  },
  {
   "cell_type": "code",
   "execution_count": 23,
   "id": "18ceeb44",
   "metadata": {},
   "outputs": [
    {
     "data": {
      "text/plain": [
       "'a:0.30683343949249453'"
      ]
     },
     "execution_count": 23,
     "metadata": {},
     "output_type": "execute_result"
    }
   ],
   "source": [
    "{True:f\"a:{a}\",False:f\"b:{b}\"}[a>b]"
   ]
  },
  {
   "cell_type": "code",
   "execution_count": 24,
   "id": "a150e6f3",
   "metadata": {},
   "outputs": [
    {
     "data": {
      "text/plain": [
       "'a:0.30683343949249453'"
      ]
     },
     "execution_count": 24,
     "metadata": {},
     "output_type": "execute_result"
    }
   ],
   "source": [
    "#using lambda\n",
    "(lambda :f\"b:{b}\",lambda :f\"a:{a}\")[a>b]()"
   ]
  },
  {
   "cell_type": "code",
   "execution_count": null,
   "id": "8ef21654",
   "metadata": {},
   "outputs": [],
   "source": []
  }
 ],
 "metadata": {
  "kernelspec": {
   "display_name": "Python 3.9.4 64-bit ('tensorflow': conda)",
   "language": "python",
   "name": "python394jvsc74a57bd0552044c7f615bc91dd29daeed772dba6fe20322e36f3e727f3c4957fbbcfc56d"
  },
  "language_info": {
   "codemirror_mode": {
    "name": "ipython",
    "version": 3
   },
   "file_extension": ".py",
   "mimetype": "text/x-python",
   "name": "python",
   "nbconvert_exporter": "python",
   "pygments_lexer": "ipython3",
   "version": "3.9.4"
  }
 },
 "nbformat": 4,
 "nbformat_minor": 5
}
