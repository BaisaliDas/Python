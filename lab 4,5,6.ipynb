{
 "cells": [
  {
   "cell_type": "code",
   "execution_count": 10,
   "id": "38d83df5",
   "metadata": {},
   "outputs": [
    {
     "name": "stdout",
     "output_type": "stream",
     "text": [
      "6\n"
     ]
    }
   ],
   "source": [
    "def increment(number,by):\n",
    "    return number + by\n",
    "print(increment(2,by=4))"
   ]
  },
  {
   "cell_type": "code",
   "execution_count": 1,
   "id": "bbc99061",
   "metadata": {},
   "outputs": [
    {
     "name": "stdout",
     "output_type": "stream",
     "text": [
      "['A', 'b', 'c']\n",
      "['A']\n"
     ]
    },
    {
     "data": {
      "text/plain": [
       "['A', 'c']"
      ]
     },
     "execution_count": 1,
     "metadata": {},
     "output_type": "execute_result"
    }
   ],
   "source": [
    "letters=['a','b','c','d']\n",
    "letters[0]='A'\n",
    "print(letters[0:3])\n",
    "print(letters[0:1])\n",
    "letters[::2]"
   ]
  },
  {
   "cell_type": "code",
   "execution_count": 2,
   "id": "434693d6",
   "metadata": {},
   "outputs": [
    {
     "name": "stdout",
     "output_type": "stream",
     "text": [
      "[0, 1, 2, 3, 4, 5, 6, 7, 8, 9, 10, 11, 12, 13, 14, 15, 16, 17, 18, 19]\n"
     ]
    }
   ],
   "source": [
    "num=list(range(20))\n",
    "print(num)"
   ]
  },
  {
   "cell_type": "code",
   "execution_count": 3,
   "id": "642d085e",
   "metadata": {},
   "outputs": [
    {
     "name": "stdout",
     "output_type": "stream",
     "text": [
      "0 a\n",
      "1 b\n",
      "2 c\n"
     ]
    }
   ],
   "source": [
    "letters=['a','b','c']\n",
    "for letter in enumerate(letters):\n",
    "    print(letter[0],letter[1])"
   ]
  },
  {
   "cell_type": "code",
   "execution_count": 4,
   "id": "b47e8efb",
   "metadata": {},
   "outputs": [
    {
     "name": "stdout",
     "output_type": "stream",
     "text": [
      "0 a\n",
      "1 b\n",
      "2 c\n"
     ]
    }
   ],
   "source": [
    "for index, letter in enumerate(letters):\n",
    "    print(index,letter)"
   ]
  },
  {
   "cell_type": "code",
   "execution_count": 5,
   "id": "a1385ddb",
   "metadata": {},
   "outputs": [
    {
     "data": {
      "text/plain": [
       "['a', 'b', 'c', 'd']"
      ]
     },
     "execution_count": 5,
     "metadata": {},
     "output_type": "execute_result"
    }
   ],
   "source": [
    "letters.append('d')\n",
    "letters"
   ]
  },
  {
   "cell_type": "code",
   "execution_count": 6,
   "id": "7f304b0e",
   "metadata": {},
   "outputs": [
    {
     "data": {
      "text/plain": [
       "['divineai', 'a', 'b', 'c', 'd']"
      ]
     },
     "execution_count": 6,
     "metadata": {},
     "output_type": "execute_result"
    }
   ],
   "source": [
    "letters.insert(0,'divineai')\n",
    "letters               # 0 is index value"
   ]
  },
  {
   "cell_type": "code",
   "execution_count": 7,
   "id": "0fb32145",
   "metadata": {},
   "outputs": [
    {
     "data": {
      "text/plain": [
       "'c'"
      ]
     },
     "execution_count": 7,
     "metadata": {},
     "output_type": "execute_result"
    }
   ],
   "source": [
    "letters.pop(3)"
   ]
  },
  {
   "cell_type": "code",
   "execution_count": 8,
   "id": "7d82a0a8",
   "metadata": {},
   "outputs": [
    {
     "data": {
      "text/plain": [
       "['divineai', 'a', 'd']"
      ]
     },
     "execution_count": 8,
     "metadata": {},
     "output_type": "execute_result"
    }
   ],
   "source": [
    "letters.remove('b')\n",
    "letters"
   ]
  },
  {
   "cell_type": "code",
   "execution_count": 9,
   "id": "439c66a4",
   "metadata": {},
   "outputs": [
    {
     "data": {
      "text/plain": [
       "['d']"
      ]
     },
     "execution_count": 9,
     "metadata": {},
     "output_type": "execute_result"
    }
   ],
   "source": [
    "del letters[0:2]\n",
    "letters"
   ]
  },
  {
   "cell_type": "code",
   "execution_count": 10,
   "id": "4c27e284",
   "metadata": {},
   "outputs": [],
   "source": [
    "letters.clear()"
   ]
  },
  {
   "cell_type": "code",
   "execution_count": 11,
   "id": "ae03fa12",
   "metadata": {},
   "outputs": [
    {
     "data": {
      "text/plain": [
       "[]"
      ]
     },
     "execution_count": 11,
     "metadata": {},
     "output_type": "execute_result"
    }
   ],
   "source": [
    "letters"
   ]
  },
  {
   "cell_type": "code",
   "execution_count": 1,
   "id": "af9af15d",
   "metadata": {},
   "outputs": [
    {
     "name": "stdout",
     "output_type": "stream",
     "text": [
      "2\n"
     ]
    }
   ],
   "source": [
    "names=['a','b','c','d']\n",
    "if 'c' in names:\n",
    "    print(names.index('c'))   #prints index values"
   ]
  },
  {
   "cell_type": "code",
   "execution_count": 3,
   "id": "f8aadb15",
   "metadata": {},
   "outputs": [
    {
     "data": {
      "text/plain": [
       "[4, 7, 12, 23, 34, 45, 56, 67, 89, 90, 99, 777]"
      ]
     },
     "execution_count": 3,
     "metadata": {},
     "output_type": "execute_result"
    }
   ],
   "source": [
    "num=[90,7,99,4,89,45,56,12,23,34,67,777]\n",
    "num.sort()\n",
    "num"
   ]
  },
  {
   "cell_type": "code",
   "execution_count": 7,
   "id": "5a551366",
   "metadata": {},
   "outputs": [
    {
     "ename": "NameError",
     "evalue": "name 'reverse' is not defined",
     "output_type": "error",
     "traceback": [
      "\u001b[1;31m---------------------------------------------------------------------------\u001b[0m",
      "\u001b[1;31mNameError\u001b[0m                                 Traceback (most recent call last)",
      "\u001b[1;32m<ipython-input-7-9fb81d856416>\u001b[0m in \u001b[0;36m<module>\u001b[1;34m\u001b[0m\n\u001b[1;32m----> 1\u001b[1;33m \u001b[0mnum\u001b[0m\u001b[1;33m.\u001b[0m\u001b[0msort\u001b[0m\u001b[1;33m(\u001b[0m\u001b[0mreverse\u001b[0m\u001b[1;33m)\u001b[0m\u001b[1;33m\u001b[0m\u001b[1;33m\u001b[0m\u001b[0m\n\u001b[0m\u001b[0;32m      2\u001b[0m \u001b[0mnum\u001b[0m\u001b[1;33m\u001b[0m\u001b[1;33m\u001b[0m\u001b[0m\n",
      "\u001b[1;31mNameError\u001b[0m: name 'reverse' is not defined"
     ]
    }
   ],
   "source": [
    "num.sort(reverse)    \n",
    "num       "
   ]
  },
  {
   "cell_type": "code",
   "execution_count": 8,
   "id": "eb5966ae",
   "metadata": {},
   "outputs": [
    {
     "data": {
      "text/plain": [
       "[777, 99, 90, 89, 67, 56, 45, 34, 23, 12, 7, 4]"
      ]
     },
     "execution_count": 8,
     "metadata": {},
     "output_type": "execute_result"
    }
   ],
   "source": [
    "num.sort(reverse=True)    \n",
    "num       "
   ]
  },
  {
   "cell_type": "markdown",
   "id": "52cc7496",
   "metadata": {},
   "source": [
    "lab 6"
   ]
  },
  {
   "cell_type": "code",
   "execution_count": 1,
   "id": "9ef1888f",
   "metadata": {},
   "outputs": [
    {
     "name": "stdout",
     "output_type": "stream",
     "text": [
      "[1, 3, 5, 28, 45, 59, 91, 98]\n"
     ]
    }
   ],
   "source": [
    "num=[59,98,1,91,3,5,28,45]\n",
    "print(sorted(num))"
   ]
  },
  {
   "cell_type": "code",
   "execution_count": 2,
   "id": "9d253c6d",
   "metadata": {},
   "outputs": [
    {
     "name": "stdout",
     "output_type": "stream",
     "text": [
      "[98, 91, 59, 45, 28, 5, 3, 1]\n",
      "[59, 98, 1, 91, 3, 5, 28, 45]\n"
     ]
    }
   ],
   "source": [
    "print(sorted(num,reverse=True))\n",
    "print(num)"
   ]
  },
  {
   "cell_type": "code",
   "execution_count": 12,
   "id": "b54567eb",
   "metadata": {},
   "outputs": [
    {
     "name": "stdout",
     "output_type": "stream",
     "text": [
      "[('product2', 20), ('product4', 40), ('product1', 50), ('product9', 90)]\n"
     ]
    }
   ],
   "source": [
    "items=[(\"product1\",50),\n",
    "       (\"product2\",20),\n",
    "       (\"product9\",90),\n",
    "       (\"product4\",40)\n",
    "      ]\n",
    "def sort_item(items):\n",
    "    return items[1]\n",
    "items.sort(key = sort_item)\n",
    "print(items)"
   ]
  },
  {
   "cell_type": "markdown",
   "id": "3782782f",
   "metadata": {},
   "source": [
    "### lambda function\n",
    "- It is basically a simple one line anonymous function that we can pass to other function"
   ]
  },
  {
   "cell_type": "code",
   "execution_count": 1,
   "id": "3e138afd",
   "metadata": {},
   "outputs": [
    {
     "name": "stdout",
     "output_type": "stream",
     "text": [
      "15\n",
      "13.6\n"
     ]
    }
   ],
   "source": [
    "x= lambda a: a+10\n",
    "print(x(5))\n",
    "print(x(3.6))"
   ]
  },
  {
   "cell_type": "code",
   "execution_count": 2,
   "id": "7e65f4d9",
   "metadata": {},
   "outputs": [
    {
     "name": "stdout",
     "output_type": "stream",
     "text": [
      "200\n",
      "20\n",
      "-8\n"
     ]
    }
   ],
   "source": [
    "x= lambda a,b: a*b\n",
    "print(x(10,20))\n",
    "print(x(4,5))\n",
    "print(x(2,-4))"
   ]
  },
  {
   "cell_type": "code",
   "execution_count": 3,
   "id": "dae6217b",
   "metadata": {},
   "outputs": [
    {
     "name": "stdout",
     "output_type": "stream",
     "text": [
      "[5, 7, 97, 77, 23, 73, 61]\n"
     ]
    }
   ],
   "source": [
    "#lambda function with filter() to get only odd no.s\n",
    "ls=[5,7,22,97,54,62,77,23,73,61]\n",
    "final_list=list(filter(lambda x:(x%2!=0),ls))\n",
    "print(final_list)"
   ]
  },
  {
   "cell_type": "code",
   "execution_count": 7,
   "id": "080ccee5",
   "metadata": {},
   "outputs": [
    {
     "name": "stdout",
     "output_type": "stream",
     "text": [
      "['how', 'are', 'you']\n"
     ]
    },
    {
     "data": {
      "text/plain": [
       "(5, ['Hi', 'how', 'are', 'you', 'doing?'])"
      ]
     },
     "execution_count": 7,
     "metadata": {},
     "output_type": "execute_result"
    }
   ],
   "source": [
    "#extract the words from a string those having length=3\n",
    "s=\"Hi how are you doing?\"\n",
    "fi_list=list(filter(lambda x:(len(x)==3),s.split()))\n",
    "print(fi_list)\n",
    "len(s.split()),s.split()"
   ]
  },
  {
   "cell_type": "code",
   "execution_count": 8,
   "id": "6564c21e",
   "metadata": {},
   "outputs": [
    {
     "name": "stdout",
     "output_type": "stream",
     "text": [
      "['how']\n"
     ]
    }
   ],
   "source": [
    "f_list=list(filter(lambda x:(x[0]=='h'),s.split()))\n",
    "print(f_list)"
   ]
  },
  {
   "cell_type": "code",
   "execution_count": 15,
   "id": "d9a65805",
   "metadata": {},
   "outputs": [
    {
     "name": "stdout",
     "output_type": "stream",
     "text": [
      "[('product2', 20), ('product4', 40), ('producct1', 50), ('product3', 90)]\n"
     ]
    }
   ],
   "source": [
    "#follow above items program\n",
    "items.sort(key=lambda x:x[1])\n",
    "print(items)"
   ]
  },
  {
   "cell_type": "code",
   "execution_count": 11,
   "id": "6c845fe0",
   "metadata": {},
   "outputs": [
    {
     "data": {
      "text/plain": [
       "5"
      ]
     },
     "execution_count": 11,
     "metadata": {},
     "output_type": "execute_result"
    }
   ],
   "source": [
    "minus=lambda x,y : x-y\n",
    "minus(9,4)"
   ]
  },
  {
   "cell_type": "code",
   "execution_count": 12,
   "id": "3797eaea",
   "metadata": {},
   "outputs": [
    {
     "data": {
      "text/plain": [
       "13"
      ]
     },
     "execution_count": 12,
     "metadata": {},
     "output_type": "execute_result"
    }
   ],
   "source": [
    "minus= lambda x,y : x+y\n",
    "minus(9,4)"
   ]
  },
  {
   "cell_type": "code",
   "execution_count": 15,
   "id": "2951688f",
   "metadata": {},
   "outputs": [
    {
     "name": "stdout",
     "output_type": "stream",
     "text": [
      "[[6, 9], [20, 45], [23, 4], [56, 32]]\n"
     ]
    }
   ],
   "source": [
    "def a_first(a):\n",
    "    return a[0]\n",
    "a=[[23,4],[6,9],[56,32],[20,45]]\n",
    "a.sort(key=a_first)\n",
    "print(a)"
   ]
  },
  {
   "cell_type": "code",
   "execution_count": 17,
   "id": "c33cea81",
   "metadata": {},
   "outputs": [
    {
     "data": {
      "text/plain": [
       "[[6, 9], [20, 45], [23, 4], [56, 32]]"
      ]
     },
     "execution_count": 17,
     "metadata": {},
     "output_type": "execute_result"
    }
   ],
   "source": [
    "a.sort(key = lambda x:x[0])\n",
    "a"
   ]
  },
  {
   "cell_type": "markdown",
   "id": "258543c3",
   "metadata": {},
   "source": [
    "### Zip function"
   ]
  },
  {
   "cell_type": "code",
   "execution_count": 18,
   "id": "e64aae40",
   "metadata": {},
   "outputs": [
    {
     "name": "stdout",
     "output_type": "stream",
     "text": [
      "[(1, 10), (2, 20)]\n"
     ]
    }
   ],
   "source": [
    "l1=[1,2,3]\n",
    "l2=[10,20]\n",
    "print(list(zip(l1,l2)))"
   ]
  },
  {
   "cell_type": "code",
   "execution_count": 19,
   "id": "21233a38",
   "metadata": {},
   "outputs": [
    {
     "name": "stdout",
     "output_type": "stream",
     "text": [
      "[('a', 1, 10), ('b', 2, 20), ('c', 3, 30)]\n"
     ]
    }
   ],
   "source": [
    "l1=[1,2,3]\n",
    "l2=[10,20,30]\n",
    "print(list(zip(\"abcd\",l1,l2)))"
   ]
  },
  {
   "cell_type": "code",
   "execution_count": 22,
   "id": "4ec18edb",
   "metadata": {},
   "outputs": [
    {
     "name": "stdout",
     "output_type": "stream",
     "text": [
      "[('a', 1, 10), ('b', 2, 20), ('c', 3, 30), ('d', 5, 50)]\n"
     ]
    }
   ],
   "source": [
    "l1=[1,2,3,5]\n",
    "l2=[10,20,30,50]\n",
    "print(list(zip(\"abcd\",l1,l2)))"
   ]
  },
  {
   "cell_type": "code",
   "execution_count": 20,
   "id": "82611853",
   "metadata": {},
   "outputs": [
    {
     "name": "stdout",
     "output_type": "stream",
     "text": [
      "[('a', 1, 10), ('b', 2, 20), ('c', 3, 30), ('d', 5, 50)]\n"
     ]
    }
   ],
   "source": [
    "l1=[1,2,3,5,90]\n",
    "l2=[10,20,30,50,80]\n",
    "print(list(zip(\"abcd\",l1,l2)))"
   ]
  },
  {
   "cell_type": "markdown",
   "id": "2dd6553b",
   "metadata": {},
   "source": [
    "### Stack"
   ]
  },
  {
   "cell_type": "code",
   "execution_count": 26,
   "id": "89c091f5",
   "metadata": {},
   "outputs": [
    {
     "data": {
      "text/plain": [
       "[1, 2, 3, 40, 'c']"
      ]
     },
     "execution_count": 26,
     "metadata": {},
     "output_type": "execute_result"
    }
   ],
   "source": [
    "#stack behaves on lifo behaviour\n",
    "browsing=[]\n",
    "browsing.append(1)\n",
    "browsing.append(2)\n",
    "browsing.append(3)\n",
    "browsing.append(40)\n",
    "browsing.append(\"c\")\n",
    "#browsing.append(2)\n",
    "browsing"
   ]
  },
  {
   "cell_type": "code",
   "execution_count": 29,
   "id": "63f781e1",
   "metadata": {},
   "outputs": [
    {
     "name": "stdout",
     "output_type": "stream",
     "text": [
      "[1, 2, 3]\n",
      "3\n",
      "[1, 2]\n"
     ]
    }
   ],
   "source": [
    "browsing=[]\n",
    "browsing.append(1)\n",
    "browsing.append(2)\n",
    "browsing.append(3)\n",
    "print(browsing)\n",
    "last=browsing.pop()\n",
    "print(last)\n",
    "print(browsing)"
   ]
  },
  {
   "cell_type": "markdown",
   "id": "6ba679fb",
   "metadata": {},
   "source": [
    "### Queues \n",
    "- behaves on fifo behaviour"
   ]
  },
  {
   "cell_type": "code",
   "execution_count": 32,
   "id": "28fedf44",
   "metadata": {},
   "outputs": [
    {
     "name": "stdout",
     "output_type": "stream",
     "text": [
      "deque([1, 2, 3, 4, 5])\n",
      "deque([2, 3, 4, 5])\n"
     ]
    }
   ],
   "source": [
    "from collections import deque\n",
    "queue = deque([]) \n",
    "queue.append(1)\n",
    "queue.append(2)\n",
    "queue.append(3)\n",
    "queue.append(4)\n",
    "queue.append(5)\n",
    "\n",
    "print(queue)\n",
    "queue.popleft()\n",
    "print(queue)"
   ]
  },
  {
   "cell_type": "code",
   "execution_count": null,
   "id": "eb9a2ef9",
   "metadata": {},
   "outputs": [],
   "source": []
  },
  {
   "cell_type": "code",
   "execution_count": null,
   "id": "8357d1e4",
   "metadata": {},
   "outputs": [],
   "source": []
  },
  {
   "cell_type": "code",
   "execution_count": 33,
   "id": "c5cc1921",
   "metadata": {},
   "outputs": [
    {
     "name": "stdout",
     "output_type": "stream",
     "text": [
      "{1, 2, 3, 4, 5, 6, 7, 8, 9}\n",
      "{2, 3}\n",
      "{1, 5, 6, 7}\n"
     ]
    }
   ],
   "source": [
    "num=[1,2,3,3,2,5,6,7,6]\n",
    "first=set(num)\n",
    "second={3,2,9,4,8}\n",
    "print(first | second)\n",
    "print(first & second)\n",
    "print(first - second)"
   ]
  },
  {
   "cell_type": "code",
   "execution_count": 34,
   "id": "8e734965",
   "metadata": {},
   "outputs": [
    {
     "name": "stdout",
     "output_type": "stream",
     "text": [
      "yes\n"
     ]
    }
   ],
   "source": [
    "num=[1,2,3,3,2,5,6,7,6]\n",
    "first=set(num)\n",
    "if 1 in first:\n",
    "    print('yes')"
   ]
  },
  {
   "cell_type": "code",
   "execution_count": 10,
   "id": "46036dc8",
   "metadata": {},
   "outputs": [
    {
     "ename": "TypeError",
     "evalue": "'set' object is not subscriptable",
     "output_type": "error",
     "traceback": [
      "\u001b[1;31m---------------------------------------------------------------------------\u001b[0m",
      "\u001b[1;31mTypeError\u001b[0m                                 Traceback (most recent call last)",
      "\u001b[1;32m<ipython-input-10-f5ade60260ba>\u001b[0m in \u001b[0;36m<module>\u001b[1;34m\u001b[0m\n\u001b[0;32m      1\u001b[0m \u001b[0mnum\u001b[0m\u001b[1;33m=\u001b[0m\u001b[1;33m[\u001b[0m\u001b[1;36m1\u001b[0m\u001b[1;33m,\u001b[0m\u001b[1;36m2\u001b[0m\u001b[1;33m,\u001b[0m\u001b[1;36m3\u001b[0m\u001b[1;33m,\u001b[0m\u001b[1;36m3\u001b[0m\u001b[1;33m,\u001b[0m\u001b[1;36m2\u001b[0m\u001b[1;33m,\u001b[0m\u001b[1;36m5\u001b[0m\u001b[1;33m,\u001b[0m\u001b[1;36m6\u001b[0m\u001b[1;33m,\u001b[0m\u001b[1;36m7\u001b[0m\u001b[1;33m,\u001b[0m\u001b[1;36m6\u001b[0m\u001b[1;33m]\u001b[0m\u001b[1;33m\u001b[0m\u001b[1;33m\u001b[0m\u001b[0m\n\u001b[0;32m      2\u001b[0m \u001b[0mfirst\u001b[0m\u001b[1;33m=\u001b[0m\u001b[0mset\u001b[0m\u001b[1;33m(\u001b[0m\u001b[0mnum\u001b[0m\u001b[1;33m)\u001b[0m\u001b[1;33m\u001b[0m\u001b[1;33m\u001b[0m\u001b[0m\n\u001b[1;32m----> 3\u001b[1;33m \u001b[0mprint\u001b[0m\u001b[1;33m(\u001b[0m\u001b[0mfirst\u001b[0m\u001b[1;33m[\u001b[0m\u001b[1;36m0\u001b[0m\u001b[1;33m]\u001b[0m\u001b[1;33m)\u001b[0m\u001b[1;33m\u001b[0m\u001b[1;33m\u001b[0m\u001b[0m\n\u001b[0m",
      "\u001b[1;31mTypeError\u001b[0m: 'set' object is not subscriptable"
     ]
    }
   ],
   "source": [
    "num=[1,2,3,3,2,5,6,7,6]\n",
    "first=set(num)\n",
    "print(first[0])   "
   ]
  },
  {
   "cell_type": "markdown",
   "id": "8db13133",
   "metadata": {},
   "source": [
    "* we can't access set individually ."
   ]
  },
  {
   "cell_type": "code",
   "execution_count": 43,
   "id": "fc563c29",
   "metadata": {},
   "outputs": [],
   "source": [
    "# ditionary comprehension"
   ]
  },
  {
   "cell_type": "code",
   "execution_count": 40,
   "id": "d2a7afcb",
   "metadata": {},
   "outputs": [
    {
     "name": "stdout",
     "output_type": "stream",
     "text": [
      "[0]\n",
      "[0, 2]\n",
      "[0, 2, 4]\n",
      "[0, 2, 4, 6]\n",
      "[0, 2, 4, 6, 8]\n"
     ]
    }
   ],
   "source": [
    "values=[]\n",
    "for x in range(5):\n",
    "    values.append(x*2)\n",
    "    print(values)"
   ]
  },
  {
   "cell_type": "code",
   "execution_count": 41,
   "id": "9313c8bf",
   "metadata": {},
   "outputs": [
    {
     "data": {
      "text/plain": [
       "{0, 2, 4, 6, 8}"
      ]
     },
     "execution_count": 41,
     "metadata": {},
     "output_type": "execute_result"
    }
   ],
   "source": [
    "values={x*2 for x in range(5)}\n",
    "values"
   ]
  },
  {
   "cell_type": "code",
   "execution_count": 42,
   "id": "e106c8eb",
   "metadata": {},
   "outputs": [
    {
     "data": {
      "text/plain": [
       "{0: 0, 1: 2, 2: 4, 3: 6, 4: 8}"
      ]
     },
     "execution_count": 42,
     "metadata": {},
     "output_type": "execute_result"
    }
   ],
   "source": [
    "values={x: x*2 for x in range(5)}\n",
    "values"
   ]
  },
  {
   "cell_type": "code",
   "execution_count": null,
   "id": "1aa292e1",
   "metadata": {},
   "outputs": [],
   "source": [
    "# unpacking operator"
   ]
  },
  {
   "cell_type": "code",
   "execution_count": 44,
   "id": "e5873307",
   "metadata": {},
   "outputs": [
    {
     "name": "stdout",
     "output_type": "stream",
     "text": [
      "1 2 3 4\n",
      "[1, 2, 3, 4]\n"
     ]
    }
   ],
   "source": [
    "num=[1,2,3,4]\n",
    "print(*num)\n",
    "print(num)"
   ]
  },
  {
   "cell_type": "code",
   "execution_count": 9,
   "id": "dfed2cd9",
   "metadata": {},
   "outputs": [
    {
     "name": "stdout",
     "output_type": "stream",
     "text": [
      "[0, 1, 2, 3, 4, 'h', 'e', 'l', 'l', 'o']\n"
     ]
    }
   ],
   "source": [
    "values=list(range(5))\n",
    "values=[*range(5),*'hello']\n",
    "print(values)"
   ]
  },
  {
   "cell_type": "code",
   "execution_count": null,
   "id": "0f7254d3",
   "metadata": {},
   "outputs": [],
   "source": []
  },
  {
   "cell_type": "code",
   "execution_count": 26,
   "id": "f0ce7b47",
   "metadata": {},
   "outputs": [
    {
     "data": {
      "text/plain": [
       "(1, 2, 3, 4)"
      ]
     },
     "execution_count": 26,
     "metadata": {},
     "output_type": "execute_result"
    }
   ],
   "source": [
    "tup=(1,2)+(3,4)\n",
    "tup"
   ]
  },
  {
   "cell_type": "code",
   "execution_count": 22,
   "id": "897590ef",
   "metadata": {},
   "outputs": [
    {
     "data": {
      "text/plain": [
       "[1, 2]"
      ]
     },
     "execution_count": 22,
     "metadata": {},
     "output_type": "execute_result"
    }
   ],
   "source": [
    "tup=([1,2])\n",
    "tup"
   ]
  },
  {
   "cell_type": "code",
   "execution_count": 28,
   "id": "3f82b164",
   "metadata": {},
   "outputs": [
    {
     "data": {
      "text/plain": [
       "(1, 2)"
      ]
     },
     "execution_count": 28,
     "metadata": {},
     "output_type": "execute_result"
    }
   ],
   "source": [
    "tup=tuple([1,2])\n",
    "tup"
   ]
  },
  {
   "cell_type": "code",
   "execution_count": 29,
   "id": "51b5f76a",
   "metadata": {},
   "outputs": [
    {
     "name": "stdout",
     "output_type": "stream",
     "text": [
      "x= 20\n",
      "y= 10\n"
     ]
    }
   ],
   "source": [
    "# swapping variables\n",
    "x = 10\n",
    "y = 20\n",
    "#swap\n",
    "z = x\n",
    "x = y\n",
    "y = z\n",
    "print(\"x=\",x)\n",
    "print(\"y=\",y)\n"
   ]
  },
  {
   "cell_type": "code",
   "execution_count": 30,
   "id": "0d9ce23f",
   "metadata": {},
   "outputs": [
    {
     "name": "stdout",
     "output_type": "stream",
     "text": [
      "x= 20\n",
      "y= 10\n"
     ]
    }
   ],
   "source": [
    "x = 10\n",
    "y = 20\n",
    "\n",
    "x,y = y,x\n",
    "\n",
    "print(\"x=\",x)\n",
    "print(\"y=\",y)\n"
   ]
  },
  {
   "cell_type": "code",
   "execution_count": 32,
   "id": "3a26103b",
   "metadata": {},
   "outputs": [
    {
     "name": "stdout",
     "output_type": "stream",
     "text": [
      "Enter x: 3\n",
      "Enter y: 6\n",
      "X after swapping: 6\n",
      "Y after swapping: 3\n",
      "temp : 3\n"
     ]
    }
   ],
   "source": [
    "x=input('Enter x: ')\n",
    "y=input('Enter y: ')\n",
    "temp=x\n",
    "x=y\n",
    "y=temp\n",
    "print('X after swapping: {}'.format(x))\n",
    "print('Y after swapping: {}'.format(y))\n",
    "print('temp : {}'.format(temp))"
   ]
  },
  {
   "cell_type": "code",
   "execution_count": null,
   "id": "6bf70c2e",
   "metadata": {},
   "outputs": [],
   "source": []
  }
 ],
 "metadata": {
  "kernelspec": {
   "display_name": "Python 3.9.4 64-bit ('tensorflow': conda)",
   "language": "python",
   "name": "python394jvsc74a57bd0552044c7f615bc91dd29daeed772dba6fe20322e36f3e727f3c4957fbbcfc56d"
  },
  "language_info": {
   "codemirror_mode": {
    "name": "ipython",
    "version": 3
   },
   "file_extension": ".py",
   "mimetype": "text/x-python",
   "name": "python",
   "nbconvert_exporter": "python",
   "pygments_lexer": "ipython3",
   "version": "3.9.4"
  }
 },
 "nbformat": 4,
 "nbformat_minor": 5
}
