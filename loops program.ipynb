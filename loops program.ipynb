{
 "cells": [
  {
   "cell_type": "code",
   "execution_count": 1,
   "id": "707db42a",
   "metadata": {},
   "outputs": [
    {
     "name": "stdout",
     "output_type": "stream",
     "text": [
      "x is greater than y\n"
     ]
    }
   ],
   "source": [
    "x,y=12,10\n",
    "if(x<y):\n",
    "    st=\"x is less than y\"\n",
    "elif(x==y):\n",
    "    st=\"x is same as y\" \n",
    "else:\n",
    "    st=\"x is greater than y\"\n",
    "print(st)"
   ]
  },
  {
   "cell_type": "code",
   "execution_count": 2,
   "id": "2410f9dd",
   "metadata": {},
   "outputs": [
    {
     "name": "stdout",
     "output_type": "stream",
     "text": [
      "1\n",
      "2\n",
      "3\n",
      "4\n",
      "5\n"
     ]
    }
   ],
   "source": [
    "lst=[1,2,3,4,5]\n",
    "for i in lst:\n",
    "    print(i)"
   ]
  },
  {
   "cell_type": "code",
   "execution_count": 3,
   "id": "def918fa",
   "metadata": {},
   "outputs": [
    {
     "name": "stdout",
     "output_type": "stream",
     "text": [
      "5\n",
      "6\n",
      "7\n",
      "8\n",
      "9\n"
     ]
    }
   ],
   "source": [
    "while (i<10):\n",
    "    print(i)\n",
    "    i=i+1"
   ]
  },
  {
   "cell_type": "code",
   "execution_count": 4,
   "id": "9070afe3",
   "metadata": {},
   "outputs": [
    {
     "name": "stdout",
     "output_type": "stream",
     "text": [
      "18 is not less than 12\n",
      "I am Not in if\n"
     ]
    }
   ],
   "source": [
    "i=18\n",
    "if(i>12):\n",
    "    print(\"18 is not less than 12\")\n",
    "print(\"I am Not in if\")"
   ]
  },
  {
   "cell_type": "code",
   "execution_count": 5,
   "id": "0bcc4c63",
   "metadata": {},
   "outputs": [
    {
     "name": "stdout",
     "output_type": "stream",
     "text": [
      "i<150\n",
      "i is in if-Block\n",
      "i is not in if and not in else Block\n"
     ]
    }
   ],
   "source": [
    "i=149;\n",
    "if(i<=150):\n",
    "    print(\"i<150\")\n",
    "    print(\"i is in if-Block\")\n",
    "else:\n",
    "    print(\"i>150\")\n",
    "    print(\"i is in else Block\")\n",
    "print(\"i is not in if and not in else Block\")"
   ]
  },
  {
   "cell_type": "code",
   "execution_count": 6,
   "id": "91698b57",
   "metadata": {},
   "outputs": [
    {
     "name": "stdout",
     "output_type": "stream",
     "text": [
      "i>150\n",
      "i is in else Block\n",
      "i is not in if and not in else Block\n"
     ]
    }
   ],
   "source": [
    "i=151\n",
    "if(i<=150):\n",
    "    print(\"i<150\")\n",
    "    print(\"i is in if-Block\")\n",
    "elif(i==150):\n",
    "    print(\"i is not in if block\")\n",
    "else:\n",
    "    print(\"i>150\")\n",
    "    print(\"i is in else Block\")\n",
    "print(\"i is not in if and not in else Block\")"
   ]
  },
  {
   "cell_type": "code",
   "execution_count": 7,
   "id": "d93ce96c",
   "metadata": {},
   "outputs": [],
   "source": [
    "li=range(13,7)"
   ]
  },
  {
   "cell_type": "code",
   "execution_count": 8,
   "id": "5f907a1e",
   "metadata": {},
   "outputs": [
    {
     "name": "stdout",
     "output_type": "stream",
     "text": [
      "3\n",
      "5\n",
      "7\n",
      "9\n",
      "11\n",
      "13\n",
      "15\n"
     ]
    }
   ],
   "source": [
    "for i in range(3,17,2):\n",
    "    print(i)"
   ]
  },
  {
   "cell_type": "code",
   "execution_count": 9,
   "id": "dcb3fde7",
   "metadata": {},
   "outputs": [
    {
     "name": "stdout",
     "output_type": "stream",
     "text": [
      "0\n",
      "1\n",
      "2\n",
      "3\n",
      "4\n",
      "5\n",
      "6\n",
      "7\n",
      "8\n",
      "9\n"
     ]
    }
   ],
   "source": [
    "for i in range(10):\n",
    "    print(i)"
   ]
  },
  {
   "cell_type": "code",
   "execution_count": 10,
   "id": "1e7ffb7a",
   "metadata": {},
   "outputs": [
    {
     "name": "stdout",
     "output_type": "stream",
     "text": [
      "0\n",
      "1\n",
      "1\n",
      "2\n",
      "2\n",
      "3\n",
      "3\n",
      "4\n",
      "4\n",
      "5\n",
      "5\n",
      "6\n",
      "6\n",
      "7\n",
      "7\n",
      "8\n",
      "8\n",
      "9\n",
      "9\n",
      "10\n"
     ]
    }
   ],
   "source": [
    "for i in range(10):\n",
    "    print(i)\n",
    "    i=i+1\n",
    "    print(i)"
   ]
  },
  {
   "cell_type": "code",
   "execution_count": 11,
   "id": "8cf26658",
   "metadata": {},
   "outputs": [
    {
     "name": "stdout",
     "output_type": "stream",
     "text": [
      "7\n",
      "14\n",
      "21\n",
      "28\n",
      "35\n",
      "42\n",
      "49\n",
      "49\n"
     ]
    }
   ],
   "source": [
    "li=[1,2,3,4,5,6,7]\n",
    "j=0\n",
    "for i in li:   \n",
    "    for i in li:\n",
    "        i=i+1\n",
    "        j=j+1\n",
    "    print(j)\n",
    "print(j)"
   ]
  },
  {
   "cell_type": "code",
   "execution_count": 12,
   "id": "9b55d5ad",
   "metadata": {},
   "outputs": [
    {
     "name": "stdout",
     "output_type": "stream",
     "text": [
      "49\n"
     ]
    }
   ],
   "source": [
    "print(j)"
   ]
  },
  {
   "cell_type": "code",
   "execution_count": 13,
   "id": "d5e5a4e3",
   "metadata": {},
   "outputs": [],
   "source": [
    "#while (i<=5):\n",
    "  #  print(i)"
   ]
  },
  {
   "cell_type": "code",
   "execution_count": 14,
   "id": "b9c71e1c",
   "metadata": {},
   "outputs": [
    {
     "name": "stdout",
     "output_type": "stream",
     "text": [
      "3\n"
     ]
    }
   ],
   "source": [
    "length=len(li)\n",
    "j=0\n",
    "while length>=5:\n",
    "    j=j+1\n",
    "    length=length-1\n",
    "    continue\n",
    "    print(length)\n",
    "    #length=length-1\n",
    "    if length==6:\n",
    "        break     #continue it won't change the o/p\n",
    "print(j)"
   ]
  },
  {
   "cell_type": "code",
   "execution_count": 15,
   "id": "4351809e",
   "metadata": {},
   "outputs": [
    {
     "name": "stdout",
     "output_type": "stream",
     "text": [
      "1\n"
     ]
    }
   ],
   "source": [
    "length=len(li)\n",
    "j=0\n",
    "while length>=5:\n",
    "    j=j+1\n",
    "    length=length-1\n",
    "    break\n",
    "    print(length)\n",
    "    #length=length-1\n",
    "    if length==6:\n",
    "        continue      \n",
    "print(j)"
   ]
  },
  {
   "cell_type": "code",
   "execution_count": 16,
   "id": "6264b2f2",
   "metadata": {},
   "outputs": [
    {
     "name": "stdout",
     "output_type": "stream",
     "text": [
      "7\n",
      "6\n",
      "5\n",
      "3\n"
     ]
    }
   ],
   "source": [
    "length=len(li)\n",
    "#j=0\n",
    "while length>=3:\n",
    "    #j=j+1 \n",
    "    print(length)\n",
    "    if length<=5:\n",
    "        #print(length)\n",
    "        break\n",
    "    j=j+1\n",
    "    length=length-1\n",
    "                 \n",
    "print(j)"
   ]
  },
  {
   "cell_type": "code",
   "execution_count": 17,
   "id": "01e638c0",
   "metadata": {},
   "outputs": [
    {
     "name": "stdout",
     "output_type": "stream",
     "text": [
      "3\n"
     ]
    }
   ],
   "source": [
    "print(j)"
   ]
  },
  {
   "cell_type": "code",
   "execution_count": 18,
   "id": "8d28b6c7",
   "metadata": {},
   "outputs": [
    {
     "name": "stdout",
     "output_type": "stream",
     "text": [
      "enter number: 97\n",
      "Number is odd\n"
     ]
    }
   ],
   "source": [
    "#even odd\n",
    "num=int(input(\"enter number: \"))\n",
    "if num%2==0:\n",
    "    print(\"Number is even\")\n",
    "else:\n",
    "    print(\"Number is odd\")"
   ]
  },
  {
   "cell_type": "code",
   "execution_count": 19,
   "id": "c2e44ab3",
   "metadata": {},
   "outputs": [
    {
     "name": "stdout",
     "output_type": "stream",
     "text": [
      "Enter a: 55\n",
      "Enter b: 67\n",
      "Enter c: 0\n",
      "b is largest\n"
     ]
    }
   ],
   "source": [
    "#largest 3 no.s\n",
    "a=int(input(\"Enter a: \"))\n",
    "b=int(input(\"Enter b: \"))\n",
    "c=int(input(\"Enter c: \"))\n",
    "if a>b and a>c:\n",
    "    print(\"a is largest\")\n",
    "if b>a and b>c:\n",
    "    print(\"b is largest\")\n",
    "if c>a and c>b:  \n",
    "    print(\"c is largest\")"
   ]
  },
  {
   "cell_type": "code",
   "execution_count": 20,
   "id": "e24c8751",
   "metadata": {},
   "outputs": [
    {
     "name": "stdout",
     "output_type": "stream",
     "text": [
      "Enter age: 22\n",
      "You are eligible to vote.\n"
     ]
    }
   ],
   "source": [
    "#vote program\n",
    "age=int(input(\"Enter age: \"))\n",
    "if(age>=18):\n",
    "    print(\"You are eligible to vote.\")\n",
    "else:\n",
    "    print(\"Not eligible.\")"
   ]
  },
  {
   "cell_type": "code",
   "execution_count": 21,
   "id": "8e5ee05f",
   "metadata": {},
   "outputs": [
    {
     "name": "stdout",
     "output_type": "stream",
     "text": [
      "Enter Marks: 99\n",
      "Grade O\n"
     ]
    }
   ],
   "source": [
    "#marks\n",
    "marks=int(input(\"Enter Marks: \"))\n",
    "if marks>=90:\n",
    "    print('Grade O')\n",
    "elif marks>=80 and marks<90:\n",
    "    print('Grade E')\n",
    "elif marks>=70 and marks<80:\n",
    "    print('Grade A')\n",
    "elif marks>=60 and marks<70:\n",
    "    print('Grade B')\n",
    "elif marks>=50 and marks<60:\n",
    "    print('Grade C')\n",
    "elif marks>=40 and marks<50:\n",
    "    print('Grade D')\n",
    "else:\n",
    "    print('FAIL')"
   ]
  },
  {
   "cell_type": "code",
   "execution_count": 22,
   "id": "1ccb3e78",
   "metadata": {},
   "outputs": [
    {
     "name": "stdout",
     "output_type": "stream",
     "text": [
      "Enter the marks? 100\n",
      "Congrats ! you scored grade A ...\n"
     ]
    }
   ],
   "source": [
    "marks = int(input(\"Enter the marks? \"))  \n",
    "if marks > 85 and marks <= 100:  \n",
    "    print(\"Congrats ! you scored grade A ...\")  \n",
    "elif marks > 60 and marks <= 85:  \n",
    "    print(\"You scored grade B + ...\")  \n",
    "elif marks > 40 and marks <= 60:  \n",
    "    print(\"You scored grade B ...\")  \n",
    "elif (marks > 30 and marks <= 40):  \n",
    "    print(\"You scored grade C ...\")  \n",
    "else:  \n",
    "    print(\"Sorry you are fail ?\")  "
   ]
  },
  {
   "cell_type": "code",
   "execution_count": 23,
   "id": "7542a4f6",
   "metadata": {},
   "outputs": [
    {
     "name": "stdout",
     "output_type": "stream",
     "text": [
      "a\n",
      "m\n",
      "a\n",
      "r\n",
      "a\n",
      "k\n",
      "b\n",
      "a\n",
      "r\n",
      "a\n",
      "n\n",
      "t\n",
      "h\n",
      "o\n",
      "n\n",
      "y\n"
     ]
    }
   ],
   "source": [
    "str='amarakbaranthony'\n",
    "for x in str:\n",
    "    print(x)"
   ]
  },
  {
   "cell_type": "code",
   "execution_count": 24,
   "id": "792d8889",
   "metadata": {},
   "outputs": [
    {
     "name": "stdout",
     "output_type": "stream",
     "text": [
      "91\n",
      "78\n",
      "889\n",
      "55\n",
      "790\n"
     ]
    }
   ],
   "source": [
    "list=[90,77,888,54,789]\n",
    "for j in list:\n",
    "    c=j+1\n",
    "    print(c)"
   ]
  },
  {
   "cell_type": "code",
   "execution_count": 25,
   "id": "75a57251",
   "metadata": {},
   "outputs": [
    {
     "name": "stdout",
     "output_type": "stream",
     "text": [
      "180\n",
      "154\n",
      "1776\n",
      "108\n",
      "1578\n",
      "1578\n"
     ]
    }
   ],
   "source": [
    "list=[90,77,888,54,789]\n",
    "for j in list:\n",
    "    c=j*2\n",
    "    print(c)\n",
    "print(c)"
   ]
  },
  {
   "cell_type": "code",
   "execution_count": 26,
   "id": "1a70c1ef",
   "metadata": {},
   "outputs": [
    {
     "name": "stdout",
     "output_type": "stream",
     "text": [
      "The sum is: 183\n"
     ]
    }
   ],
   "source": [
    "list = [10,30,23,43,65,12]  \n",
    "sum = 0  \n",
    "for i in list:  \n",
    "    sum = sum+i  \n",
    "print(\"The sum is:\",sum)  "
   ]
  },
  {
   "cell_type": "code",
   "execution_count": 27,
   "id": "276677c8",
   "metadata": {},
   "outputs": [
    {
     "name": "stdout",
     "output_type": "stream",
     "text": [
      "0 1 2 3 4 5 6 7 8 9 10 11 12 13 14 15 16 17 18 19 "
     ]
    }
   ],
   "source": [
    "for i in range(20):\n",
    "    print(i,end=' ')"
   ]
  },
  {
   "cell_type": "code",
   "execution_count": 28,
   "id": "d0878e1f",
   "metadata": {},
   "outputs": [
    {
     "name": "stdout",
     "output_type": "stream",
     "text": [
      "Enter the number 10\n",
      "10 * 2 = 20\n",
      "10 * 3 = 30\n",
      "10 * 4 = 40\n",
      "10 * 5 = 50\n",
      "10 * 6 = 60\n",
      "10 * 7 = 70\n",
      "10 * 8 = 80\n",
      "10 * 9 = 90\n",
      "10 * 10 = 100\n"
     ]
    }
   ],
   "source": [
    "l=int(input(\"Enter the number \")) \n",
    "for i in range(2,11):\n",
    "    c=l*i\n",
    "    print(l,\"*\",i,\"=\",c)"
   ]
  },
  {
   "cell_type": "code",
   "execution_count": 29,
   "id": "ed3cd747",
   "metadata": {},
   "outputs": [
    {
     "name": "stdout",
     "output_type": "stream",
     "text": [
      "Enter the number 20\n",
      "2\n",
      "4\n",
      "6\n",
      "8\n",
      "10\n",
      "12\n",
      "14\n",
      "16\n",
      "18\n"
     ]
    }
   ],
   "source": [
    "l = int(input(\"Enter the number \")) \n",
    "for i in range(2,l,2):\n",
    "    print(i)"
   ]
  },
  {
   "cell_type": "code",
   "execution_count": 30,
   "id": "b0e6142c",
   "metadata": {},
   "outputs": [
    {
     "name": "stdout",
     "output_type": "stream",
     "text": [
      "Namaste gudli\n",
      "Namaste laxmi\n",
      "Namaste baisali\n",
      "Namaste kalyani\n",
      "Namaste basanta\n"
     ]
    }
   ],
   "source": [
    "list=['gudli','laxmi','baisali','kalyani','basanta']\n",
    "for i in range(len(list)):\n",
    "    print(\"Namaste\",list[i])"
   ]
  },
  {
   "cell_type": "code",
   "execution_count": 31,
   "id": "427d8b05",
   "metadata": {},
   "outputs": [
    {
     "name": "stdout",
     "output_type": "stream",
     "text": [
      "enter rows:4\n",
      "\n",
      "*\n",
      "**\n",
      "***\n",
      "****\n"
     ]
    }
   ],
   "source": [
    "rows=int(input(\"enter rows:\"))\n",
    "for i in range(0,rows+1):\n",
    "    for j in range(i):\n",
    "        print(\"*\",end='')\n",
    "    print()"
   ]
  },
  {
   "cell_type": "code",
   "execution_count": 32,
   "id": "b4f2706e",
   "metadata": {},
   "outputs": [
    {
     "name": "stdout",
     "output_type": "stream",
     "text": [
      "Enter:6\n",
      "\n",
      "1\n",
      "22\n",
      "333\n",
      "4444\n",
      "55555\n",
      "666666\n"
     ]
    }
   ],
   "source": [
    "rows=int(input(\"Enter:\"))\n",
    "for i in range(0,rows+1):\n",
    "    for j in range(i):\n",
    "        print(i,end='')\n",
    "    print()"
   ]
  },
  {
   "cell_type": "code",
   "execution_count": 33,
   "id": "01d1fdf3",
   "metadata": {},
   "outputs": [
    {
     "name": "stdout",
     "output_type": "stream",
     "text": [
      "5 4\n",
      "nrick\n"
     ]
    }
   ],
   "source": [
    "for i in range(4,11):\n",
    "    print(i+1,i)\n",
    "    break;\n",
    "else:\n",
    "    print(\"broke\")\n",
    "print('nrick')"
   ]
  },
  {
   "cell_type": "code",
   "execution_count": 34,
   "id": "6ed6fef0",
   "metadata": {},
   "outputs": [
    {
     "name": "stdout",
     "output_type": "stream",
     "text": [
      "Enter the number:10\n",
      "10 X 0 = 0 \n",
      "\n",
      "10 X 1 = 10 \n",
      "\n",
      "10 X 2 = 20 \n",
      "\n",
      "10 X 3 = 30 \n",
      "\n",
      "10 X 4 = 40 \n",
      "\n",
      "10 X 5 = 50 \n",
      "\n",
      "10 X 6 = 60 \n",
      "\n",
      "10 X 7 = 70 \n",
      "\n",
      "10 X 8 = 80 \n",
      "\n",
      "10 X 9 = 90 \n",
      "\n",
      "10 X 10 = 100 \n",
      "\n"
     ]
    }
   ],
   "source": [
    "i=0         \n",
    "number = int(input(\"Enter the number:\"))    \n",
    "while i<=10:    \n",
    "    print(\"%d X %d = %d \\n\"%(number,i,number*i))    \n",
    "    i = i+1    "
   ]
  },
  {
   "cell_type": "code",
   "execution_count": 35,
   "id": "304fcc56",
   "metadata": {},
   "outputs": [
    {
     "name": "stdout",
     "output_type": "stream",
     "text": [
      "1\n",
      "2\n",
      "3\n",
      "4\n",
      "5\n",
      "The while loop exhausted\n"
     ]
    }
   ],
   "source": [
    "k=1   \n",
    "while(k<=5):    \n",
    "    print(k)    \n",
    "    k=k+1    \n",
    "else:  \n",
    "    print(\"The while loop exhausted\")    "
   ]
  },
  {
   "cell_type": "code",
   "execution_count": 36,
   "id": "4327d02d",
   "metadata": {},
   "outputs": [
    {
     "name": "stdout",
     "output_type": "stream",
     "text": [
      "1\n",
      "2\n"
     ]
    }
   ],
   "source": [
    "k=1    \n",
    "while(k<=5):    \n",
    "    print(k)    \n",
    "    k=k+1    \n",
    "    if(k==3):    \n",
    "        break   \n",
    "else:  \n",
    "    print(\"The while loop exhausted\") "
   ]
  },
  {
   "cell_type": "code",
   "execution_count": 37,
   "id": "c75a27a9",
   "metadata": {},
   "outputs": [
    {
     "name": "stdout",
     "output_type": "stream",
     "text": [
      "Enter the terms 10\n",
      "Fibonacci sequence:\n",
      "0 1 1 2 3 5 8 13 21 34 "
     ]
    }
   ],
   "source": [
    "terms = int(input(\"Enter the terms \"))  \n",
    "# first two intial terms  \n",
    "a = 0  \n",
    "b = 1  \n",
    "count = 0  \n",
    "  \n",
    "# check if the number of terms is Zero or negative  \n",
    "if (terms <= 0):  \n",
    "    print(\"Please enter a valid integer\")  \n",
    "elif (terms == 1):  \n",
    "    print(\"Fibonacci sequence upto\",limit,\":\")  \n",
    "    print(a)  \n",
    "else:  \n",
    "    print(\"Fibonacci sequence:\")  \n",
    "    while (count < terms) :  \n",
    "        print(a, end = ' ')  \n",
    "        c = a + b  \n",
    "       # updateing values  \n",
    "        a = b  \n",
    "        b = c  \n",
    "     \n",
    "        count += 1  "
   ]
  },
  {
   "cell_type": "code",
   "execution_count": 38,
   "id": "a8af0660",
   "metadata": {},
   "outputs": [
    {
     "name": "stdout",
     "output_type": "stream",
     "text": [
      "enter salary: 99000\n",
      "Gross Salary:  200970.0\n"
     ]
    }
   ],
   "source": [
    "#bs--->basic salary\n",
    "#gs--->gross salary\n",
    "bs=int(input(\"enter salary: \"))\n",
    "if(bs<1500):\n",
    "    hra=bs*10/100\n",
    "    da=bs*90/100\n",
    "elif(bs>=1500):\n",
    "    hra=bs*5/100\n",
    "    da=bs*98/100\n",
    "else:\n",
    "    print(\"invalid data\")\n",
    "gs=bs+hra+da\n",
    "print(\"Gross Salary: \",gs)"
   ]
  },
  {
   "cell_type": "code",
   "execution_count": 47,
   "id": "a05065a7",
   "metadata": {},
   "outputs": [
    {
     "name": "stdout",
     "output_type": "stream",
     "text": [
      "Enter a No.: 0\n",
      "No. is ZERO \n"
     ]
    }
   ],
   "source": [
    "#chk no. is +ve or -ve\n",
    "num=int(input(\"Enter a No.: \"))\n",
    "if(num>0):\n",
    "    print(\"No. is +ve \")\n",
    "elif(num==0):\n",
    "    print(\"No. is ZERO \")\n",
    "else:\n",
    "    print(\"No. is -ve \")"
   ]
  },
  {
   "cell_type": "code",
   "execution_count": 50,
   "id": "ccb7bdf1",
   "metadata": {},
   "outputs": [
    {
     "name": "stdout",
     "output_type": "stream",
     "text": [
      "enter no.: 9\n",
      "+ve with no 0 value\n"
     ]
    }
   ],
   "source": [
    "num=int(input(\"enter no.: \"))\n",
    "if(num>=0):\n",
    "    if(num==0):\n",
    "        print(\"+ve with value 0\")\n",
    "    else:\n",
    "        print(\"+ve with no 0 value\")\n",
    "else:\n",
    "    print(\"-ve no.\")"
   ]
  },
  {
   "cell_type": "code",
   "execution_count": 43,
   "id": "e68e7115",
   "metadata": {},
   "outputs": [
    {
     "name": "stdout",
     "output_type": "stream",
     "text": [
      "enter percentage: 60\n",
      "1st Division\n"
     ]
    }
   ],
   "source": [
    "per=int(input(\"enter percentage: \"))\n",
    "if(per>=60):\n",
    "    print(\"1st Division\")\n",
    "elif(per>=50):\n",
    "    print(\"2nd Division\")\n",
    "elif(per>=40):\n",
    "    print(\"3rd Division\")\n",
    "else:\n",
    "    print(\"FAIL\")"
   ]
  },
  {
   "cell_type": "code",
   "execution_count": 51,
   "id": "d17c3cc5",
   "metadata": {},
   "outputs": [
    {
     "name": "stdout",
     "output_type": "stream",
     "text": [
      "Larger is b\n"
     ]
    }
   ],
   "source": [
    "a=20.07\n",
    "b=700\n",
    "c=99.0  \n",
    "if(a>=b)and(a>=c):\n",
    "    print(\"Larger is a\")\n",
    "elif(b>=c)and(b>=a):\n",
    "    print(\"Larger is b\")\n",
    "else:\n",
    "    print(\"Larger is c\")"
   ]
  },
  {
   "cell_type": "code",
   "execution_count": 55,
   "id": "2bceb07c",
   "metadata": {},
   "outputs": [
    {
     "name": "stdout",
     "output_type": "stream",
     "text": [
      "0\n",
      "3\n",
      "6\n",
      "9\n"
     ]
    }
   ],
   "source": [
    "n=0\n",
    "while(n<=9):\n",
    "    print(n)\n",
    "    n=n+3"
   ]
  },
  {
   "cell_type": "code",
   "execution_count": null,
   "id": "07a658c0",
   "metadata": {},
   "outputs": [],
   "source": []
  }
 ],
 "metadata": {
  "kernelspec": {
   "display_name": "Python 3.9.4 64-bit ('tensorflow': conda)",
   "language": "python",
   "name": "python394jvsc74a57bd0552044c7f615bc91dd29daeed772dba6fe20322e36f3e727f3c4957fbbcfc56d"
  },
  "language_info": {
   "codemirror_mode": {
    "name": "ipython",
    "version": 3
   },
   "file_extension": ".py",
   "mimetype": "text/x-python",
   "name": "python",
   "nbconvert_exporter": "python",
   "pygments_lexer": "ipython3",
   "version": "3.9.4"
  }
 },
 "nbformat": 4,
 "nbformat_minor": 5
}
