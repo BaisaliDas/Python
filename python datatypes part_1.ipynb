{
 "cells": [
  {
   "cell_type": "markdown",
   "id": "375b7038",
   "metadata": {},
   "source": [
    "## DATA TYPES"
   ]
  },
  {
   "cell_type": "markdown",
   "id": "555c1775",
   "metadata": {},
   "source": [
    "- In Python we don't need to declare datatype of vriables."
   ]
  },
  {
   "cell_type": "markdown",
   "id": "4dff41a4",
   "metadata": {},
   "source": [
    "#### Python datatypes:\n",
    "-    IMMUTABLE \n",
    "        - Numbers          \n",
    "        - Strings          \n",
    "        - Tuples\n",
    "-    MUTABLE\n",
    "        - Lists\n",
    "        - Dictionaries\n",
    "        - Sets\n"
   ]
  },
  {
   "cell_type": "markdown",
   "id": "e53c50ea",
   "metadata": {},
   "source": [
    "#### IMMUTABLE\n",
    "- $immutable$, means that changing the value of a number data type results in a new allocated obj."
   ]
  },
  {
   "cell_type": "markdown",
   "id": "2719a70c",
   "metadata": {},
   "source": [
    "##### Strings\n",
    "    - are sequence of charcater string\n",
    "    - are built-in-function\n",
    "    - multi-line strings can be denoted by using triple quotes, \"\"\" or \"\"\".\n",
    "   - example:\n",
    "        - sample='wlcm by'\n",
    "        - h= \"hi fellows\""
   ]
  },
  {
   "cell_type": "code",
   "execution_count": 7,
   "id": "f63b3e3e",
   "metadata": {},
   "outputs": [
    {
     "ename": "SyntaxError",
     "evalue": "invalid syntax (<ipython-input-7-e34fa6b1cb60>, line 1)",
     "output_type": "error",
     "traceback": [
      "\u001b[1;36m  File \u001b[1;32m\"<ipython-input-7-e34fa6b1cb60>\"\u001b[1;36m, line \u001b[1;32m1\u001b[0m\n\u001b[1;33m    'hi it's me!!'\u001b[0m\n\u001b[1;37m           ^\u001b[0m\n\u001b[1;31mSyntaxError\u001b[0m\u001b[1;31m:\u001b[0m invalid syntax\n"
     ]
    }
   ],
   "source": [
    "'hi it's me!!'"
   ]
  },
  {
   "cell_type": "code",
   "execution_count": 8,
   "id": "84866f77",
   "metadata": {},
   "outputs": [
    {
     "data": {
      "text/plain": [
       "\"hi it's me!!\""
      ]
     },
     "execution_count": 8,
     "metadata": {},
     "output_type": "execute_result"
    }
   ],
   "source": [
    "\"hi it's me!!\""
   ]
  },
  {
   "cell_type": "markdown",
   "id": "f412948e",
   "metadata": {},
   "source": [
    "##### string operations:\n",
    "- $slicing$\n",
    "- $repetition$\n",
    "- $concatenate$\n",
    "- $indexing$"
   ]
  },
  {
   "cell_type": "markdown",
   "id": "c5dbc266",
   "metadata": {},
   "source": [
    "##### string methods:\n",
    "- $startswith(str,beg=0,end=len(string))$\n",
    "- $find(str, beg=0, end=len(string))$\n",
    "- $index(str, beg=0, end=len(string))$\n",
    "- $rindex(str, beg=0, end=len(string))$\n",
    "- $join()$\n",
    "- $len(string)$\n",
    "- $capitalize()$\n",
    "- $replace()$\n",
    "- $split(str=\"\",num=string.count(str))$\n",
    "- $splitlines(num=string.count('\\n')$\n",
    "- $count(str,beg=0,end=len(string))$\n",
    "- $upper()$\n",
    "- $lower()$\n",
    "- $max()$\n",
    "- $min()$\n",
    "- $title()$\n",
    "- $isdecimal()$\n",
    "- $isalpha()$\n",
    "- $isalnum()$\n",
    "- $isdigit()$\n",
    "- $islower()$\n",
    "- $isupper()$\n",
    "- $isnumeric()$\n",
    "- $isspace()$\n",
    "- $istitle()$\n",
    "- $lstrip()$\n",
    "- $rstrip()$\n",
    "- $center(width,fillchar)$\n",
    "- $decode(encoding='UTF-8',errors='strict')$\n",
    "- $encode(encoding='UTF-8',errors='strict')$\n",
    "- $endswith(suffix, beg=0, end=len(string))$\n",
    "- $expandtabs(tabsize=8)$\n",
    "- $ljust(width[, fillchar])$\n",
    "- $maketrans()$\n",
    "- $swapcase()$\n",
    "- $strip([chars])$\n",
    "- $zfill(width)$\n",
    "- $translate(table.deletechars=\"\")$"
   ]
  },
  {
   "cell_type": "code",
   "execution_count": 31,
   "id": "459434e1",
   "metadata": {},
   "outputs": [
    {
     "data": {
      "text/plain": [
       "'l6'"
      ]
     },
     "execution_count": 31,
     "metadata": {},
     "output_type": "execute_result"
    }
   ],
   "source": [
    "a=\"sl66iceof6spam\"\n",
    "a[3:1]\n",
    "a[1:3]"
   ]
  },
  {
   "cell_type": "code",
   "execution_count": 28,
   "id": "4cbcc10e",
   "metadata": {},
   "outputs": [
    {
     "data": {
      "text/plain": [
       "\"'spam\""
      ]
     },
     "execution_count": 28,
     "metadata": {},
     "output_type": "execute_result"
    }
   ],
   "source": [
    "a[-5:]"
   ]
  },
  {
   "cell_type": "code",
   "execution_count": 36,
   "id": "cc2e90e6",
   "metadata": {},
   "outputs": [
    {
     "data": {
      "text/plain": [
       "'sl66iceo'"
      ]
     },
     "execution_count": 36,
     "metadata": {},
     "output_type": "execute_result"
    }
   ],
   "source": [
    "a[:-6]"
   ]
  },
  {
   "cell_type": "code",
   "execution_count": 35,
   "id": "8643d15d",
   "metadata": {},
   "outputs": [
    {
     "data": {
      "text/plain": [
       "'l66i'"
      ]
     },
     "execution_count": 35,
     "metadata": {},
     "output_type": "execute_result"
    }
   ],
   "source": [
    "a[1:5]"
   ]
  },
  {
   "cell_type": "code",
   "execution_count": 29,
   "id": "39e8ff03",
   "metadata": {},
   "outputs": [
    {
     "data": {
      "text/plain": [
       "'ceof'"
      ]
     },
     "execution_count": 29,
     "metadata": {},
     "output_type": "execute_result"
    }
   ],
   "source": [
    "a[3:-5]"
   ]
  },
  {
   "cell_type": "code",
   "execution_count": 33,
   "id": "aa2d60a3",
   "metadata": {},
   "outputs": [
    {
     "data": {
      "text/plain": [
       "14"
      ]
     },
     "execution_count": 33,
     "metadata": {},
     "output_type": "execute_result"
    }
   ],
   "source": [
    "len(a)"
   ]
  },
  {
   "cell_type": "code",
   "execution_count": 39,
   "id": "8bd57d87",
   "metadata": {},
   "outputs": [
    {
     "data": {
      "text/plain": [
       "'maps6foeci66ls'"
      ]
     },
     "execution_count": 39,
     "metadata": {},
     "output_type": "execute_result"
    }
   ],
   "source": [
    "a[::-1]"
   ]
  },
  {
   "cell_type": "code",
   "execution_count": 41,
   "id": "fede8a74",
   "metadata": {},
   "outputs": [
    {
     "data": {
      "text/plain": [
       "'SL66ICEOF6SPAM'"
      ]
     },
     "execution_count": 41,
     "metadata": {},
     "output_type": "execute_result"
    }
   ],
   "source": [
    "a.upper()"
   ]
  },
  {
   "cell_type": "code",
   "execution_count": 44,
   "id": "a036c79e",
   "metadata": {},
   "outputs": [
    {
     "data": {
      "text/plain": [
       "'s'"
      ]
     },
     "execution_count": 44,
     "metadata": {},
     "output_type": "execute_result"
    }
   ],
   "source": [
    "max(a)"
   ]
  },
  {
   "cell_type": "code",
   "execution_count": 45,
   "id": "8cf9277d",
   "metadata": {},
   "outputs": [
    {
     "data": {
      "text/plain": [
       "'6'"
      ]
     },
     "execution_count": 45,
     "metadata": {},
     "output_type": "execute_result"
    }
   ],
   "source": [
    "min(a)"
   ]
  },
  {
   "cell_type": "code",
   "execution_count": 46,
   "id": "e934b48c",
   "metadata": {},
   "outputs": [
    {
     "data": {
      "text/plain": [
       "False"
      ]
     },
     "execution_count": 46,
     "metadata": {},
     "output_type": "execute_result"
    }
   ],
   "source": [
    "a.isalpha()"
   ]
  },
  {
   "cell_type": "code",
   "execution_count": 72,
   "id": "ce1c3542",
   "metadata": {},
   "outputs": [],
   "source": [
    "x=\"hello\"\n",
    "x=x + \"_there \" + \" \"   # '+'--concatenate"
   ]
  },
  {
   "cell_type": "code",
   "execution_count": 70,
   "id": "fafa0863",
   "metadata": {},
   "outputs": [
    {
     "data": {
      "text/plain": [
       "'hello_there \\n hello_there \\n hello_there \\n '"
      ]
     },
     "execution_count": 70,
     "metadata": {},
     "output_type": "execute_result"
    }
   ],
   "source": [
    "x*3    # '*' -- repetition"
   ]
  },
  {
   "cell_type": "code",
   "execution_count": 68,
   "id": "b935af0d",
   "metadata": {},
   "outputs": [
    {
     "data": {
      "text/plain": [
       "39"
      ]
     },
     "execution_count": 68,
     "metadata": {},
     "output_type": "execute_result"
    }
   ],
   "source": [
    "len(x*3)"
   ]
  },
  {
   "cell_type": "code",
   "execution_count": 74,
   "id": "e1365c6a",
   "metadata": {},
   "outputs": [
    {
     "data": {
      "text/plain": [
       "'i am a stringAnd me too!and me too!\\n though i am much longer \\n than the others'"
      ]
     },
     "execution_count": 74,
     "metadata": {},
     "output_type": "execute_result"
    }
   ],
   "source": [
    "s='i am a string'\n",
    "s= s+ \"And me too!\" + 'and me too!\\n though i am much longer \\n than the others'\n",
    "s"
   ]
  },
  {
   "cell_type": "code",
   "execution_count": 84,
   "id": "2beef228",
   "metadata": {},
   "outputs": [
    {
     "data": {
      "text/plain": [
       "'U'"
      ]
     },
     "execution_count": 84,
     "metadata": {},
     "output_type": "execute_result"
    }
   ],
   "source": [
    "t=\"MURGIKAANDA\"\n",
    "t[1:3:4]"
   ]
  },
  {
   "cell_type": "code",
   "execution_count": 93,
   "id": "fa42821a",
   "metadata": {},
   "outputs": [
    {
     "data": {
      "text/plain": [
       "'murgikaanda'"
      ]
     },
     "execution_count": 93,
     "metadata": {},
     "output_type": "execute_result"
    }
   ],
   "source": [
    "t.lower()"
   ]
  },
  {
   "cell_type": "code",
   "execution_count": 97,
   "id": "88b672d9",
   "metadata": {},
   "outputs": [
    {
     "data": {
      "text/plain": [
       "['MURGIKAANDA']"
      ]
     },
     "execution_count": 97,
     "metadata": {},
     "output_type": "execute_result"
    }
   ],
   "source": [
    "t.split()"
   ]
  },
  {
   "cell_type": "code",
   "execution_count": 96,
   "id": "4162bed8",
   "metadata": {},
   "outputs": [
    {
     "data": {
      "text/plain": [
       "['MURGIK', '', 'ND', '']"
      ]
     },
     "execution_count": 96,
     "metadata": {},
     "output_type": "execute_result"
    }
   ],
   "source": [
    "t.split('A')"
   ]
  },
  {
   "cell_type": "code",
   "execution_count": 105,
   "id": "fe4084ee",
   "metadata": {},
   "outputs": [
    {
     "data": {
      "text/plain": [
       "'RGIKAA'"
      ]
     },
     "execution_count": 105,
     "metadata": {},
     "output_type": "execute_result"
    }
   ],
   "source": [
    "t[2:-3]"
   ]
  },
  {
   "cell_type": "code",
   "execution_count": 87,
   "id": "a62b037f",
   "metadata": {},
   "outputs": [
    {
     "data": {
      "text/plain": [
       "''"
      ]
     },
     "execution_count": 87,
     "metadata": {},
     "output_type": "execute_result"
    }
   ],
   "source": [
    "aa='abcdefghijk'\n",
    "aa[3:1]      # this is happend bcz it's in reverse "
   ]
  },
  {
   "cell_type": "code",
   "execution_count": 90,
   "id": "6a7406c3",
   "metadata": {},
   "outputs": [
    {
     "data": {
      "text/plain": [
       "'dc'"
      ]
     },
     "execution_count": 90,
     "metadata": {},
     "output_type": "execute_result"
    }
   ],
   "source": [
    "aa='abcdefghijk'\n",
    "aa[3:1:-1]"
   ]
  },
  {
   "cell_type": "code",
   "execution_count": 106,
   "id": "c8bd111b",
   "metadata": {},
   "outputs": [
    {
     "data": {
      "text/plain": [
       "'ABCDEFGHIJK'"
      ]
     },
     "execution_count": 106,
     "metadata": {},
     "output_type": "execute_result"
    }
   ],
   "source": [
    "aa.upper()"
   ]
  },
  {
   "cell_type": "code",
   "execution_count": 115,
   "id": "a503d2ed",
   "metadata": {},
   "outputs": [
    {
     "data": {
      "text/plain": [
       "3"
      ]
     },
     "execution_count": 115,
     "metadata": {},
     "output_type": "execute_result"
    }
   ],
   "source": [
    "aa.find('defghi')"
   ]
  },
  {
   "cell_type": "code",
   "execution_count": 120,
   "id": "5245dab9",
   "metadata": {},
   "outputs": [
    {
     "data": {
      "text/plain": [
       "['e', 'a', 's', 't', 'e', 'r', 'n']"
      ]
     },
     "execution_count": 120,
     "metadata": {},
     "output_type": "execute_result"
    }
   ],
   "source": [
    "w='e,a,s,t,e,r,n'\n",
    "w.split(',')"
   ]
  },
  {
   "cell_type": "code",
   "execution_count": 131,
   "id": "82f1db3b",
   "metadata": {},
   "outputs": [
    {
     "data": {
      "text/plain": [
       "1"
      ]
     },
     "execution_count": 131,
     "metadata": {},
     "output_type": "execute_result"
    }
   ],
   "source": [
    "w.count('e',0,6)"
   ]
  },
  {
   "cell_type": "code",
   "execution_count": 11,
   "id": "b5d75412",
   "metadata": {},
   "outputs": [
    {
     "name": "stdout",
     "output_type": "stream",
     "text": [
      "var[0]:  H\n",
      "var1[1:5]:  4 Pr\n"
     ]
    }
   ],
   "source": [
    "var='Hey Python_Users!!!'\n",
    "var1='P4 Program'\n",
    "print(\"var[0]: \", var[0])\n",
    "print(\"var1[1:5]: \", var1[1:5])"
   ]
  },
  {
   "cell_type": "code",
   "execution_count": 12,
   "id": "a47c264d",
   "metadata": {},
   "outputs": [
    {
     "name": "stdout",
     "output_type": "stream",
     "text": [
      "Updated String :-  Hey PyUsers\n"
     ]
    }
   ],
   "source": [
    "#updating string\n",
    "var='Hey Python_Users!!!'\n",
    "print(\"Updated String :- \", var[:6] + 'Users')"
   ]
  },
  {
   "cell_type": "code",
   "execution_count": 13,
   "id": "e63188f4",
   "metadata": {},
   "outputs": [],
   "source": [
    "d=\"Hi, I m %s and my age is %d !!!. Practice is more important than only reading books and do nothing. I may be a newbiee but we can explore if we get a chance but to get that we need to develope our skills.\" % ('Baisali', 22)"
   ]
  },
  {
   "cell_type": "code",
   "execution_count": 14,
   "id": "72ac62a7",
   "metadata": {},
   "outputs": [
    {
     "name": "stdout",
     "output_type": "stream",
     "text": [
      "Hi, I m Baisali and my age is 22 !!!. Practice is more important than only reading books and do nothing. I may be a newbiee but we can explore if we get a chance but to get that we need to develope our skills.\n"
     ]
    }
   ],
   "source": [
    "print(d)"
   ]
  },
  {
   "cell_type": "code",
   "execution_count": 18,
   "id": "c87b1b15",
   "metadata": {},
   "outputs": [
    {
     "name": "stdout",
     "output_type": "stream",
     "text": [
      "Python's triple quotes comes to the rescue by allowing strings to span multiple lines,\n",
      "TAB ( \t ) including verbatim NEWLINEs, TABs and any other special characters.\n",
      "NEWLINEs within the string, whether explicitly given like this within the brackets [ \n",
      " ], or jst a newline within the variable assignment 'll also show up.'\n",
      "\n"
     ]
    }
   ],
   "source": [
    "passage=\"\"\"Python's triple quotes comes to the rescue by allowing strings to span multiple lines,\n",
    "TAB ( \\t ) including verbatim NEWLINEs, TABs and any other special characters.\n",
    "NEWLINEs within the string, whether explicitly given like this within the brackets [ \\n ], or jst a newline within the variable assignment 'll also show up.'\n",
    "\"\"\"\n",
    "print(passage)"
   ]
  },
  {
   "cell_type": "code",
   "execution_count": 22,
   "id": "d52af7f3",
   "metadata": {},
   "outputs": [
    {
     "name": "stdout",
     "output_type": "stream",
     "text": [
      "\\nowhere\n",
      "\\\\nowhere\n"
     ]
    }
   ],
   "source": [
    "print('\\\\nowhere')\n",
    "print(r'\\\\nowhere')"
   ]
  },
  {
   "cell_type": "code",
   "execution_count": 24,
   "id": "58794ad5",
   "metadata": {},
   "outputs": [
    {
     "name": "stdout",
     "output_type": "stream",
     "text": [
      "ello, all!\n"
     ]
    }
   ],
   "source": [
    "print(u'ello, all!')"
   ]
  },
  {
   "cell_type": "markdown",
   "id": "18d1a33a",
   "metadata": {},
   "source": [
    "##### NUMBERS\n",
    "- Number data types store numeric values. "
   ]
  },
  {
   "cell_type": "code",
   "execution_count": 28,
   "id": "932184fd",
   "metadata": {},
   "outputs": [
    {
     "data": {
      "text/plain": [
       "{'name': 'Elena', 'age': 45, 'blood': 'O+'}"
      ]
     },
     "execution_count": 28,
     "metadata": {},
     "output_type": "execute_result"
    }
   ],
   "source": [
    "var3={\n",
    "    \"name\": \"Elena\",\n",
    "    \"age\": 45,\n",
    "    \"blood\": 'O+'\n",
    "}\n",
    "var3"
   ]
  },
  {
   "cell_type": "code",
   "execution_count": 30,
   "id": "ced7c292",
   "metadata": {},
   "outputs": [],
   "source": [
    "del var3[\"blood\"]"
   ]
  },
  {
   "cell_type": "code",
   "execution_count": 31,
   "id": "4cc7692c",
   "metadata": {},
   "outputs": [
    {
     "data": {
      "text/plain": [
       "{'name': 'Elena', 'age': 45}"
      ]
     },
     "execution_count": 31,
     "metadata": {},
     "output_type": "execute_result"
    }
   ],
   "source": [
    "var3"
   ]
  },
  {
   "cell_type": "code",
   "execution_count": 34,
   "id": "1a7e64a8",
   "metadata": {},
   "outputs": [
    {
     "data": {
      "text/plain": [
       "(6, 8)"
      ]
     },
     "execution_count": 34,
     "metadata": {},
     "output_type": "execute_result"
    }
   ],
   "source": [
    "4+2,2**3     #integer"
   ]
  },
  {
   "cell_type": "code",
   "execution_count": 36,
   "id": "da109427",
   "metadata": {},
   "outputs": [
    {
     "data": {
      "text/plain": [
       "(7.0, 2.0)"
      ]
     },
     "execution_count": 36,
     "metadata": {},
     "output_type": "execute_result"
    }
   ],
   "source": [
    "2.0+5,6/3  #float"
   ]
  },
  {
   "cell_type": "code",
   "execution_count": 40,
   "id": "c67410bb",
   "metadata": {},
   "outputs": [
    {
     "data": {
      "text/plain": [
       "((7+7j), (-77+36j))"
      ]
     },
     "execution_count": 40,
     "metadata": {},
     "output_type": "execute_result"
    }
   ],
   "source": [
    "(3+2j)+(4+5j),(2+9j)**2    #complex"
   ]
  },
  {
   "cell_type": "markdown",
   "id": "607e8189",
   "metadata": {},
   "source": [
    "#### TUPLES\n",
    "- It's a collection of obj. which ordered and immutable.\n",
    "- defined by using curve braces {}\n",
    "- difference between tuples & lists :\n",
    "                - tuples can't be changed unlike lists & tuples use parenthesis\n",
    "                - lists use square brackets []."
   ]
  },
  {
   "cell_type": "code",
   "execution_count": 71,
   "id": "4565ffa4",
   "metadata": {},
   "outputs": [
    {
     "data": {
      "text/plain": [
       "('Russia', 88)"
      ]
     },
     "execution_count": 71,
     "metadata": {},
     "output_type": "execute_result"
    }
   ],
   "source": [
    "country=('India','Russia',88,80)\n",
    "country[1:3]"
   ]
  },
  {
   "cell_type": "code",
   "execution_count": 67,
   "id": "ac521f83",
   "metadata": {},
   "outputs": [
    {
     "name": "stdout",
     "output_type": "stream",
     "text": [
      "(1.5, 77)\n",
      "(1.5, 77, 'a', 'by')\n"
     ]
    }
   ],
   "source": [
    "#updating tuples\n",
    "t22=(1.5,77)\n",
    "print(t2)\n",
    "t23=('a','by')\n",
    "print(t3)"
   ]
  },
  {
   "cell_type": "code",
   "execution_count": 68,
   "id": "a5639959",
   "metadata": {},
   "outputs": [],
   "source": [
    "t3=t22+t23"
   ]
  },
  {
   "cell_type": "code",
   "execution_count": 69,
   "id": "efbd5ca4",
   "metadata": {},
   "outputs": [
    {
     "data": {
      "text/plain": [
       "(1.5, 77, 'a', 'by')"
      ]
     },
     "execution_count": 69,
     "metadata": {},
     "output_type": "execute_result"
    }
   ],
   "source": [
    "t3"
   ]
  },
  {
   "cell_type": "code",
   "execution_count": 72,
   "id": "d35f3260",
   "metadata": {},
   "outputs": [
    {
     "name": "stdout",
     "output_type": "stream",
     "text": [
      "('India', 'Russia', 88, 80)\n",
      "after deleting country:\n"
     ]
    },
    {
     "ename": "NameError",
     "evalue": "name 'country' is not defined",
     "output_type": "error",
     "traceback": [
      "\u001b[1;31m---------------------------------------------------------------------------\u001b[0m",
      "\u001b[1;31mNameError\u001b[0m                                 Traceback (most recent call last)",
      "\u001b[1;32m<ipython-input-72-335972b33b3b>\u001b[0m in \u001b[0;36m<module>\u001b[1;34m\u001b[0m\n\u001b[0;32m      4\u001b[0m \u001b[1;32mdel\u001b[0m \u001b[0mcountry\u001b[0m\u001b[1;33m\u001b[0m\u001b[1;33m\u001b[0m\u001b[0m\n\u001b[0;32m      5\u001b[0m \u001b[0mprint\u001b[0m\u001b[1;33m(\u001b[0m\u001b[1;34m\"after deleting country:\"\u001b[0m\u001b[1;33m)\u001b[0m\u001b[1;33m\u001b[0m\u001b[1;33m\u001b[0m\u001b[0m\n\u001b[1;32m----> 6\u001b[1;33m \u001b[0mprint\u001b[0m\u001b[1;33m(\u001b[0m\u001b[0mcountry\u001b[0m\u001b[1;33m)\u001b[0m\u001b[1;33m\u001b[0m\u001b[1;33m\u001b[0m\u001b[0m\n\u001b[0m",
      "\u001b[1;31mNameError\u001b[0m: name 'country' is not defined"
     ]
    }
   ],
   "source": [
    "#delete tuple elements\n",
    "country=('India','Russia',88,80)\n",
    "print (country)\n",
    "del country\n",
    "print(\"after deleting country:\")\n",
    "print(country)"
   ]
  },
  {
   "cell_type": "markdown",
   "id": "4eb9eda4",
   "metadata": {},
   "source": [
    "* Error shown bcz tuple doesnot exist any more."
   ]
  },
  {
   "cell_type": "code",
   "execution_count": 83,
   "id": "77ef2650",
   "metadata": {},
   "outputs": [
    {
     "name": "stdout",
     "output_type": "stream",
     "text": [
      "6\n",
      "('a', 'b', 'c', 'd', 'e', 'f')\n",
      "helen!!!!!fewhelen!!!!!fewhelen!!!!!few\n",
      "(True, False)\n",
      "1\n",
      "2\n",
      "3\n"
     ]
    }
   ],
   "source": [
    "# tuple operations\n",
    "print(len((0,1,2,4,5,99)))  #length\n",
    "print((('a','b','c')+('d','e','f'))) #concatenate\n",
    "print(('helen!!!!!few')*3)   #repetition\n",
    "print((3 in (46,3,'a'), 6 not in('a','bc',6)))   #membership\n",
    "\n",
    "\n",
    "#iteration\n",
    "for x in (1,2,3):\n",
    "    print(x)"
   ]
  },
  {
   "cell_type": "code",
   "execution_count": 90,
   "id": "f03db13b",
   "metadata": {},
   "outputs": [],
   "source": [
    "l=('spam','Spam','SPAM!')"
   ]
  },
  {
   "cell_type": "code",
   "execution_count": 91,
   "id": "67adf799",
   "metadata": {},
   "outputs": [
    {
     "data": {
      "text/plain": [
       "('SPAM!', 'Spam', ('Spam', 'SPAM!'))"
      ]
     },
     "execution_count": 91,
     "metadata": {},
     "output_type": "execute_result"
    }
   ],
   "source": [
    "l[2],l[-2],l[1:]"
   ]
  },
  {
   "cell_type": "code",
   "execution_count": 98,
   "id": "e5cfcb84",
   "metadata": {},
   "outputs": [],
   "source": [
    "l2=('ham','Ham','HAM!',890)"
   ]
  },
  {
   "cell_type": "code",
   "execution_count": 113,
   "id": "df003ca1",
   "metadata": {},
   "outputs": [
    {
     "name": "stdout",
     "output_type": "stream",
     "text": [
      "4 3\n",
      "spam\n",
      "SPAM!\n"
     ]
    }
   ],
   "source": [
    "print(len(l2),len(l))\n",
    "print(max(l))\n",
    "#max(l2),min(l2) str & int can't be compared \n",
    "print(min(l))"
   ]
  },
  {
   "cell_type": "code",
   "execution_count": 114,
   "id": "4c68d199",
   "metadata": {},
   "outputs": [
    {
     "name": "stdout",
     "output_type": "stream",
     "text": [
      "Tuple elements :  (44, 'x', 'z', 'ADC')\n"
     ]
    }
   ],
   "source": [
    "#tup(seq)\n",
    "lst = [44, 'x', 'z', 'ADC']\n",
    "tup= tuple(lst)\n",
    "print(\"Tuple elements : \", tup)"
   ]
  },
  {
   "cell_type": "code",
   "execution_count": null,
   "id": "39c84951",
   "metadata": {},
   "outputs": [],
   "source": []
  }
 ],
 "metadata": {
  "kernelspec": {
   "display_name": "Python 3.9.4 64-bit ('tensorflow': conda)",
   "language": "python",
   "name": "python394jvsc74a57bd0552044c7f615bc91dd29daeed772dba6fe20322e36f3e727f3c4957fbbcfc56d"
  },
  "language_info": {
   "codemirror_mode": {
    "name": "ipython",
    "version": 3
   },
   "file_extension": ".py",
   "mimetype": "text/x-python",
   "name": "python",
   "nbconvert_exporter": "python",
   "pygments_lexer": "ipython3",
   "version": "3.9.4"
  }
 },
 "nbformat": 4,
 "nbformat_minor": 5
}
