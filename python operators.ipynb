{
 "cells": [
  {
   "cell_type": "code",
   "execution_count": 1,
   "id": "04d7da18",
   "metadata": {},
   "outputs": [],
   "source": [
    "a=12\n",
    "b=24"
   ]
  },
  {
   "cell_type": "code",
   "execution_count": 5,
   "id": "5b1d3d0a",
   "metadata": {},
   "outputs": [
    {
     "name": "stdout",
     "output_type": "stream",
     "text": [
      "36\n",
      "-12\n",
      "288\n",
      "0.5\n",
      "0\n",
      "79496847203390844133441536\n",
      "12\n"
     ]
    }
   ],
   "source": [
    "# Assignment Operators\n",
    "print(a+b)\n",
    "print(a-b)\n",
    "print(a*b)\n",
    "print(a/b)\n",
    "print(a//b)\n",
    "print(a**b)\n",
    "print(a%b)"
   ]
  },
  {
   "cell_type": "code",
   "execution_count": 9,
   "id": "71bc6733",
   "metadata": {},
   "outputs": [
    {
     "name": "stdout",
     "output_type": "stream",
     "text": [
      "False\n",
      "False\n",
      "True\n",
      "False\n",
      "True\n",
      "True\n"
     ]
    }
   ],
   "source": [
    "# Comparision Operators\n",
    "print(a==b)\n",
    "print(a>b)\n",
    "print(a<b)\n",
    "print(a>=b)\n",
    "print(a<=b)\n",
    "print(a!=b)"
   ]
  },
  {
   "cell_type": "code",
   "execution_count": 12,
   "id": "d44f261f",
   "metadata": {},
   "outputs": [
    {
     "data": {
      "text/plain": [
       "36"
      ]
     },
     "execution_count": 12,
     "metadata": {},
     "output_type": "execute_result"
    }
   ],
   "source": [
    "# Assignment Operators\n",
    "res=a+b\n",
    "res"
   ]
  },
  {
   "cell_type": "code",
   "execution_count": 15,
   "id": "b342df42",
   "metadata": {},
   "outputs": [
    {
     "data": {
      "text/plain": [
       "48"
      ]
     },
     "execution_count": 15,
     "metadata": {},
     "output_type": "execute_result"
    }
   ],
   "source": [
    "res1= res+a\n",
    "res1"
   ]
  },
  {
   "cell_type": "code",
   "execution_count": 16,
   "id": "12a02e78",
   "metadata": {},
   "outputs": [
    {
     "data": {
      "text/plain": [
       "24"
      ]
     },
     "execution_count": 16,
     "metadata": {},
     "output_type": "execute_result"
    }
   ],
   "source": [
    "res2= res-a\n",
    "res2"
   ]
  },
  {
   "cell_type": "code",
   "execution_count": 17,
   "id": "948d0f2f",
   "metadata": {},
   "outputs": [
    {
     "data": {
      "text/plain": [
       "432"
      ]
     },
     "execution_count": 17,
     "metadata": {},
     "output_type": "execute_result"
    }
   ],
   "source": [
    "c= res*a\n",
    "c"
   ]
  },
  {
   "cell_type": "code",
   "execution_count": 22,
   "id": "0ff61d02",
   "metadata": {},
   "outputs": [
    {
     "data": {
      "text/plain": [
       "4738381338321616896"
      ]
     },
     "execution_count": 22,
     "metadata": {},
     "output_type": "execute_result"
    }
   ],
   "source": [
    "d=res**a\n",
    "d"
   ]
  },
  {
   "cell_type": "code",
   "execution_count": 23,
   "id": "5cf7c2c0",
   "metadata": {},
   "outputs": [
    {
     "data": {
      "text/plain": [
       "36"
      ]
     },
     "execution_count": 23,
     "metadata": {},
     "output_type": "execute_result"
    }
   ],
   "source": [
    "e=c//a\n",
    "e"
   ]
  },
  {
   "cell_type": "code",
   "execution_count": 34,
   "id": "0e615416",
   "metadata": {},
   "outputs": [
    {
     "data": {
      "text/plain": [
       "(8, 28, 20, -37, 96, 3)"
      ]
     },
     "execution_count": 34,
     "metadata": {},
     "output_type": "execute_result"
    }
   ],
   "source": [
    "# Bitwise Operator\n",
    "a&b,a|b, a^b, ~res, b<<2, a>>2"
   ]
  },
  {
   "cell_type": "code",
   "execution_count": 59,
   "id": "a7f0337f",
   "metadata": {},
   "outputs": [
    {
     "name": "stdout",
     "output_type": "stream",
     "text": [
      "24\n",
      "12\n",
      "False\n"
     ]
    }
   ],
   "source": [
    "# logical operators\n",
    "print(a and b)\n",
    "print(a or b)\n",
    "print(not(a and b))"
   ]
  },
  {
   "cell_type": "code",
   "execution_count": 43,
   "id": "854b1308",
   "metadata": {},
   "outputs": [
    {
     "data": {
      "text/plain": [
       "False"
      ]
     },
     "execution_count": 43,
     "metadata": {},
     "output_type": "execute_result"
    }
   ],
   "source": [
    "# identity operators\n",
    "a is b"
   ]
  },
  {
   "cell_type": "code",
   "execution_count": 45,
   "id": "34e985e6",
   "metadata": {},
   "outputs": [
    {
     "data": {
      "text/plain": [
       "True"
      ]
     },
     "execution_count": 45,
     "metadata": {},
     "output_type": "execute_result"
    }
   ],
   "source": [
    "a is not b"
   ]
  },
  {
   "cell_type": "code",
   "execution_count": 64,
   "id": "55096077",
   "metadata": {},
   "outputs": [],
   "source": [
    "# Membership Operators\n",
    "t=\"Ram is in home\"\n",
    "y=\"no one is there\""
   ]
  },
  {
   "cell_type": "code",
   "execution_count": 65,
   "id": "5787bee8",
   "metadata": {},
   "outputs": [
    {
     "data": {
      "text/plain": [
       "False"
      ]
     },
     "execution_count": 65,
     "metadata": {},
     "output_type": "execute_result"
    }
   ],
   "source": [
    "t in y"
   ]
  },
  {
   "cell_type": "code",
   "execution_count": 66,
   "id": "f46f3ee1",
   "metadata": {},
   "outputs": [
    {
     "data": {
      "text/plain": [
       "True"
      ]
     },
     "execution_count": 66,
     "metadata": {},
     "output_type": "execute_result"
    }
   ],
   "source": [
    "t not in y"
   ]
  },
  {
   "cell_type": "code",
   "execution_count": null,
   "id": "34add11a",
   "metadata": {},
   "outputs": [],
   "source": []
  }
 ],
 "metadata": {
  "kernelspec": {
   "display_name": "Python 3.9.4 64-bit ('tensorflow': conda)",
   "language": "python",
   "name": "python394jvsc74a57bd0552044c7f615bc91dd29daeed772dba6fe20322e36f3e727f3c4957fbbcfc56d"
  },
  "language_info": {
   "codemirror_mode": {
    "name": "ipython",
    "version": 3
   },
   "file_extension": ".py",
   "mimetype": "text/x-python",
   "name": "python",
   "nbconvert_exporter": "python",
   "pygments_lexer": "ipython3",
   "version": "3.9.4"
  }
 },
 "nbformat": 4,
 "nbformat_minor": 5
}
